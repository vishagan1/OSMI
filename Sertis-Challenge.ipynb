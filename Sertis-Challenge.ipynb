{
 "cells": [
  {
   "cell_type": "markdown",
   "metadata": {},
   "source": [
    "# Mental Health in Tech Survey\n",
    "## Survey on Mental Health in the Tech Workplace in 2014"
   ]
  },
  {
   "cell_type": "code",
   "execution_count": 1,
   "metadata": {
    "collapsed": true
   },
   "outputs": [],
   "source": [
    "import pandas as pd\n",
    "import sklearn\n",
    "import numpy as np\n",
    "from sklearn import preprocessing\n",
    "from sklearn import linear_model\n",
    "from sklearn.ensemble import RandomForestClassifier\n",
    "import matplotlib.pyplot as plt\n",
    "from sklearn.cross_validation import cross_val_score\n",
    "from sklearn.metrics import roc_curve, auc\n",
    "from sklearn.cross_validation import train_test_split\n",
    "from sklearn.decomposition import PCA\n",
    "from sklearn.feature_selection import RFE \n",
    "from sklearn.preprocessing import LabelEncoder\n",
    "import seaborn as sns\n",
    "sns.set_style(\"whitegrid\")\n",
    "#sns.set_context(\"poster\")\n",
    "pd.set_option('display.max_rows',1000)\n",
    "%matplotlib inline"
   ]
  },
  {
   "cell_type": "markdown",
   "metadata": {},
   "source": [
    "# Goal\n",
    "### Goal of this project is to predict mental illness (sought treatment) with the given features by employing Machine Learning over a variety of models."
   ]
  },
  {
   "cell_type": "code",
   "execution_count": null,
   "metadata": {
    "collapsed": true
   },
   "outputs": [],
   "source": []
  },
  {
   "cell_type": "markdown",
   "metadata": {},
   "source": [
    "# Data Loading and Cleaning"
   ]
  },
  {
   "cell_type": "code",
   "execution_count": null,
   "metadata": {
    "collapsed": true
   },
   "outputs": [],
   "source": []
  },
  {
   "cell_type": "code",
   "execution_count": 2,
   "metadata": {
    "collapsed": true
   },
   "outputs": [],
   "source": [
    "data = pd.read_csv('./survey.csv')"
   ]
  },
  {
   "cell_type": "code",
   "execution_count": 3,
   "metadata": {
    "collapsed": true
   },
   "outputs": [],
   "source": [
    "data_raw = data.copy()"
   ]
  },
  {
   "cell_type": "code",
   "execution_count": 4,
   "metadata": {
    "collapsed": false
   },
   "outputs": [
    {
     "data": {
      "text/html": [
       "<div>\n",
       "<table border=\"1\" class=\"dataframe\">\n",
       "  <thead>\n",
       "    <tr style=\"text-align: right;\">\n",
       "      <th></th>\n",
       "      <th>0</th>\n",
       "      <th>1</th>\n",
       "      <th>2</th>\n",
       "      <th>3</th>\n",
       "      <th>4</th>\n",
       "    </tr>\n",
       "  </thead>\n",
       "  <tbody>\n",
       "    <tr>\n",
       "      <th>Timestamp</th>\n",
       "      <td>2014-08-27 11:29:31</td>\n",
       "      <td>2014-08-27 11:29:37</td>\n",
       "      <td>2014-08-27 11:29:44</td>\n",
       "      <td>2014-08-27 11:29:46</td>\n",
       "      <td>2014-08-27 11:30:22</td>\n",
       "    </tr>\n",
       "    <tr>\n",
       "      <th>Age</th>\n",
       "      <td>37</td>\n",
       "      <td>44</td>\n",
       "      <td>32</td>\n",
       "      <td>31</td>\n",
       "      <td>31</td>\n",
       "    </tr>\n",
       "    <tr>\n",
       "      <th>Gender</th>\n",
       "      <td>Female</td>\n",
       "      <td>M</td>\n",
       "      <td>Male</td>\n",
       "      <td>Male</td>\n",
       "      <td>Male</td>\n",
       "    </tr>\n",
       "    <tr>\n",
       "      <th>Country</th>\n",
       "      <td>United States</td>\n",
       "      <td>United States</td>\n",
       "      <td>Canada</td>\n",
       "      <td>United Kingdom</td>\n",
       "      <td>United States</td>\n",
       "    </tr>\n",
       "    <tr>\n",
       "      <th>state</th>\n",
       "      <td>IL</td>\n",
       "      <td>IN</td>\n",
       "      <td>NaN</td>\n",
       "      <td>NaN</td>\n",
       "      <td>TX</td>\n",
       "    </tr>\n",
       "    <tr>\n",
       "      <th>self_employed</th>\n",
       "      <td>NaN</td>\n",
       "      <td>NaN</td>\n",
       "      <td>NaN</td>\n",
       "      <td>NaN</td>\n",
       "      <td>NaN</td>\n",
       "    </tr>\n",
       "    <tr>\n",
       "      <th>family_history</th>\n",
       "      <td>No</td>\n",
       "      <td>No</td>\n",
       "      <td>No</td>\n",
       "      <td>Yes</td>\n",
       "      <td>No</td>\n",
       "    </tr>\n",
       "    <tr>\n",
       "      <th>treatment</th>\n",
       "      <td>Yes</td>\n",
       "      <td>No</td>\n",
       "      <td>No</td>\n",
       "      <td>Yes</td>\n",
       "      <td>No</td>\n",
       "    </tr>\n",
       "    <tr>\n",
       "      <th>work_interfere</th>\n",
       "      <td>Often</td>\n",
       "      <td>Rarely</td>\n",
       "      <td>Rarely</td>\n",
       "      <td>Often</td>\n",
       "      <td>Never</td>\n",
       "    </tr>\n",
       "    <tr>\n",
       "      <th>no_employees</th>\n",
       "      <td>6-25</td>\n",
       "      <td>More than 1000</td>\n",
       "      <td>6-25</td>\n",
       "      <td>26-100</td>\n",
       "      <td>100-500</td>\n",
       "    </tr>\n",
       "    <tr>\n",
       "      <th>remote_work</th>\n",
       "      <td>No</td>\n",
       "      <td>No</td>\n",
       "      <td>No</td>\n",
       "      <td>No</td>\n",
       "      <td>Yes</td>\n",
       "    </tr>\n",
       "    <tr>\n",
       "      <th>tech_company</th>\n",
       "      <td>Yes</td>\n",
       "      <td>No</td>\n",
       "      <td>Yes</td>\n",
       "      <td>Yes</td>\n",
       "      <td>Yes</td>\n",
       "    </tr>\n",
       "    <tr>\n",
       "      <th>benefits</th>\n",
       "      <td>Yes</td>\n",
       "      <td>Don't know</td>\n",
       "      <td>No</td>\n",
       "      <td>No</td>\n",
       "      <td>Yes</td>\n",
       "    </tr>\n",
       "    <tr>\n",
       "      <th>care_options</th>\n",
       "      <td>Not sure</td>\n",
       "      <td>No</td>\n",
       "      <td>No</td>\n",
       "      <td>Yes</td>\n",
       "      <td>No</td>\n",
       "    </tr>\n",
       "    <tr>\n",
       "      <th>wellness_program</th>\n",
       "      <td>No</td>\n",
       "      <td>Don't know</td>\n",
       "      <td>No</td>\n",
       "      <td>No</td>\n",
       "      <td>Don't know</td>\n",
       "    </tr>\n",
       "    <tr>\n",
       "      <th>seek_help</th>\n",
       "      <td>Yes</td>\n",
       "      <td>Don't know</td>\n",
       "      <td>No</td>\n",
       "      <td>No</td>\n",
       "      <td>Don't know</td>\n",
       "    </tr>\n",
       "    <tr>\n",
       "      <th>anonymity</th>\n",
       "      <td>Yes</td>\n",
       "      <td>Don't know</td>\n",
       "      <td>Don't know</td>\n",
       "      <td>No</td>\n",
       "      <td>Don't know</td>\n",
       "    </tr>\n",
       "    <tr>\n",
       "      <th>leave</th>\n",
       "      <td>Somewhat easy</td>\n",
       "      <td>Don't know</td>\n",
       "      <td>Somewhat difficult</td>\n",
       "      <td>Somewhat difficult</td>\n",
       "      <td>Don't know</td>\n",
       "    </tr>\n",
       "    <tr>\n",
       "      <th>mental_health_consequence</th>\n",
       "      <td>No</td>\n",
       "      <td>Maybe</td>\n",
       "      <td>No</td>\n",
       "      <td>Yes</td>\n",
       "      <td>No</td>\n",
       "    </tr>\n",
       "    <tr>\n",
       "      <th>phys_health_consequence</th>\n",
       "      <td>No</td>\n",
       "      <td>No</td>\n",
       "      <td>No</td>\n",
       "      <td>Yes</td>\n",
       "      <td>No</td>\n",
       "    </tr>\n",
       "    <tr>\n",
       "      <th>coworkers</th>\n",
       "      <td>Some of them</td>\n",
       "      <td>No</td>\n",
       "      <td>Yes</td>\n",
       "      <td>Some of them</td>\n",
       "      <td>Some of them</td>\n",
       "    </tr>\n",
       "    <tr>\n",
       "      <th>supervisor</th>\n",
       "      <td>Yes</td>\n",
       "      <td>No</td>\n",
       "      <td>Yes</td>\n",
       "      <td>No</td>\n",
       "      <td>Yes</td>\n",
       "    </tr>\n",
       "    <tr>\n",
       "      <th>mental_health_interview</th>\n",
       "      <td>No</td>\n",
       "      <td>No</td>\n",
       "      <td>Yes</td>\n",
       "      <td>Maybe</td>\n",
       "      <td>Yes</td>\n",
       "    </tr>\n",
       "    <tr>\n",
       "      <th>phys_health_interview</th>\n",
       "      <td>Maybe</td>\n",
       "      <td>No</td>\n",
       "      <td>Yes</td>\n",
       "      <td>Maybe</td>\n",
       "      <td>Yes</td>\n",
       "    </tr>\n",
       "    <tr>\n",
       "      <th>mental_vs_physical</th>\n",
       "      <td>Yes</td>\n",
       "      <td>Don't know</td>\n",
       "      <td>No</td>\n",
       "      <td>No</td>\n",
       "      <td>Don't know</td>\n",
       "    </tr>\n",
       "    <tr>\n",
       "      <th>obs_consequence</th>\n",
       "      <td>No</td>\n",
       "      <td>No</td>\n",
       "      <td>No</td>\n",
       "      <td>Yes</td>\n",
       "      <td>No</td>\n",
       "    </tr>\n",
       "    <tr>\n",
       "      <th>comments</th>\n",
       "      <td>NaN</td>\n",
       "      <td>NaN</td>\n",
       "      <td>NaN</td>\n",
       "      <td>NaN</td>\n",
       "      <td>NaN</td>\n",
       "    </tr>\n",
       "  </tbody>\n",
       "</table>\n",
       "</div>"
      ],
      "text/plain": [
       "                                             0                    1  \\\n",
       "Timestamp                  2014-08-27 11:29:31  2014-08-27 11:29:37   \n",
       "Age                                         37                   44   \n",
       "Gender                                  Female                    M   \n",
       "Country                          United States        United States   \n",
       "state                                       IL                   IN   \n",
       "self_employed                              NaN                  NaN   \n",
       "family_history                              No                   No   \n",
       "treatment                                  Yes                   No   \n",
       "work_interfere                           Often               Rarely   \n",
       "no_employees                              6-25       More than 1000   \n",
       "remote_work                                 No                   No   \n",
       "tech_company                               Yes                   No   \n",
       "benefits                                   Yes           Don't know   \n",
       "care_options                          Not sure                   No   \n",
       "wellness_program                            No           Don't know   \n",
       "seek_help                                  Yes           Don't know   \n",
       "anonymity                                  Yes           Don't know   \n",
       "leave                            Somewhat easy           Don't know   \n",
       "mental_health_consequence                   No                Maybe   \n",
       "phys_health_consequence                     No                   No   \n",
       "coworkers                         Some of them                   No   \n",
       "supervisor                                 Yes                   No   \n",
       "mental_health_interview                     No                   No   \n",
       "phys_health_interview                    Maybe                   No   \n",
       "mental_vs_physical                         Yes           Don't know   \n",
       "obs_consequence                             No                   No   \n",
       "comments                                   NaN                  NaN   \n",
       "\n",
       "                                             2                    3  \\\n",
       "Timestamp                  2014-08-27 11:29:44  2014-08-27 11:29:46   \n",
       "Age                                         32                   31   \n",
       "Gender                                    Male                 Male   \n",
       "Country                                 Canada       United Kingdom   \n",
       "state                                      NaN                  NaN   \n",
       "self_employed                              NaN                  NaN   \n",
       "family_history                              No                  Yes   \n",
       "treatment                                   No                  Yes   \n",
       "work_interfere                          Rarely                Often   \n",
       "no_employees                              6-25               26-100   \n",
       "remote_work                                 No                   No   \n",
       "tech_company                               Yes                  Yes   \n",
       "benefits                                    No                   No   \n",
       "care_options                                No                  Yes   \n",
       "wellness_program                            No                   No   \n",
       "seek_help                                   No                   No   \n",
       "anonymity                           Don't know                   No   \n",
       "leave                       Somewhat difficult   Somewhat difficult   \n",
       "mental_health_consequence                   No                  Yes   \n",
       "phys_health_consequence                     No                  Yes   \n",
       "coworkers                                  Yes         Some of them   \n",
       "supervisor                                 Yes                   No   \n",
       "mental_health_interview                    Yes                Maybe   \n",
       "phys_health_interview                      Yes                Maybe   \n",
       "mental_vs_physical                          No                   No   \n",
       "obs_consequence                             No                  Yes   \n",
       "comments                                   NaN                  NaN   \n",
       "\n",
       "                                             4  \n",
       "Timestamp                  2014-08-27 11:30:22  \n",
       "Age                                         31  \n",
       "Gender                                    Male  \n",
       "Country                          United States  \n",
       "state                                       TX  \n",
       "self_employed                              NaN  \n",
       "family_history                              No  \n",
       "treatment                                   No  \n",
       "work_interfere                           Never  \n",
       "no_employees                           100-500  \n",
       "remote_work                                Yes  \n",
       "tech_company                               Yes  \n",
       "benefits                                   Yes  \n",
       "care_options                                No  \n",
       "wellness_program                    Don't know  \n",
       "seek_help                           Don't know  \n",
       "anonymity                           Don't know  \n",
       "leave                               Don't know  \n",
       "mental_health_consequence                   No  \n",
       "phys_health_consequence                     No  \n",
       "coworkers                         Some of them  \n",
       "supervisor                                 Yes  \n",
       "mental_health_interview                    Yes  \n",
       "phys_health_interview                      Yes  \n",
       "mental_vs_physical                  Don't know  \n",
       "obs_consequence                             No  \n",
       "comments                                   NaN  "
      ]
     },
     "execution_count": 4,
     "metadata": {},
     "output_type": "execute_result"
    }
   ],
   "source": [
    "data.head().T"
   ]
  },
  {
   "cell_type": "code",
   "execution_count": 5,
   "metadata": {
    "collapsed": false
   },
   "outputs": [
    {
     "data": {
      "text/plain": [
       "Index([u'Timestamp', u'Age', u'Gender', u'Country', u'state', u'self_employed',\n",
       "       u'family_history', u'treatment', u'work_interfere', u'no_employees',\n",
       "       u'remote_work', u'tech_company', u'benefits', u'care_options',\n",
       "       u'wellness_program', u'seek_help', u'anonymity', u'leave',\n",
       "       u'mental_health_consequence', u'phys_health_consequence', u'coworkers',\n",
       "       u'supervisor', u'mental_health_interview', u'phys_health_interview',\n",
       "       u'mental_vs_physical', u'obs_consequence', u'comments'],\n",
       "      dtype='object')"
      ]
     },
     "execution_count": 5,
     "metadata": {},
     "output_type": "execute_result"
    }
   ],
   "source": [
    "# What are the features\n",
    "data.columns"
   ]
  },
  {
   "cell_type": "code",
   "execution_count": 6,
   "metadata": {
    "collapsed": false
   },
   "outputs": [
    {
     "data": {
      "text/plain": [
       "array([dtype('O'), dtype('int64')], dtype=object)"
      ]
     },
     "execution_count": 6,
     "metadata": {},
     "output_type": "execute_result"
    }
   ],
   "source": [
    "# What types of data\n",
    "data.dtypes.unique()"
   ]
  },
  {
   "cell_type": "code",
   "execution_count": 7,
   "metadata": {
    "collapsed": true
   },
   "outputs": [],
   "source": [
    "# Delete 'Timestamp' column for a start since we assume that the date a record is collected, is not predictive.\n",
    "del data['Timestamp']"
   ]
  },
  {
   "cell_type": "code",
   "execution_count": 8,
   "metadata": {
    "collapsed": false
   },
   "outputs": [
    {
     "data": {
      "text/plain": [
       "Index([u'state', u'self_employed', u'work_interfere', u'comments'], dtype='object')"
      ]
     },
     "execution_count": 8,
     "metadata": {},
     "output_type": "execute_result"
    }
   ],
   "source": [
    "# Which Columns contain null data\n",
    "data.columns[data.isnull().any()]"
   ]
  },
  {
   "cell_type": "code",
   "execution_count": 9,
   "metadata": {
    "collapsed": false
   },
   "outputs": [
    {
     "data": {
      "text/plain": [
       "comments                     0.869738\n",
       "state                        0.409055\n",
       "work_interfere               0.209690\n",
       "self_employed                0.014297\n",
       "obs_consequence              0.000000\n",
       "Gender                       0.000000\n",
       "Country                      0.000000\n",
       "family_history               0.000000\n",
       "treatment                    0.000000\n",
       "no_employees                 0.000000\n",
       "remote_work                  0.000000\n",
       "tech_company                 0.000000\n",
       "benefits                     0.000000\n",
       "care_options                 0.000000\n",
       "wellness_program             0.000000\n",
       "seek_help                    0.000000\n",
       "anonymity                    0.000000\n",
       "leave                        0.000000\n",
       "mental_health_consequence    0.000000\n",
       "phys_health_consequence      0.000000\n",
       "coworkers                    0.000000\n",
       "supervisor                   0.000000\n",
       "mental_health_interview      0.000000\n",
       "phys_health_interview        0.000000\n",
       "mental_vs_physical           0.000000\n",
       "Age                          0.000000\n",
       "dtype: float64"
      ]
     },
     "execution_count": 9,
     "metadata": {},
     "output_type": "execute_result"
    }
   ],
   "source": [
    "# What's the coverage\n",
    "data.isnull().mean().sort_values(ascending = False)"
   ]
  },
  {
   "cell_type": "code",
   "execution_count": 10,
   "metadata": {
    "collapsed": false
   },
   "outputs": [],
   "source": [
    "# Delete 'comments' columns as it seems unimportant and has a large percentage of missing data\n",
    "del data['comments']"
   ]
  },
  {
   "cell_type": "code",
   "execution_count": 11,
   "metadata": {
    "collapsed": true
   },
   "outputs": [],
   "source": [
    "# Handle the remaining missing data\n",
    "data['state'] = data['state'].fillna('unknown')\n",
    "data['work_interfere'] = data['work_interfere'].fillna('unknown')\n",
    "data['self_employed'] = data['self_employed'].fillna('unknown')"
   ]
  },
  {
   "cell_type": "code",
   "execution_count": 12,
   "metadata": {
    "collapsed": false
   },
   "outputs": [
    {
     "data": {
      "text/html": [
       "<div>\n",
       "<table border=\"1\" class=\"dataframe\">\n",
       "  <thead>\n",
       "    <tr style=\"text-align: right;\">\n",
       "      <th></th>\n",
       "      <th>count</th>\n",
       "      <th>unique</th>\n",
       "      <th>top</th>\n",
       "      <th>freq</th>\n",
       "      <th>mean</th>\n",
       "      <th>std</th>\n",
       "      <th>min</th>\n",
       "      <th>25%</th>\n",
       "      <th>50%</th>\n",
       "      <th>75%</th>\n",
       "      <th>max</th>\n",
       "    </tr>\n",
       "  </thead>\n",
       "  <tbody>\n",
       "    <tr>\n",
       "      <th>Age</th>\n",
       "      <td>1259</td>\n",
       "      <td>NaN</td>\n",
       "      <td>NaN</td>\n",
       "      <td>NaN</td>\n",
       "      <td>7.94281e+07</td>\n",
       "      <td>2.8183e+09</td>\n",
       "      <td>-1726</td>\n",
       "      <td>27</td>\n",
       "      <td>31</td>\n",
       "      <td>36</td>\n",
       "      <td>1e+11</td>\n",
       "    </tr>\n",
       "    <tr>\n",
       "      <th>Gender</th>\n",
       "      <td>1259</td>\n",
       "      <td>49</td>\n",
       "      <td>Male</td>\n",
       "      <td>615</td>\n",
       "      <td>NaN</td>\n",
       "      <td>NaN</td>\n",
       "      <td>NaN</td>\n",
       "      <td>NaN</td>\n",
       "      <td>NaN</td>\n",
       "      <td>NaN</td>\n",
       "      <td>NaN</td>\n",
       "    </tr>\n",
       "    <tr>\n",
       "      <th>Country</th>\n",
       "      <td>1259</td>\n",
       "      <td>48</td>\n",
       "      <td>United States</td>\n",
       "      <td>751</td>\n",
       "      <td>NaN</td>\n",
       "      <td>NaN</td>\n",
       "      <td>NaN</td>\n",
       "      <td>NaN</td>\n",
       "      <td>NaN</td>\n",
       "      <td>NaN</td>\n",
       "      <td>NaN</td>\n",
       "    </tr>\n",
       "    <tr>\n",
       "      <th>state</th>\n",
       "      <td>1259</td>\n",
       "      <td>46</td>\n",
       "      <td>unknown</td>\n",
       "      <td>515</td>\n",
       "      <td>NaN</td>\n",
       "      <td>NaN</td>\n",
       "      <td>NaN</td>\n",
       "      <td>NaN</td>\n",
       "      <td>NaN</td>\n",
       "      <td>NaN</td>\n",
       "      <td>NaN</td>\n",
       "    </tr>\n",
       "    <tr>\n",
       "      <th>self_employed</th>\n",
       "      <td>1259</td>\n",
       "      <td>3</td>\n",
       "      <td>No</td>\n",
       "      <td>1095</td>\n",
       "      <td>NaN</td>\n",
       "      <td>NaN</td>\n",
       "      <td>NaN</td>\n",
       "      <td>NaN</td>\n",
       "      <td>NaN</td>\n",
       "      <td>NaN</td>\n",
       "      <td>NaN</td>\n",
       "    </tr>\n",
       "    <tr>\n",
       "      <th>family_history</th>\n",
       "      <td>1259</td>\n",
       "      <td>2</td>\n",
       "      <td>No</td>\n",
       "      <td>767</td>\n",
       "      <td>NaN</td>\n",
       "      <td>NaN</td>\n",
       "      <td>NaN</td>\n",
       "      <td>NaN</td>\n",
       "      <td>NaN</td>\n",
       "      <td>NaN</td>\n",
       "      <td>NaN</td>\n",
       "    </tr>\n",
       "    <tr>\n",
       "      <th>treatment</th>\n",
       "      <td>1259</td>\n",
       "      <td>2</td>\n",
       "      <td>Yes</td>\n",
       "      <td>637</td>\n",
       "      <td>NaN</td>\n",
       "      <td>NaN</td>\n",
       "      <td>NaN</td>\n",
       "      <td>NaN</td>\n",
       "      <td>NaN</td>\n",
       "      <td>NaN</td>\n",
       "      <td>NaN</td>\n",
       "    </tr>\n",
       "    <tr>\n",
       "      <th>work_interfere</th>\n",
       "      <td>1259</td>\n",
       "      <td>5</td>\n",
       "      <td>Sometimes</td>\n",
       "      <td>465</td>\n",
       "      <td>NaN</td>\n",
       "      <td>NaN</td>\n",
       "      <td>NaN</td>\n",
       "      <td>NaN</td>\n",
       "      <td>NaN</td>\n",
       "      <td>NaN</td>\n",
       "      <td>NaN</td>\n",
       "    </tr>\n",
       "    <tr>\n",
       "      <th>no_employees</th>\n",
       "      <td>1259</td>\n",
       "      <td>6</td>\n",
       "      <td>6-25</td>\n",
       "      <td>290</td>\n",
       "      <td>NaN</td>\n",
       "      <td>NaN</td>\n",
       "      <td>NaN</td>\n",
       "      <td>NaN</td>\n",
       "      <td>NaN</td>\n",
       "      <td>NaN</td>\n",
       "      <td>NaN</td>\n",
       "    </tr>\n",
       "    <tr>\n",
       "      <th>remote_work</th>\n",
       "      <td>1259</td>\n",
       "      <td>2</td>\n",
       "      <td>No</td>\n",
       "      <td>883</td>\n",
       "      <td>NaN</td>\n",
       "      <td>NaN</td>\n",
       "      <td>NaN</td>\n",
       "      <td>NaN</td>\n",
       "      <td>NaN</td>\n",
       "      <td>NaN</td>\n",
       "      <td>NaN</td>\n",
       "    </tr>\n",
       "    <tr>\n",
       "      <th>tech_company</th>\n",
       "      <td>1259</td>\n",
       "      <td>2</td>\n",
       "      <td>Yes</td>\n",
       "      <td>1031</td>\n",
       "      <td>NaN</td>\n",
       "      <td>NaN</td>\n",
       "      <td>NaN</td>\n",
       "      <td>NaN</td>\n",
       "      <td>NaN</td>\n",
       "      <td>NaN</td>\n",
       "      <td>NaN</td>\n",
       "    </tr>\n",
       "    <tr>\n",
       "      <th>benefits</th>\n",
       "      <td>1259</td>\n",
       "      <td>3</td>\n",
       "      <td>Yes</td>\n",
       "      <td>477</td>\n",
       "      <td>NaN</td>\n",
       "      <td>NaN</td>\n",
       "      <td>NaN</td>\n",
       "      <td>NaN</td>\n",
       "      <td>NaN</td>\n",
       "      <td>NaN</td>\n",
       "      <td>NaN</td>\n",
       "    </tr>\n",
       "    <tr>\n",
       "      <th>care_options</th>\n",
       "      <td>1259</td>\n",
       "      <td>3</td>\n",
       "      <td>No</td>\n",
       "      <td>501</td>\n",
       "      <td>NaN</td>\n",
       "      <td>NaN</td>\n",
       "      <td>NaN</td>\n",
       "      <td>NaN</td>\n",
       "      <td>NaN</td>\n",
       "      <td>NaN</td>\n",
       "      <td>NaN</td>\n",
       "    </tr>\n",
       "    <tr>\n",
       "      <th>wellness_program</th>\n",
       "      <td>1259</td>\n",
       "      <td>3</td>\n",
       "      <td>No</td>\n",
       "      <td>842</td>\n",
       "      <td>NaN</td>\n",
       "      <td>NaN</td>\n",
       "      <td>NaN</td>\n",
       "      <td>NaN</td>\n",
       "      <td>NaN</td>\n",
       "      <td>NaN</td>\n",
       "      <td>NaN</td>\n",
       "    </tr>\n",
       "    <tr>\n",
       "      <th>seek_help</th>\n",
       "      <td>1259</td>\n",
       "      <td>3</td>\n",
       "      <td>No</td>\n",
       "      <td>646</td>\n",
       "      <td>NaN</td>\n",
       "      <td>NaN</td>\n",
       "      <td>NaN</td>\n",
       "      <td>NaN</td>\n",
       "      <td>NaN</td>\n",
       "      <td>NaN</td>\n",
       "      <td>NaN</td>\n",
       "    </tr>\n",
       "    <tr>\n",
       "      <th>anonymity</th>\n",
       "      <td>1259</td>\n",
       "      <td>3</td>\n",
       "      <td>Don't know</td>\n",
       "      <td>819</td>\n",
       "      <td>NaN</td>\n",
       "      <td>NaN</td>\n",
       "      <td>NaN</td>\n",
       "      <td>NaN</td>\n",
       "      <td>NaN</td>\n",
       "      <td>NaN</td>\n",
       "      <td>NaN</td>\n",
       "    </tr>\n",
       "    <tr>\n",
       "      <th>leave</th>\n",
       "      <td>1259</td>\n",
       "      <td>5</td>\n",
       "      <td>Don't know</td>\n",
       "      <td>563</td>\n",
       "      <td>NaN</td>\n",
       "      <td>NaN</td>\n",
       "      <td>NaN</td>\n",
       "      <td>NaN</td>\n",
       "      <td>NaN</td>\n",
       "      <td>NaN</td>\n",
       "      <td>NaN</td>\n",
       "    </tr>\n",
       "    <tr>\n",
       "      <th>mental_health_consequence</th>\n",
       "      <td>1259</td>\n",
       "      <td>3</td>\n",
       "      <td>No</td>\n",
       "      <td>490</td>\n",
       "      <td>NaN</td>\n",
       "      <td>NaN</td>\n",
       "      <td>NaN</td>\n",
       "      <td>NaN</td>\n",
       "      <td>NaN</td>\n",
       "      <td>NaN</td>\n",
       "      <td>NaN</td>\n",
       "    </tr>\n",
       "    <tr>\n",
       "      <th>phys_health_consequence</th>\n",
       "      <td>1259</td>\n",
       "      <td>3</td>\n",
       "      <td>No</td>\n",
       "      <td>925</td>\n",
       "      <td>NaN</td>\n",
       "      <td>NaN</td>\n",
       "      <td>NaN</td>\n",
       "      <td>NaN</td>\n",
       "      <td>NaN</td>\n",
       "      <td>NaN</td>\n",
       "      <td>NaN</td>\n",
       "    </tr>\n",
       "    <tr>\n",
       "      <th>coworkers</th>\n",
       "      <td>1259</td>\n",
       "      <td>3</td>\n",
       "      <td>Some of them</td>\n",
       "      <td>774</td>\n",
       "      <td>NaN</td>\n",
       "      <td>NaN</td>\n",
       "      <td>NaN</td>\n",
       "      <td>NaN</td>\n",
       "      <td>NaN</td>\n",
       "      <td>NaN</td>\n",
       "      <td>NaN</td>\n",
       "    </tr>\n",
       "    <tr>\n",
       "      <th>supervisor</th>\n",
       "      <td>1259</td>\n",
       "      <td>3</td>\n",
       "      <td>Yes</td>\n",
       "      <td>516</td>\n",
       "      <td>NaN</td>\n",
       "      <td>NaN</td>\n",
       "      <td>NaN</td>\n",
       "      <td>NaN</td>\n",
       "      <td>NaN</td>\n",
       "      <td>NaN</td>\n",
       "      <td>NaN</td>\n",
       "    </tr>\n",
       "    <tr>\n",
       "      <th>mental_health_interview</th>\n",
       "      <td>1259</td>\n",
       "      <td>3</td>\n",
       "      <td>No</td>\n",
       "      <td>1008</td>\n",
       "      <td>NaN</td>\n",
       "      <td>NaN</td>\n",
       "      <td>NaN</td>\n",
       "      <td>NaN</td>\n",
       "      <td>NaN</td>\n",
       "      <td>NaN</td>\n",
       "      <td>NaN</td>\n",
       "    </tr>\n",
       "    <tr>\n",
       "      <th>phys_health_interview</th>\n",
       "      <td>1259</td>\n",
       "      <td>3</td>\n",
       "      <td>Maybe</td>\n",
       "      <td>557</td>\n",
       "      <td>NaN</td>\n",
       "      <td>NaN</td>\n",
       "      <td>NaN</td>\n",
       "      <td>NaN</td>\n",
       "      <td>NaN</td>\n",
       "      <td>NaN</td>\n",
       "      <td>NaN</td>\n",
       "    </tr>\n",
       "    <tr>\n",
       "      <th>mental_vs_physical</th>\n",
       "      <td>1259</td>\n",
       "      <td>3</td>\n",
       "      <td>Don't know</td>\n",
       "      <td>576</td>\n",
       "      <td>NaN</td>\n",
       "      <td>NaN</td>\n",
       "      <td>NaN</td>\n",
       "      <td>NaN</td>\n",
       "      <td>NaN</td>\n",
       "      <td>NaN</td>\n",
       "      <td>NaN</td>\n",
       "    </tr>\n",
       "    <tr>\n",
       "      <th>obs_consequence</th>\n",
       "      <td>1259</td>\n",
       "      <td>2</td>\n",
       "      <td>No</td>\n",
       "      <td>1075</td>\n",
       "      <td>NaN</td>\n",
       "      <td>NaN</td>\n",
       "      <td>NaN</td>\n",
       "      <td>NaN</td>\n",
       "      <td>NaN</td>\n",
       "      <td>NaN</td>\n",
       "      <td>NaN</td>\n",
       "    </tr>\n",
       "  </tbody>\n",
       "</table>\n",
       "</div>"
      ],
      "text/plain": [
       "                          count unique            top  freq         mean  \\\n",
       "Age                        1259    NaN            NaN   NaN  7.94281e+07   \n",
       "Gender                     1259     49           Male   615          NaN   \n",
       "Country                    1259     48  United States   751          NaN   \n",
       "state                      1259     46        unknown   515          NaN   \n",
       "self_employed              1259      3             No  1095          NaN   \n",
       "family_history             1259      2             No   767          NaN   \n",
       "treatment                  1259      2            Yes   637          NaN   \n",
       "work_interfere             1259      5      Sometimes   465          NaN   \n",
       "no_employees               1259      6           6-25   290          NaN   \n",
       "remote_work                1259      2             No   883          NaN   \n",
       "tech_company               1259      2            Yes  1031          NaN   \n",
       "benefits                   1259      3            Yes   477          NaN   \n",
       "care_options               1259      3             No   501          NaN   \n",
       "wellness_program           1259      3             No   842          NaN   \n",
       "seek_help                  1259      3             No   646          NaN   \n",
       "anonymity                  1259      3     Don't know   819          NaN   \n",
       "leave                      1259      5     Don't know   563          NaN   \n",
       "mental_health_consequence  1259      3             No   490          NaN   \n",
       "phys_health_consequence    1259      3             No   925          NaN   \n",
       "coworkers                  1259      3   Some of them   774          NaN   \n",
       "supervisor                 1259      3            Yes   516          NaN   \n",
       "mental_health_interview    1259      3             No  1008          NaN   \n",
       "phys_health_interview      1259      3          Maybe   557          NaN   \n",
       "mental_vs_physical         1259      3     Don't know   576          NaN   \n",
       "obs_consequence            1259      2             No  1075          NaN   \n",
       "\n",
       "                                  std   min  25%  50%  75%    max  \n",
       "Age                        2.8183e+09 -1726   27   31   36  1e+11  \n",
       "Gender                            NaN   NaN  NaN  NaN  NaN    NaN  \n",
       "Country                           NaN   NaN  NaN  NaN  NaN    NaN  \n",
       "state                             NaN   NaN  NaN  NaN  NaN    NaN  \n",
       "self_employed                     NaN   NaN  NaN  NaN  NaN    NaN  \n",
       "family_history                    NaN   NaN  NaN  NaN  NaN    NaN  \n",
       "treatment                         NaN   NaN  NaN  NaN  NaN    NaN  \n",
       "work_interfere                    NaN   NaN  NaN  NaN  NaN    NaN  \n",
       "no_employees                      NaN   NaN  NaN  NaN  NaN    NaN  \n",
       "remote_work                       NaN   NaN  NaN  NaN  NaN    NaN  \n",
       "tech_company                      NaN   NaN  NaN  NaN  NaN    NaN  \n",
       "benefits                          NaN   NaN  NaN  NaN  NaN    NaN  \n",
       "care_options                      NaN   NaN  NaN  NaN  NaN    NaN  \n",
       "wellness_program                  NaN   NaN  NaN  NaN  NaN    NaN  \n",
       "seek_help                         NaN   NaN  NaN  NaN  NaN    NaN  \n",
       "anonymity                         NaN   NaN  NaN  NaN  NaN    NaN  \n",
       "leave                             NaN   NaN  NaN  NaN  NaN    NaN  \n",
       "mental_health_consequence         NaN   NaN  NaN  NaN  NaN    NaN  \n",
       "phys_health_consequence           NaN   NaN  NaN  NaN  NaN    NaN  \n",
       "coworkers                         NaN   NaN  NaN  NaN  NaN    NaN  \n",
       "supervisor                        NaN   NaN  NaN  NaN  NaN    NaN  \n",
       "mental_health_interview           NaN   NaN  NaN  NaN  NaN    NaN  \n",
       "phys_health_interview             NaN   NaN  NaN  NaN  NaN    NaN  \n",
       "mental_vs_physical                NaN   NaN  NaN  NaN  NaN    NaN  \n",
       "obs_consequence                   NaN   NaN  NaN  NaN  NaN    NaN  "
      ]
     },
     "execution_count": 12,
     "metadata": {},
     "output_type": "execute_result"
    }
   ],
   "source": [
    "# Get the summary statistics of the data\n",
    "data.describe(include = 'all').T"
   ]
  },
  {
   "cell_type": "code",
   "execution_count": 13,
   "metadata": {
    "collapsed": false
   },
   "outputs": [
    {
     "data": {
      "text/plain": [
       "array([         37,          44,          32,          31,          33,\n",
       "                35,          39,          42,          23,          29,\n",
       "                36,          27,          46,          41,          34,\n",
       "                30,          40,          38,          50,          24,\n",
       "                18,          28,          26,          22,          19,\n",
       "                25,          45,          21,         -29,          43,\n",
       "                56,          60,          54,         329,          55,\n",
       "       99999999999,          48,          20,          57,          58,\n",
       "                47,          62,          51,          65,          49,\n",
       "             -1726,           5,          53,          61,           8,\n",
       "                11,          -1,          72])"
      ]
     },
     "execution_count": 13,
     "metadata": {},
     "output_type": "execute_result"
    }
   ],
   "source": [
    "# Column 'Age' contains spurious outliers. We look at the unique values present.\n",
    "data.Age.unique()"
   ]
  },
  {
   "cell_type": "code",
   "execution_count": 14,
   "metadata": {
    "collapsed": true
   },
   "outputs": [],
   "source": [
    "# 'Age' is now of type integers. It is better to transform 'Age' into categories: 'teen','adult','middle','old'\n",
    "cat = pd.cut(data.Age,[-float('inf'),20,40,60,float('inf')],labels = ['teen','adult','middle','old'])\n",
    "data['Age_cat'] = cat\n",
    "del data['Age']"
   ]
  },
  {
   "cell_type": "code",
   "execution_count": 15,
   "metadata": {
    "collapsed": false
   },
   "outputs": [
    {
     "data": {
      "text/plain": [
       "array(['Female', 'M', 'Male', 'male', 'female', 'm', 'Male-ish', 'maile',\n",
       "       'Trans-female', 'Cis Female', 'F', 'something kinda male?',\n",
       "       'Cis Male', 'Woman', 'f', 'Mal', 'Male (CIS)', 'queer/she/they',\n",
       "       'non-binary', 'Femake', 'woman', 'Make', 'Nah', 'All', 'Enby',\n",
       "       'fluid', 'Genderqueer', 'Female ', 'Androgyne', 'Agender',\n",
       "       'cis-female/femme', 'Guy (-ish) ^_^', 'male leaning androgynous',\n",
       "       'Male ', 'Man', 'Trans woman', 'msle', 'Neuter', 'Female (trans)',\n",
       "       'queer', 'Female (cis)', 'Mail', 'cis male', 'A little about you',\n",
       "       'Malr', 'p', 'femail', 'Cis Man',\n",
       "       'ostensibly male, unsure what that really means'], dtype=object)"
      ]
     },
     "execution_count": 15,
     "metadata": {},
     "output_type": "execute_result"
    }
   ],
   "source": [
    "#Look at Gender\n",
    "data.Gender.unique()"
   ]
  },
  {
   "cell_type": "code",
   "execution_count": 16,
   "metadata": {
    "collapsed": false
   },
   "outputs": [
    {
     "data": {
      "text/plain": [
       "Male                                              615\n",
       "male                                              206\n",
       "Female                                            121\n",
       "M                                                 116\n",
       "female                                             62\n",
       "F                                                  38\n",
       "m                                                  34\n",
       "f                                                  15\n",
       "Make                                                4\n",
       "Male                                                3\n",
       "Woman                                               3\n",
       "Man                                                 2\n",
       "Cis Male                                            2\n",
       "Female                                              2\n",
       "Female (trans)                                      2\n",
       "queer/she/they                                      1\n",
       "Female (cis)                                        1\n",
       "Male-ish                                            1\n",
       "male leaning androgynous                            1\n",
       "femail                                              1\n",
       "Male (CIS)                                          1\n",
       "maile                                               1\n",
       "Mail                                                1\n",
       "Neuter                                              1\n",
       "Cis Man                                             1\n",
       "Trans-female                                        1\n",
       "Agender                                             1\n",
       "Malr                                                1\n",
       "non-binary                                          1\n",
       "something kinda male?                               1\n",
       "p                                                   1\n",
       "A little about you                                  1\n",
       "Trans woman                                         1\n",
       "cis male                                            1\n",
       "msle                                                1\n",
       "Guy (-ish) ^_^                                      1\n",
       "Nah                                                 1\n",
       "All                                                 1\n",
       "Genderqueer                                         1\n",
       "queer                                               1\n",
       "fluid                                               1\n",
       "Cis Female                                          1\n",
       "woman                                               1\n",
       "cis-female/femme                                    1\n",
       "Femake                                              1\n",
       "ostensibly male, unsure what that really means      1\n",
       "Enby                                                1\n",
       "Mal                                                 1\n",
       "Androgyne                                           1\n",
       "Name: Gender, dtype: int64"
      ]
     },
     "execution_count": 16,
     "metadata": {},
     "output_type": "execute_result"
    }
   ],
   "source": [
    "data.Gender.value_counts()"
   ]
  },
  {
   "cell_type": "code",
   "execution_count": 17,
   "metadata": {
    "collapsed": true
   },
   "outputs": [],
   "source": [
    "# Merge Gender into types: 'female','male','trans'\n",
    "data.Gender = data.Gender.apply(lambda x: x.lower())\n",
    "\n",
    "male = set([\"male\", \"m\", \"male-ish\", \"maile\", \"mal\", \"male (cis)\", \"make\", \"male \", \"man\",\"msle\", \"mail\", \"malr\",\"cis man\", \"cis male\"])\n",
    "female = set([\"cis female\", \"f\", \"female\", \"woman\",  \"femake\", \"female \",\"cis-female/femme\", \"female (cis)\", \"femail\"])\n",
    "trans = set([\"trans-female\", \"something kinda male?\", \"queer/she/they\", \"non-binary\",\"nah\", \"all\", \"enby\", \"fluid\", \"genderqueer\", \"androgyne\", \"agender\", \"male leaning androgynous\", \"guy (-ish) ^_^\", \"trans woman\", \"neuter\", \"female (trans)\", \"queer\", \"ostensibly male, unsure what that really means\"])"
   ]
  },
  {
   "cell_type": "code",
   "execution_count": 18,
   "metadata": {
    "collapsed": true
   },
   "outputs": [],
   "source": [
    "data.Gender = data.Gender.apply(lambda x: 'male' if x in male else x)\n",
    "data.Gender = data.Gender.apply(lambda x: 'female' if x in female else x)\n",
    "data.Gender = data.Gender.apply(lambda x: 'trans' if x in trans else x)"
   ]
  },
  {
   "cell_type": "code",
   "execution_count": 19,
   "metadata": {
    "collapsed": false
   },
   "outputs": [
    {
     "data": {
      "text/plain": [
       "male                  991\n",
       "female                247\n",
       "trans                  19\n",
       "p                       1\n",
       "a little about you      1\n",
       "Name: Gender, dtype: int64"
      ]
     },
     "execution_count": 19,
     "metadata": {},
     "output_type": "execute_result"
    }
   ],
   "source": [
    "# What's left in Gender ?\n",
    "data.Gender.value_counts()"
   ]
  },
  {
   "cell_type": "code",
   "execution_count": 20,
   "metadata": {
    "collapsed": false
   },
   "outputs": [],
   "source": [
    "# Delete meaningless values 'p' and 'a little about you'\n",
    "data = data[data.Gender != 'p']\n",
    "data = data[data.Gender != 'a little about you']"
   ]
  },
  {
   "cell_type": "code",
   "execution_count": null,
   "metadata": {
    "collapsed": false
   },
   "outputs": [],
   "source": []
  },
  {
   "cell_type": "code",
   "execution_count": 21,
   "metadata": {
    "collapsed": false
   },
   "outputs": [
    {
     "data": {
      "text/html": [
       "<div>\n",
       "<table border=\"1\" class=\"dataframe\">\n",
       "  <thead>\n",
       "    <tr style=\"text-align: right;\">\n",
       "      <th></th>\n",
       "      <th>count</th>\n",
       "      <th>unique</th>\n",
       "      <th>top</th>\n",
       "      <th>freq</th>\n",
       "    </tr>\n",
       "  </thead>\n",
       "  <tbody>\n",
       "    <tr>\n",
       "      <th>Gender</th>\n",
       "      <td>1257</td>\n",
       "      <td>3</td>\n",
       "      <td>male</td>\n",
       "      <td>991</td>\n",
       "    </tr>\n",
       "    <tr>\n",
       "      <th>Country</th>\n",
       "      <td>1257</td>\n",
       "      <td>47</td>\n",
       "      <td>United States</td>\n",
       "      <td>750</td>\n",
       "    </tr>\n",
       "    <tr>\n",
       "      <th>state</th>\n",
       "      <td>1257</td>\n",
       "      <td>46</td>\n",
       "      <td>unknown</td>\n",
       "      <td>515</td>\n",
       "    </tr>\n",
       "    <tr>\n",
       "      <th>self_employed</th>\n",
       "      <td>1257</td>\n",
       "      <td>3</td>\n",
       "      <td>No</td>\n",
       "      <td>1095</td>\n",
       "    </tr>\n",
       "    <tr>\n",
       "      <th>family_history</th>\n",
       "      <td>1257</td>\n",
       "      <td>2</td>\n",
       "      <td>No</td>\n",
       "      <td>767</td>\n",
       "    </tr>\n",
       "    <tr>\n",
       "      <th>treatment</th>\n",
       "      <td>1257</td>\n",
       "      <td>2</td>\n",
       "      <td>Yes</td>\n",
       "      <td>635</td>\n",
       "    </tr>\n",
       "    <tr>\n",
       "      <th>work_interfere</th>\n",
       "      <td>1257</td>\n",
       "      <td>5</td>\n",
       "      <td>Sometimes</td>\n",
       "      <td>465</td>\n",
       "    </tr>\n",
       "    <tr>\n",
       "      <th>no_employees</th>\n",
       "      <td>1257</td>\n",
       "      <td>6</td>\n",
       "      <td>6-25</td>\n",
       "      <td>290</td>\n",
       "    </tr>\n",
       "    <tr>\n",
       "      <th>remote_work</th>\n",
       "      <td>1257</td>\n",
       "      <td>2</td>\n",
       "      <td>No</td>\n",
       "      <td>883</td>\n",
       "    </tr>\n",
       "    <tr>\n",
       "      <th>tech_company</th>\n",
       "      <td>1257</td>\n",
       "      <td>2</td>\n",
       "      <td>Yes</td>\n",
       "      <td>1029</td>\n",
       "    </tr>\n",
       "    <tr>\n",
       "      <th>benefits</th>\n",
       "      <td>1257</td>\n",
       "      <td>3</td>\n",
       "      <td>Yes</td>\n",
       "      <td>475</td>\n",
       "    </tr>\n",
       "    <tr>\n",
       "      <th>care_options</th>\n",
       "      <td>1257</td>\n",
       "      <td>3</td>\n",
       "      <td>No</td>\n",
       "      <td>501</td>\n",
       "    </tr>\n",
       "    <tr>\n",
       "      <th>wellness_program</th>\n",
       "      <td>1257</td>\n",
       "      <td>3</td>\n",
       "      <td>No</td>\n",
       "      <td>842</td>\n",
       "    </tr>\n",
       "    <tr>\n",
       "      <th>seek_help</th>\n",
       "      <td>1257</td>\n",
       "      <td>3</td>\n",
       "      <td>No</td>\n",
       "      <td>646</td>\n",
       "    </tr>\n",
       "    <tr>\n",
       "      <th>anonymity</th>\n",
       "      <td>1257</td>\n",
       "      <td>3</td>\n",
       "      <td>Don't know</td>\n",
       "      <td>819</td>\n",
       "    </tr>\n",
       "    <tr>\n",
       "      <th>leave</th>\n",
       "      <td>1257</td>\n",
       "      <td>5</td>\n",
       "      <td>Don't know</td>\n",
       "      <td>563</td>\n",
       "    </tr>\n",
       "    <tr>\n",
       "      <th>mental_health_consequence</th>\n",
       "      <td>1257</td>\n",
       "      <td>3</td>\n",
       "      <td>No</td>\n",
       "      <td>490</td>\n",
       "    </tr>\n",
       "    <tr>\n",
       "      <th>phys_health_consequence</th>\n",
       "      <td>1257</td>\n",
       "      <td>3</td>\n",
       "      <td>No</td>\n",
       "      <td>925</td>\n",
       "    </tr>\n",
       "    <tr>\n",
       "      <th>coworkers</th>\n",
       "      <td>1257</td>\n",
       "      <td>3</td>\n",
       "      <td>Some of them</td>\n",
       "      <td>774</td>\n",
       "    </tr>\n",
       "    <tr>\n",
       "      <th>supervisor</th>\n",
       "      <td>1257</td>\n",
       "      <td>3</td>\n",
       "      <td>Yes</td>\n",
       "      <td>514</td>\n",
       "    </tr>\n",
       "    <tr>\n",
       "      <th>mental_health_interview</th>\n",
       "      <td>1257</td>\n",
       "      <td>3</td>\n",
       "      <td>No</td>\n",
       "      <td>1008</td>\n",
       "    </tr>\n",
       "    <tr>\n",
       "      <th>phys_health_interview</th>\n",
       "      <td>1257</td>\n",
       "      <td>3</td>\n",
       "      <td>Maybe</td>\n",
       "      <td>557</td>\n",
       "    </tr>\n",
       "    <tr>\n",
       "      <th>mental_vs_physical</th>\n",
       "      <td>1257</td>\n",
       "      <td>3</td>\n",
       "      <td>Don't know</td>\n",
       "      <td>576</td>\n",
       "    </tr>\n",
       "    <tr>\n",
       "      <th>obs_consequence</th>\n",
       "      <td>1257</td>\n",
       "      <td>2</td>\n",
       "      <td>No</td>\n",
       "      <td>1075</td>\n",
       "    </tr>\n",
       "    <tr>\n",
       "      <th>Age_cat</th>\n",
       "      <td>1257</td>\n",
       "      <td>4</td>\n",
       "      <td>adult</td>\n",
       "      <td>1081</td>\n",
       "    </tr>\n",
       "  </tbody>\n",
       "</table>\n",
       "</div>"
      ],
      "text/plain": [
       "                          count unique            top  freq\n",
       "Gender                     1257      3           male   991\n",
       "Country                    1257     47  United States   750\n",
       "state                      1257     46        unknown   515\n",
       "self_employed              1257      3             No  1095\n",
       "family_history             1257      2             No   767\n",
       "treatment                  1257      2            Yes   635\n",
       "work_interfere             1257      5      Sometimes   465\n",
       "no_employees               1257      6           6-25   290\n",
       "remote_work                1257      2             No   883\n",
       "tech_company               1257      2            Yes  1029\n",
       "benefits                   1257      3            Yes   475\n",
       "care_options               1257      3             No   501\n",
       "wellness_program           1257      3             No   842\n",
       "seek_help                  1257      3             No   646\n",
       "anonymity                  1257      3     Don't know   819\n",
       "leave                      1257      5     Don't know   563\n",
       "mental_health_consequence  1257      3             No   490\n",
       "phys_health_consequence    1257      3             No   925\n",
       "coworkers                  1257      3   Some of them   774\n",
       "supervisor                 1257      3            Yes   514\n",
       "mental_health_interview    1257      3             No  1008\n",
       "phys_health_interview      1257      3          Maybe   557\n",
       "mental_vs_physical         1257      3     Don't know   576\n",
       "obs_consequence            1257      2             No  1075\n",
       "Age_cat                    1257      4          adult  1081"
      ]
     },
     "execution_count": 21,
     "metadata": {},
     "output_type": "execute_result"
    }
   ],
   "source": [
    "# Summary statistics of the cleaned data\n",
    "data.describe(include = 'all').T"
   ]
  },
  {
   "cell_type": "code",
   "execution_count": null,
   "metadata": {
    "collapsed": true
   },
   "outputs": [],
   "source": []
  },
  {
   "cell_type": "code",
   "execution_count": 22,
   "metadata": {
    "collapsed": true
   },
   "outputs": [],
   "source": [
    "# List to collect the summary of all models\n",
    "Result = []"
   ]
  },
  {
   "cell_type": "code",
   "execution_count": null,
   "metadata": {
    "collapsed": true
   },
   "outputs": [],
   "source": []
  },
  {
   "cell_type": "markdown",
   "metadata": {},
   "source": [
    "#                                Machine Learning on the Data"
   ]
  },
  {
   "cell_type": "code",
   "execution_count": null,
   "metadata": {
    "collapsed": true
   },
   "outputs": [],
   "source": []
  },
  {
   "cell_type": "markdown",
   "metadata": {},
   "source": [
    "# 1. Data Scheme: Label Encoding (LE)"
   ]
  },
  {
   "cell_type": "code",
   "execution_count": 23,
   "metadata": {
    "collapsed": true
   },
   "outputs": [],
   "source": [
    "# Split data into target('y') and features('X')\n",
    "y = data.treatment == 'Yes'\n",
    "del data['treatment']\n",
    "X = data"
   ]
  },
  {
   "cell_type": "code",
   "execution_count": 24,
   "metadata": {
    "collapsed": false
   },
   "outputs": [],
   "source": [
    "# Apply label encoding to feature space\n",
    "X = X.apply(LabelEncoder().fit_transform)"
   ]
  },
  {
   "cell_type": "code",
   "execution_count": 25,
   "metadata": {
    "collapsed": false
   },
   "outputs": [
    {
     "data": {
      "text/html": [
       "<div>\n",
       "<table border=\"1\" class=\"dataframe\">\n",
       "  <thead>\n",
       "    <tr style=\"text-align: right;\">\n",
       "      <th></th>\n",
       "      <th>0</th>\n",
       "      <th>1</th>\n",
       "      <th>2</th>\n",
       "      <th>3</th>\n",
       "      <th>4</th>\n",
       "    </tr>\n",
       "  </thead>\n",
       "  <tbody>\n",
       "    <tr>\n",
       "      <th>Gender</th>\n",
       "      <td>0</td>\n",
       "      <td>1</td>\n",
       "      <td>1</td>\n",
       "      <td>1</td>\n",
       "      <td>1</td>\n",
       "    </tr>\n",
       "    <tr>\n",
       "      <th>Country</th>\n",
       "      <td>44</td>\n",
       "      <td>44</td>\n",
       "      <td>6</td>\n",
       "      <td>43</td>\n",
       "      <td>44</td>\n",
       "    </tr>\n",
       "    <tr>\n",
       "      <th>state</th>\n",
       "      <td>10</td>\n",
       "      <td>11</td>\n",
       "      <td>45</td>\n",
       "      <td>45</td>\n",
       "      <td>37</td>\n",
       "    </tr>\n",
       "    <tr>\n",
       "      <th>self_employed</th>\n",
       "      <td>2</td>\n",
       "      <td>2</td>\n",
       "      <td>2</td>\n",
       "      <td>2</td>\n",
       "      <td>2</td>\n",
       "    </tr>\n",
       "    <tr>\n",
       "      <th>family_history</th>\n",
       "      <td>0</td>\n",
       "      <td>0</td>\n",
       "      <td>0</td>\n",
       "      <td>1</td>\n",
       "      <td>0</td>\n",
       "    </tr>\n",
       "    <tr>\n",
       "      <th>work_interfere</th>\n",
       "      <td>1</td>\n",
       "      <td>2</td>\n",
       "      <td>2</td>\n",
       "      <td>1</td>\n",
       "      <td>0</td>\n",
       "    </tr>\n",
       "    <tr>\n",
       "      <th>no_employees</th>\n",
       "      <td>4</td>\n",
       "      <td>5</td>\n",
       "      <td>4</td>\n",
       "      <td>2</td>\n",
       "      <td>1</td>\n",
       "    </tr>\n",
       "    <tr>\n",
       "      <th>remote_work</th>\n",
       "      <td>0</td>\n",
       "      <td>0</td>\n",
       "      <td>0</td>\n",
       "      <td>0</td>\n",
       "      <td>1</td>\n",
       "    </tr>\n",
       "    <tr>\n",
       "      <th>tech_company</th>\n",
       "      <td>1</td>\n",
       "      <td>0</td>\n",
       "      <td>1</td>\n",
       "      <td>1</td>\n",
       "      <td>1</td>\n",
       "    </tr>\n",
       "    <tr>\n",
       "      <th>benefits</th>\n",
       "      <td>2</td>\n",
       "      <td>0</td>\n",
       "      <td>1</td>\n",
       "      <td>1</td>\n",
       "      <td>2</td>\n",
       "    </tr>\n",
       "    <tr>\n",
       "      <th>care_options</th>\n",
       "      <td>1</td>\n",
       "      <td>0</td>\n",
       "      <td>0</td>\n",
       "      <td>2</td>\n",
       "      <td>0</td>\n",
       "    </tr>\n",
       "    <tr>\n",
       "      <th>wellness_program</th>\n",
       "      <td>1</td>\n",
       "      <td>0</td>\n",
       "      <td>1</td>\n",
       "      <td>1</td>\n",
       "      <td>0</td>\n",
       "    </tr>\n",
       "    <tr>\n",
       "      <th>seek_help</th>\n",
       "      <td>2</td>\n",
       "      <td>0</td>\n",
       "      <td>1</td>\n",
       "      <td>1</td>\n",
       "      <td>0</td>\n",
       "    </tr>\n",
       "    <tr>\n",
       "      <th>anonymity</th>\n",
       "      <td>2</td>\n",
       "      <td>0</td>\n",
       "      <td>0</td>\n",
       "      <td>1</td>\n",
       "      <td>0</td>\n",
       "    </tr>\n",
       "    <tr>\n",
       "      <th>leave</th>\n",
       "      <td>2</td>\n",
       "      <td>0</td>\n",
       "      <td>1</td>\n",
       "      <td>1</td>\n",
       "      <td>0</td>\n",
       "    </tr>\n",
       "    <tr>\n",
       "      <th>mental_health_consequence</th>\n",
       "      <td>1</td>\n",
       "      <td>0</td>\n",
       "      <td>1</td>\n",
       "      <td>2</td>\n",
       "      <td>1</td>\n",
       "    </tr>\n",
       "    <tr>\n",
       "      <th>phys_health_consequence</th>\n",
       "      <td>1</td>\n",
       "      <td>1</td>\n",
       "      <td>1</td>\n",
       "      <td>2</td>\n",
       "      <td>1</td>\n",
       "    </tr>\n",
       "    <tr>\n",
       "      <th>coworkers</th>\n",
       "      <td>1</td>\n",
       "      <td>0</td>\n",
       "      <td>2</td>\n",
       "      <td>1</td>\n",
       "      <td>1</td>\n",
       "    </tr>\n",
       "    <tr>\n",
       "      <th>supervisor</th>\n",
       "      <td>2</td>\n",
       "      <td>0</td>\n",
       "      <td>2</td>\n",
       "      <td>0</td>\n",
       "      <td>2</td>\n",
       "    </tr>\n",
       "    <tr>\n",
       "      <th>mental_health_interview</th>\n",
       "      <td>1</td>\n",
       "      <td>1</td>\n",
       "      <td>2</td>\n",
       "      <td>0</td>\n",
       "      <td>2</td>\n",
       "    </tr>\n",
       "    <tr>\n",
       "      <th>phys_health_interview</th>\n",
       "      <td>0</td>\n",
       "      <td>1</td>\n",
       "      <td>2</td>\n",
       "      <td>0</td>\n",
       "      <td>2</td>\n",
       "    </tr>\n",
       "    <tr>\n",
       "      <th>mental_vs_physical</th>\n",
       "      <td>2</td>\n",
       "      <td>0</td>\n",
       "      <td>1</td>\n",
       "      <td>1</td>\n",
       "      <td>0</td>\n",
       "    </tr>\n",
       "    <tr>\n",
       "      <th>obs_consequence</th>\n",
       "      <td>0</td>\n",
       "      <td>0</td>\n",
       "      <td>0</td>\n",
       "      <td>1</td>\n",
       "      <td>0</td>\n",
       "    </tr>\n",
       "    <tr>\n",
       "      <th>Age_cat</th>\n",
       "      <td>0</td>\n",
       "      <td>1</td>\n",
       "      <td>0</td>\n",
       "      <td>0</td>\n",
       "      <td>0</td>\n",
       "    </tr>\n",
       "  </tbody>\n",
       "</table>\n",
       "</div>"
      ],
      "text/plain": [
       "                            0   1   2   3   4\n",
       "Gender                      0   1   1   1   1\n",
       "Country                    44  44   6  43  44\n",
       "state                      10  11  45  45  37\n",
       "self_employed               2   2   2   2   2\n",
       "family_history              0   0   0   1   0\n",
       "work_interfere              1   2   2   1   0\n",
       "no_employees                4   5   4   2   1\n",
       "remote_work                 0   0   0   0   1\n",
       "tech_company                1   0   1   1   1\n",
       "benefits                    2   0   1   1   2\n",
       "care_options                1   0   0   2   0\n",
       "wellness_program            1   0   1   1   0\n",
       "seek_help                   2   0   1   1   0\n",
       "anonymity                   2   0   0   1   0\n",
       "leave                       2   0   1   1   0\n",
       "mental_health_consequence   1   0   1   2   1\n",
       "phys_health_consequence     1   1   1   2   1\n",
       "coworkers                   1   0   2   1   1\n",
       "supervisor                  2   0   2   0   2\n",
       "mental_health_interview     1   1   2   0   2\n",
       "phys_health_interview       0   1   2   0   2\n",
       "mental_vs_physical          2   0   1   1   0\n",
       "obs_consequence             0   0   0   1   0\n",
       "Age_cat                     0   1   0   0   0"
      ]
     },
     "execution_count": 25,
     "metadata": {},
     "output_type": "execute_result"
    }
   ],
   "source": [
    "X.head().T"
   ]
  },
  {
   "cell_type": "markdown",
   "metadata": {},
   "source": [
    "## 1.1 Logistic Regression (LR)\n",
    "\n",
    "### 1.1.1 K-fold Cross Validation using the inverse of regularisation parameter (C) under Logistic Regression Classifier"
   ]
  },
  {
   "cell_type": "code",
   "execution_count": 26,
   "metadata": {
    "collapsed": false
   },
   "outputs": [],
   "source": [
    "C = [10000,100, 1, 0.01,0.0001] \n",
    "cv_score = []\n",
    "for c in C:\n",
    "    lr = linear_model.LogisticRegression(C=c)\n",
    "    scores = cross_val_score(lr,X,y,cv = 5,scoring='accuracy')\n",
    "    cv_score.append(scores.mean())"
   ]
  },
  {
   "cell_type": "code",
   "execution_count": 27,
   "metadata": {
    "collapsed": false
   },
   "outputs": [
    {
     "data": {
      "image/png": "[encoded data removed]",
      "text/plain": [
       "<matplotlib.figure.Figure at 0x115b52790>"
      ]
     },
     "metadata": {},
     "output_type": "display_data"
    }
   ],
   "source": [
    "plt.plot(C,cv_score) \n",
    "plt.ylabel('mean ROC-AUC')\n",
    "plt.xlabel('Inverse Regularisation Parameter')\n",
    "plt.show()"
   ]
  },
  {
   "cell_type": "code",
   "execution_count": 28,
   "metadata": {
    "collapsed": false
   },
   "outputs": [
    {
     "name": "stdout",
     "output_type": "stream",
     "text": [
      "The maximum mean ROC-AUC score of 0.708821855435 occurs for the model with inverse parameter: 10000\n"
     ]
    }
   ],
   "source": [
    "print 'The maximum mean ROC-AUC score of', max(cv_score), 'occurs for the model with inverse parameter:', C[np.argmax(cv_score)]"
   ]
  },
  {
   "cell_type": "code",
   "execution_count": 29,
   "metadata": {
    "collapsed": false
   },
   "outputs": [],
   "source": [
    "Result.append(('LE: LR with full data (roc_auc)', max(cv_score)))"
   ]
  },
  {
   "cell_type": "markdown",
   "metadata": {},
   "source": [
    "### ROC Curve for the model with highest 'accuracy'"
   ]
  },
  {
   "cell_type": "code",
   "execution_count": 30,
   "metadata": {
    "collapsed": true
   },
   "outputs": [],
   "source": [
    "lr = linear_model.LogisticRegression(C=C[np.argmax(cv_score)])\n",
    "SEED = 32\n",
    "X_train, X_test, y_train, y_test = train_test_split(X, y, test_size=0.2, random_state=SEED)\n",
    "\n",
    "lr.fit(X_train,y_train)\n",
    "probs = lr.predict_proba(X_test)[:,1] # get the probabilities of positive outcome\n",
    "\n",
    "false_positive_rate, true_positive_rate, thresholds = roc_curve(y_test, probs)\n",
    "roc_auc = auc(false_positive_rate, true_positive_rate)"
   ]
  },
  {
   "cell_type": "code",
   "execution_count": 31,
   "metadata": {
    "collapsed": false
   },
   "outputs": [
    {
     "data": {
      "image/png": "[encoded data removed]",
      "text/plain": [
       "<matplotlib.figure.Figure at 0x1181ad090>"
      ]
     },
     "metadata": {},
     "output_type": "display_data"
    }
   ],
   "source": [
    "plt.plot(false_positive_rate, true_positive_rate, 'b',label='AUC = %0.2f'% roc_auc)\n",
    "plt.title('ROC Curve for the LR model with C=1')\n",
    "plt.legend(loc =4)\n",
    "plt.show()"
   ]
  },
  {
   "cell_type": "markdown",
   "metadata": {},
   "source": [
    "### 1.1.2 Principal Component Analysis before training Logistic Regression classifier (Pre-Processing)"
   ]
  },
  {
   "cell_type": "code",
   "execution_count": 32,
   "metadata": {
    "collapsed": false
   },
   "outputs": [],
   "source": [
    "pca = PCA(n_components=7)\n",
    "SEED = 420\n",
    "# Split into training and test set \n",
    "X_train, X_test, y_train, y_test = train_test_split(X, y, test_size=0.2, random_state=SEED)\n",
    "# Pick the top 90 components of PCA\n",
    "XPCA_train = pca.fit_transform(X_train)\n",
    "# Transform test set accordingly\n",
    "XPCA_test = pca.transform(X_test)"
   ]
  },
  {
   "cell_type": "code",
   "execution_count": 33,
   "metadata": {
    "collapsed": true
   },
   "outputs": [],
   "source": [
    "C = [10000,100, 1, 0.01,0.0001]\n",
    "in_score = []\n",
    "out_score = []\n",
    "for c in C:\n",
    "    lr = linear_model.LogisticRegression(C=c)\n",
    "    lr.fit(XPCA_train,y_train)\n",
    "    in_score.append(lr.score(XPCA_train,y_train))\n",
    "    out_score.append(lr.score(XPCA_test,y_test))"
   ]
  },
  {
   "cell_type": "code",
   "execution_count": 34,
   "metadata": {
    "collapsed": false
   },
   "outputs": [
    {
     "data": {
      "image/png": "[encoded data removed]",
      "text/plain": [
       "<matplotlib.figure.Figure at 0x1181f5910>"
      ]
     },
     "metadata": {},
     "output_type": "display_data"
    }
   ],
   "source": [
    "plt.plot(C,in_score, label='in_sample')  \n",
    "plt.plot(C,out_score, label='out_sample')\n",
    "plt.ylabel('Accuracy')\n",
    "plt.xlabel('Inverse of Regularisation')\n",
    "plt.legend(loc = 4)\n",
    "plt.show()"
   ]
  },
  {
   "cell_type": "code",
   "execution_count": 35,
   "metadata": {
    "collapsed": false
   },
   "outputs": [
    {
     "name": "stdout",
     "output_type": "stream",
     "text": [
      "Highest out-sample accuracy 0.619047619048 occurs for the model with C = 10000\n"
     ]
    }
   ],
   "source": [
    "print 'Highest out-sample accuracy', max(out_score), 'occurs for the model with C =', C[np.argmax(out_score)]"
   ]
  },
  {
   "cell_type": "code",
   "execution_count": null,
   "metadata": {
    "collapsed": true
   },
   "outputs": [],
   "source": []
  },
  {
   "cell_type": "markdown",
   "metadata": {},
   "source": [
    " #### ROC Curve for the model with highest 'accuracy'"
   ]
  },
  {
   "cell_type": "code",
   "execution_count": 36,
   "metadata": {
    "collapsed": true
   },
   "outputs": [],
   "source": [
    "lr = linear_model.LogisticRegression(C=C[np.argmax(out_score)])\n",
    "\n",
    "lr.fit(XPCA_train,y_train)\n",
    "probs = lr.predict_proba(XPCA_test)[:,1] # get the probabilities of positive outcom\n",
    "\n",
    "false_positive_rate, true_positive_rate, thresholds = roc_curve(y_test, probs)\n",
    "roc_auc = auc(false_positive_rate, true_positive_rate)\n",
    "Result.append(('LE: LR model with preprocessing, roc_auc',roc_auc))"
   ]
  },
  {
   "cell_type": "code",
   "execution_count": 37,
   "metadata": {
    "collapsed": false
   },
   "outputs": [
    {
     "data": {
      "image/png": "[encoded data removed]",
      "text/plain": [
       "<matplotlib.figure.Figure at 0x1182cdbd0>"
      ]
     },
     "metadata": {},
     "output_type": "display_data"
    }
   ],
   "source": [
    "plt.plot(false_positive_rate, true_positive_rate, 'b',label='AUC = %0.2f'% roc_auc)\n",
    "plt.title('ROC Curve for the LR model after PCA with C = %d' %C[np.argmax(out_score)])\n",
    "plt.legend(loc =4)\n",
    "plt.show()"
   ]
  },
  {
   "cell_type": "markdown",
   "metadata": {},
   "source": [
    "### 1.1.3 Feature Selection Using Recursive Feature Extraction (post-processing)"
   ]
  },
  {
   "cell_type": "code",
   "execution_count": 38,
   "metadata": {
    "collapsed": true
   },
   "outputs": [],
   "source": [
    "SEED = 420\n",
    "X_train, X_test, y_train, y_test = train_test_split(X, y, test_size=0.2, random_state=SEED)\n",
    "\n",
    "# Use the model parameter with the highest roc-auc score (1.1.1) to train a model\n",
    "lrf = linear_model.LogisticRegression(C=C[np.argmax(cv_score)]) \n",
    "# Recursively select the top 10 features\n",
    "selector = RFE(lrf, 10, step=2) \n",
    "selector = selector.fit(X_train, y_train) "
   ]
  },
  {
   "cell_type": "code",
   "execution_count": 39,
   "metadata": {
    "collapsed": true
   },
   "outputs": [],
   "source": [
    "# Collect the top 10 features together\n",
    "mask = selector.support_\n",
    "top_features = X.columns[mask]\n",
    "X_top = X[top_features]"
   ]
  },
  {
   "cell_type": "markdown",
   "metadata": {},
   "source": [
    "### Top ten most predictive features according to feature extraction"
   ]
  },
  {
   "cell_type": "code",
   "execution_count": 40,
   "metadata": {
    "collapsed": false
   },
   "outputs": [
    {
     "name": "stdout",
     "output_type": "stream",
     "text": [
      "Gender\n",
      "family_history\n",
      "remote_work\n",
      "benefits\n",
      "care_options\n",
      "phys_health_consequence\n",
      "coworkers\n",
      "supervisor\n",
      "mental_health_interview\n",
      "obs_consequence\n"
     ]
    }
   ],
   "source": [
    "for f in X_top.columns:\n",
    "    print f"
   ]
  },
  {
   "cell_type": "code",
   "execution_count": 41,
   "metadata": {
    "collapsed": true
   },
   "outputs": [],
   "source": [
    "# Train Logistic Regression clf and cross validate on the top features X_top\n",
    "C = [10000,100, 1, 0.01,0.0001] \n",
    "cv_score = [] \n",
    "for c in C:\n",
    "    lr = linear_model.LogisticRegression(C=c)\n",
    "    scores = cross_val_score(lr,X_top,y,cv = 5,scoring='roc_auc')\n",
    "    cv_score.append(scores.mean()) "
   ]
  },
  {
   "cell_type": "code",
   "execution_count": 42,
   "metadata": {
    "collapsed": false
   },
   "outputs": [
    {
     "data": {
      "image/png": "[encoded data removed]",
      "text/plain": [
       "<matplotlib.figure.Figure at 0x118430b50>"
      ]
     },
     "metadata": {},
     "output_type": "display_data"
    }
   ],
   "source": [
    "plt.plot(C,cv_score)\n",
    "plt.ylabel('mean ROC-AUC')\n",
    "plt.xlabel('Inverse Regularisation Parameter')\n",
    "plt.show()"
   ]
  },
  {
   "cell_type": "code",
   "execution_count": 43,
   "metadata": {
    "collapsed": false
   },
   "outputs": [
    {
     "name": "stdout",
     "output_type": "stream",
     "text": [
      "Highest mean roc_auc of 0.76707482855 occurs for C =  10000\n"
     ]
    }
   ],
   "source": [
    "print 'Highest mean roc_auc of', max(cv_score), 'occurs for C = ', C[np.argmax(cv_score)]"
   ]
  },
  {
   "cell_type": "code",
   "execution_count": 44,
   "metadata": {
    "collapsed": true
   },
   "outputs": [],
   "source": [
    "Result.append(('LE: LR model after post-processing(feature extraction), roc_auc',max(cv_score)))"
   ]
  },
  {
   "cell_type": "markdown",
   "metadata": {},
   "source": [
    "#### ROC Curve for the model with highest mean ROC_AUC"
   ]
  },
  {
   "cell_type": "code",
   "execution_count": 45,
   "metadata": {
    "collapsed": false
   },
   "outputs": [
    {
     "data": {
      "text/plain": [
       "LogisticRegression(C=10000, class_weight=None, dual=False, fit_intercept=True,\n",
       "          intercept_scaling=1, max_iter=100, multi_class='ovr', n_jobs=1,\n",
       "          penalty='l2', random_state=None, solver='liblinear', tol=0.0001,\n",
       "          verbose=0, warm_start=False)"
      ]
     },
     "execution_count": 45,
     "metadata": {},
     "output_type": "execute_result"
    }
   ],
   "source": [
    "# Run Logistic regression on the top 10 features\n",
    "lr_top = linear_model.LogisticRegression(C=C[np.argmax(cv_score)])\n",
    "SEED = 42\n",
    "X_top_train, X_top_test, y_train, y_test = train_test_split(X_top, y, test_size=0.2, random_state=SEED)\n",
    "lr_top.fit(X_top_train,y_train)"
   ]
  },
  {
   "cell_type": "code",
   "execution_count": 46,
   "metadata": {
    "collapsed": true
   },
   "outputs": [],
   "source": [
    "probs = lr_top.predict_proba(X_top_test)[:,1] # get the probabilities of positive outcome\n",
    "false_positive_rate, true_positive_rate, thresholds = roc_curve(y_test, probs)\n",
    "roc_auc = auc(false_positive_rate, true_positive_rate)"
   ]
  },
  {
   "cell_type": "code",
   "execution_count": 47,
   "metadata": {
    "collapsed": false
   },
   "outputs": [
    {
     "data": {
      "image/png": "[encoded data removed]",
      "text/plain": [
       "<matplotlib.figure.Figure at 0x11847d990>"
      ]
     },
     "metadata": {},
     "output_type": "display_data"
    }
   ],
   "source": [
    "plt.plot(false_positive_rate, true_positive_rate, 'b',label='AUC = %0.2f'% roc_auc)\n",
    "plt.title('ROC Curve for the LR model after Feature Extraction with C = %d' %C[np.argmax(cv_score)])\n",
    "plt.legend(loc = 4)\n",
    "plt.show()"
   ]
  },
  {
   "cell_type": "code",
   "execution_count": null,
   "metadata": {
    "collapsed": true
   },
   "outputs": [],
   "source": []
  },
  {
   "cell_type": "code",
   "execution_count": null,
   "metadata": {
    "collapsed": true
   },
   "outputs": [],
   "source": []
  },
  {
   "cell_type": "code",
   "execution_count": null,
   "metadata": {
    "collapsed": true
   },
   "outputs": [],
   "source": []
  },
  {
   "cell_type": "markdown",
   "metadata": {},
   "source": [
    "## 1.2 Random Forest\n",
    "\n",
    "### 1.2.1 K-fold cross validation against number of estimators using Random Forest classifier\n"
   ]
  },
  {
   "cell_type": "code",
   "execution_count": 48,
   "metadata": {
    "collapsed": false
   },
   "outputs": [],
   "source": [
    "# random Forest\n",
    "ks = [10,20,50,100,1000]\n",
    "cv_score = []\n",
    "for k in ks:\n",
    "    RF = RandomForestClassifier(n_estimators=k, oob_score=False, random_state=42)\n",
    "    scores = cross_val_score(RF,X,y,cv = 5,scoring='roc_auc')\n",
    "    cv_score.append(scores.mean())"
   ]
  },
  {
   "cell_type": "code",
   "execution_count": 49,
   "metadata": {
    "collapsed": false
   },
   "outputs": [
    {
     "data": {
      "image/png": "[encoded data removed]",
      "text/plain": [
       "<matplotlib.figure.Figure at 0x115844790>"
      ]
     },
     "metadata": {},
     "output_type": "display_data"
    }
   ],
   "source": [
    "plt.plot(ks,cv_score)\n",
    "plt.title('ROC_AUC Vs no_of_estimators')\n",
    "plt.ylabel('mean ROC_AUC')\n",
    "plt.xlabel('n_estimators')\n",
    "plt.show()"
   ]
  },
  {
   "cell_type": "code",
   "execution_count": 50,
   "metadata": {
    "collapsed": false
   },
   "outputs": [
    {
     "name": "stdout",
     "output_type": "stream",
     "text": [
      "The highest mean roc_auc score of 0.885464465329 occurs for n_estimators = 1000\n"
     ]
    }
   ],
   "source": [
    "print 'The highest mean roc_auc score of', max(cv_score), 'occurs for n_estimators =', ks[np.argmax(cv_score)]"
   ]
  },
  {
   "cell_type": "code",
   "execution_count": 51,
   "metadata": {
    "collapsed": true
   },
   "outputs": [],
   "source": [
    "Result.append(('LE: RF full data, roc_auc',max(cv_score)))"
   ]
  },
  {
   "cell_type": "code",
   "execution_count": 52,
   "metadata": {
    "collapsed": true
   },
   "outputs": [],
   "source": [
    "RF = RandomForestClassifier(n_estimators= ks[np.argmax(cv_score)],oob_score=False, random_state=42)\n",
    "SEED = 32\n",
    "X_train, X_test, y_train, y_test = train_test_split(X, y, test_size=0.2, random_state=SEED)\n",
    "\n",
    "res = RF.fit(X_train,y_train)\n",
    "probs = res.predict_proba(X_test)[:,1] # get the probabilities of positive outcome\n",
    "\n",
    "false_positive_rate, true_positive_rate, thresholds = roc_curve(y_test, probs)\n",
    "roc_auc = auc(false_positive_rate, true_positive_rate)"
   ]
  },
  {
   "cell_type": "code",
   "execution_count": 53,
   "metadata": {
    "collapsed": false
   },
   "outputs": [
    {
     "data": {
      "image/png": "[encoded data removed]",
      "text/plain": [
       "<matplotlib.figure.Figure at 0x118217690>"
      ]
     },
     "metadata": {},
     "output_type": "display_data"
    }
   ],
   "source": [
    "plt.plot(false_positive_rate, true_positive_rate, 'b',label='AUC = %0.2f'% roc_auc)\n",
    "plt.title('ROC Curve for the RF model n_estimators = %d' %ks[np.argmax(cv_score)])\n",
    "plt.legend(loc = 4)\n",
    "plt.show()"
   ]
  },
  {
   "cell_type": "markdown",
   "metadata": {
    "collapsed": true
   },
   "source": [
    "### 1.2.2 Random Forest classifier after PCA analysis (pre-processing)\n"
   ]
  },
  {
   "cell_type": "code",
   "execution_count": 54,
   "metadata": {
    "collapsed": false
   },
   "outputs": [
    {
     "name": "stdout",
     "output_type": "stream",
     "text": [
      "running model k = 10 20 50 100 1000\n"
     ]
    }
   ],
   "source": [
    "#Train RF clf on reduced data by PCA analysis (1.1.2)\n",
    "ks = [10,20,50,100,1000]\n",
    "in_score = []\n",
    "out_score = []\n",
    "print 'running model k =',\n",
    "for k in ks:\n",
    "    print k,\n",
    "    clf = RandomForestClassifier(n_estimators=k, oob_score=False, random_state=42)\n",
    "    res = clf.fit(XPCA_train, y_train)\n",
    "    in_score.append(res.score(XPCA_train, y_train)) \n",
    "    out_score.append(res.score(XPCA_test, y_test))"
   ]
  },
  {
   "cell_type": "code",
   "execution_count": 55,
   "metadata": {
    "collapsed": false
   },
   "outputs": [
    {
     "data": {
      "image/png": "[encoded data removed]",
      "text/plain": [
       "<matplotlib.figure.Figure at 0x11585ccd0>"
      ]
     },
     "metadata": {},
     "output_type": "display_data"
    }
   ],
   "source": [
    "plt.plot(ks,in_score, label='in_sample')\n",
    "plt.plot(ks,out_score, label='out_sample')\n",
    "plt.ylabel('Accuracy')\n",
    "plt.xlabel('no_estimators')\n",
    "plt.legend(loc = 4)\n",
    "plt.show()"
   ]
  },
  {
   "cell_type": "code",
   "execution_count": 56,
   "metadata": {
    "collapsed": false
   },
   "outputs": [
    {
     "name": "stdout",
     "output_type": "stream",
     "text": [
      "Highest accuracy score of 0.515873015873 occurs for n_estimators = 1000\n"
     ]
    }
   ],
   "source": [
    "print 'Highest accuracy score of', max(out_score), 'occurs for n_estimators =', ks[np.argmax(out_score)]"
   ]
  },
  {
   "cell_type": "code",
   "execution_count": null,
   "metadata": {
    "collapsed": true
   },
   "outputs": [],
   "source": []
  },
  {
   "cell_type": "markdown",
   "metadata": {},
   "source": [
    "#### ROC Curve for the model with highest 'accuracy'"
   ]
  },
  {
   "cell_type": "code",
   "execution_count": 57,
   "metadata": {
    "collapsed": true
   },
   "outputs": [],
   "source": [
    "clf = RandomForestClassifier(n_estimators= ks[np.argmax(out_score)], oob_score=False, random_state=42)\n",
    "res = clf.fit(XPCA_train, y_train)\n",
    "probs = res.predict_proba(XPCA_test)[:,1] # get the probabilities of positive outcom\n",
    "false_positive_rate, true_positive_rate, thresholds = roc_curve(y_test, probs)\n",
    "roc_auc = auc(false_positive_rate, true_positive_rate)\n",
    "Result.append(('LE: RF after pre-processing (pca), roc_auc',roc_auc))"
   ]
  },
  {
   "cell_type": "code",
   "execution_count": 58,
   "metadata": {
    "collapsed": false
   },
   "outputs": [
    {
     "data": {
      "image/png": "[encoded data removed]",
      "text/plain": [
       "<matplotlib.figure.Figure at 0x118238e50>"
      ]
     },
     "metadata": {},
     "output_type": "display_data"
    }
   ],
   "source": [
    "plt.plot(false_positive_rate, true_positive_rate, 'b',label='AUC = %0.2f'% roc_auc)\n",
    "plt.title('ROC Curve for the RF model after PCA with n_estimators = %d' %ks[np.argmax(out_score)])\n",
    "plt.legend(loc =4)\n",
    "plt.show()"
   ]
  },
  {
   "cell_type": "markdown",
   "metadata": {},
   "source": [
    "### 1.2.3 Feature Selection Using Feature importance in RF (Post-Processing)"
   ]
  },
  {
   "cell_type": "code",
   "execution_count": 59,
   "metadata": {
    "collapsed": false
   },
   "outputs": [],
   "source": [
    "#Use the model with the highest mean ROC_AUC (1.2.1) to identify the most important features\n",
    "RF = RandomForestClassifier(n_estimators=ks[np.argmax(cv_score)], oob_score=False, random_state=42)\n",
    "RF = RF.fit(X_train, y_train)"
   ]
  },
  {
   "cell_type": "code",
   "execution_count": 60,
   "metadata": {
    "collapsed": true
   },
   "outputs": [],
   "source": [
    "#Collect the top 10 features\n",
    "X_top = X.ix[:,RF.feature_importances_.argsort()[::-1][:10]]"
   ]
  },
  {
   "cell_type": "markdown",
   "metadata": {},
   "source": [
    "### Top features with most predictive power according RF Feature Imporance"
   ]
  },
  {
   "cell_type": "code",
   "execution_count": 61,
   "metadata": {
    "collapsed": false
   },
   "outputs": [
    {
     "name": "stdout",
     "output_type": "stream",
     "text": [
      "work_interfere\n",
      "family_history\n",
      "state\n",
      "no_employees\n",
      "care_options\n",
      "Country\n",
      "leave\n",
      "benefits\n",
      "mental_health_consequence\n",
      "phys_health_interview\n"
     ]
    }
   ],
   "source": [
    "for f in X_top.columns:\n",
    "    print f"
   ]
  },
  {
   "cell_type": "code",
   "execution_count": null,
   "metadata": {
    "collapsed": false
   },
   "outputs": [],
   "source": []
  },
  {
   "cell_type": "markdown",
   "metadata": {},
   "source": [
    "### Plot of the predictivity of features"
   ]
  },
  {
   "cell_type": "code",
   "execution_count": 62,
   "metadata": {
    "collapsed": false
   },
   "outputs": [
    {
     "data": {
      "image/png": "[encoded data removed]",
      "text/plain": [
       "<matplotlib.figure.Figure at 0x118220bd0>"
      ]
     },
     "metadata": {},
     "output_type": "display_data"
    }
   ],
   "source": [
    "imp = sorted(RF.feature_importances_)\n",
    "imp = imp[:10][::-1]\n",
    "fig, ax = plt.subplots(figsize=(5,5))\n",
    "sns.barplot(y=X_top.columns, x= imp,ax = ax)\n",
    "plt.show()"
   ]
  },
  {
   "cell_type": "code",
   "execution_count": 63,
   "metadata": {
    "collapsed": false
   },
   "outputs": [
    {
     "name": "stdout",
     "output_type": "stream",
     "text": [
      "running model k= 10 20 50 100 1000\n"
     ]
    }
   ],
   "source": [
    "#Run cross-validation on this reduced data set\n",
    "ks = [10,20,50,100,1000]\n",
    "cv_score = []\n",
    "print 'running model k=',\n",
    "for k in ks:\n",
    "    print k,\n",
    "    RF = RandomForestClassifier(n_estimators=k, oob_score=False, random_state=42)\n",
    "    scores = cross_val_score(RF,X_top,y,cv = 5,scoring='roc_auc')\n",
    "    cv_score.append(scores.mean())"
   ]
  },
  {
   "cell_type": "code",
   "execution_count": 64,
   "metadata": {
    "collapsed": false
   },
   "outputs": [
    {
     "data": {
      "image/png": "[encoded data removed]",
      "text/plain": [
       "<matplotlib.figure.Figure at 0x115824d90>"
      ]
     },
     "metadata": {},
     "output_type": "display_data"
    }
   ],
   "source": [
    "plt.plot(ks,cv_score)\n",
    "plt.xlabel('n_estimators')\n",
    "plt.ylabel('mean ROC-AUC')\n",
    "plt.show()"
   ]
  },
  {
   "cell_type": "code",
   "execution_count": 65,
   "metadata": {
    "collapsed": false
   },
   "outputs": [
    {
     "name": "stdout",
     "output_type": "stream",
     "text": [
      "Highest mean roc_auc score of 0.885061010922 occurs for n_estimators = 1000\n"
     ]
    }
   ],
   "source": [
    "print 'Highest mean roc_auc score of', max(cv_score), 'occurs for n_estimators =', ks[np.argmax(cv_score)]"
   ]
  },
  {
   "cell_type": "code",
   "execution_count": 66,
   "metadata": {
    "collapsed": true
   },
   "outputs": [],
   "source": [
    "Result.append(('LE: RF after post-processing, roc_auc',max(cv_score)))"
   ]
  },
  {
   "cell_type": "markdown",
   "metadata": {},
   "source": [
    "#### ROC Curve for the model with highest mean ROC_AUC"
   ]
  },
  {
   "cell_type": "code",
   "execution_count": 67,
   "metadata": {
    "collapsed": true
   },
   "outputs": [],
   "source": [
    "RF = RandomForestClassifier(n_estimators= ks[np.argmax(cv_score)],oob_score=False, random_state=42)\n",
    "SEED = 32\n",
    "X_top_train, X_top_test, y_train, y_test = train_test_split(X_top, y, test_size=0.2, random_state=SEED)\n",
    "\n",
    "res = RF.fit(X_top_train,y_train)\n",
    "probs = res.predict_proba(X_top_test)[:,1] # get the probabilities of positive outcome\n",
    "\n",
    "false_positive_rate, true_positive_rate, thresholds = roc_curve(y_test, probs)\n",
    "roc_auc = auc(false_positive_rate, true_positive_rate)"
   ]
  },
  {
   "cell_type": "code",
   "execution_count": 68,
   "metadata": {
    "collapsed": false
   },
   "outputs": [
    {
     "data": {
      "image/png": "[encoded data removed]",
      "text/plain": [
       "<matplotlib.figure.Figure at 0x115be75d0>"
      ]
     },
     "metadata": {},
     "output_type": "display_data"
    }
   ],
   "source": [
    "plt.plot(false_positive_rate, true_positive_rate, 'b',label='AUC = %0.2f'% roc_auc)\n",
    "plt.title('ROC Curve for the RF model after feature selection with n_estimators = %d' %ks[np.argmax(out_score)])\n",
    "plt.legend(loc = 4)\n",
    "plt.show()"
   ]
  },
  {
   "cell_type": "markdown",
   "metadata": {},
   "source": [
    "# 2. Data Scheme: One-Hot-Encoding"
   ]
  },
  {
   "cell_type": "markdown",
   "metadata": {},
   "source": [
    "### Predictive Power of Each Feature: ROC_AUC results when each feature is One-Hot-Encoded and trained using Logistic Regression"
   ]
  },
  {
   "cell_type": "code",
   "execution_count": 69,
   "metadata": {
    "collapsed": false
   },
   "outputs": [
    {
     "name": "stdout",
     "output_type": "stream",
     "text": [
      "work_interfere 0.857354737109\n",
      "family_history 0.683697739395\n",
      "care_options 0.622615494031\n",
      "benefits 0.622343053086\n",
      "Gender 0.581118923038\n",
      "mental_health_consequence 0.56974015748\n",
      "anonymity 0.568656794514\n",
      "leave 0.567065989332\n",
      "state 0.563501498603\n",
      "mental_vs_physical 0.561978511557\n",
      "obs_consequence 0.554148082296\n",
      "Country 0.546212700025\n",
      "seek_help 0.545223469647\n",
      "wellness_program 0.54395986792\n",
      "mental_health_interview 0.538379476759\n",
      "Age_cat 0.521461569723\n",
      "phys_health_consequence 0.518253340107\n",
      "no_employees 0.515682956566\n",
      "tech_company 0.512385877572\n",
      "remote_work 0.511227482855\n",
      "coworkers 0.508808585217\n",
      "supervisor 0.505997307595\n",
      "self_employed 0.504925425451\n",
      "phys_health_interview 0.49601503683\n"
     ]
    }
   ],
   "source": [
    "C = [10000,100, 1, 0.01,0.0001]\n",
    "cv_score = []\n",
    "result = []\n",
    "for col in data.columns:\n",
    "    col_code = pd.get_dummies(data[col])\n",
    "    for c in C:\n",
    "        lr = linear_model.LogisticRegression(C=c)\n",
    "        scores = cross_val_score(lr,col_code,y,cv = 5, scoring = 'roc_auc')\n",
    "        cv_score.append(scores.mean())\n",
    "    result.append((col,max(cv_score)))\n",
    "    #print col, max(cv_score)\n",
    "    cv_score = []\n",
    "result.sort(key=lambda tup: tup[1])\n",
    "result = result[::-1]\n",
    "for i,j in result:\n",
    "    print i, j"
   ]
  },
  {
   "cell_type": "code",
   "execution_count": 70,
   "metadata": {
    "collapsed": false
   },
   "outputs": [],
   "source": [
    "X_ohe = pd.get_dummies(data,[col for col in data.columns])"
   ]
  },
  {
   "cell_type": "code",
   "execution_count": 71,
   "metadata": {
    "collapsed": false
   },
   "outputs": [
    {
     "data": {
      "text/html": [
       "<div>\n",
       "<table border=\"1\" class=\"dataframe\">\n",
       "  <thead>\n",
       "    <tr style=\"text-align: right;\">\n",
       "      <th></th>\n",
       "      <th>0</th>\n",
       "      <th>1</th>\n",
       "      <th>2</th>\n",
       "      <th>3</th>\n",
       "      <th>4</th>\n",
       "      <th>5</th>\n",
       "      <th>6</th>\n",
       "      <th>7</th>\n",
       "      <th>8</th>\n",
       "      <th>9</th>\n",
       "      <th>...</th>\n",
       "      <th>1249</th>\n",
       "      <th>1250</th>\n",
       "      <th>1251</th>\n",
       "      <th>1252</th>\n",
       "      <th>1253</th>\n",
       "      <th>1254</th>\n",
       "      <th>1255</th>\n",
       "      <th>1256</th>\n",
       "      <th>1257</th>\n",
       "      <th>1258</th>\n",
       "    </tr>\n",
       "  </thead>\n",
       "  <tbody>\n",
       "    <tr>\n",
       "      <th>Gender_female</th>\n",
       "      <td>1.0</td>\n",
       "      <td>0.0</td>\n",
       "      <td>0.0</td>\n",
       "      <td>0.0</td>\n",
       "      <td>0.0</td>\n",
       "      <td>0.0</td>\n",
       "      <td>1.0</td>\n",
       "      <td>0.0</td>\n",
       "      <td>1.0</td>\n",
       "      <td>0.0</td>\n",
       "      <td>...</td>\n",
       "      <td>0.0</td>\n",
       "      <td>0.0</td>\n",
       "      <td>0.0</td>\n",
       "      <td>0.0</td>\n",
       "      <td>0.0</td>\n",
       "      <td>0.0</td>\n",
       "      <td>0.0</td>\n",
       "      <td>0.0</td>\n",
       "      <td>1.0</td>\n",
       "      <td>0.0</td>\n",
       "    </tr>\n",
       "    <tr>\n",
       "      <th>Gender_male</th>\n",
       "      <td>0.0</td>\n",
       "      <td>1.0</td>\n",
       "      <td>1.0</td>\n",
       "      <td>1.0</td>\n",
       "      <td>1.0</td>\n",
       "      <td>1.0</td>\n",
       "      <td>0.0</td>\n",
       "      <td>1.0</td>\n",
       "      <td>0.0</td>\n",
       "      <td>1.0</td>\n",
       "      <td>...</td>\n",
       "      <td>1.0</td>\n",
       "      <td>1.0</td>\n",
       "      <td>1.0</td>\n",
       "      <td>1.0</td>\n",
       "      <td>1.0</td>\n",
       "      <td>1.0</td>\n",
       "      <td>1.0</td>\n",
       "      <td>1.0</td>\n",
       "      <td>0.0</td>\n",
       "      <td>1.0</td>\n",
       "    </tr>\n",
       "    <tr>\n",
       "      <th>Gender_trans</th>\n",
       "      <td>0.0</td>\n",
       "      <td>0.0</td>\n",
       "      <td>0.0</td>\n",
       "      <td>0.0</td>\n",
       "      <td>0.0</td>\n",
       "      <td>0.0</td>\n",
       "      <td>0.0</td>\n",
       "      <td>0.0</td>\n",
       "      <td>0.0</td>\n",
       "      <td>0.0</td>\n",
       "      <td>...</td>\n",
       "      <td>0.0</td>\n",
       "      <td>0.0</td>\n",
       "      <td>0.0</td>\n",
       "      <td>0.0</td>\n",
       "      <td>0.0</td>\n",
       "      <td>0.0</td>\n",
       "      <td>0.0</td>\n",
       "      <td>0.0</td>\n",
       "      <td>0.0</td>\n",
       "      <td>0.0</td>\n",
       "    </tr>\n",
       "    <tr>\n",
       "      <th>Country_Australia</th>\n",
       "      <td>0.0</td>\n",
       "      <td>0.0</td>\n",
       "      <td>0.0</td>\n",
       "      <td>0.0</td>\n",
       "      <td>0.0</td>\n",
       "      <td>0.0</td>\n",
       "      <td>0.0</td>\n",
       "      <td>0.0</td>\n",
       "      <td>0.0</td>\n",
       "      <td>0.0</td>\n",
       "      <td>...</td>\n",
       "      <td>0.0</td>\n",
       "      <td>0.0</td>\n",
       "      <td>0.0</td>\n",
       "      <td>0.0</td>\n",
       "      <td>0.0</td>\n",
       "      <td>0.0</td>\n",
       "      <td>0.0</td>\n",
       "      <td>0.0</td>\n",
       "      <td>0.0</td>\n",
       "      <td>0.0</td>\n",
       "    </tr>\n",
       "    <tr>\n",
       "      <th>Country_Austria</th>\n",
       "      <td>0.0</td>\n",
       "      <td>0.0</td>\n",
       "      <td>0.0</td>\n",
       "      <td>0.0</td>\n",
       "      <td>0.0</td>\n",
       "      <td>0.0</td>\n",
       "      <td>0.0</td>\n",
       "      <td>0.0</td>\n",
       "      <td>0.0</td>\n",
       "      <td>0.0</td>\n",
       "      <td>...</td>\n",
       "      <td>0.0</td>\n",
       "      <td>0.0</td>\n",
       "      <td>0.0</td>\n",
       "      <td>0.0</td>\n",
       "      <td>0.0</td>\n",
       "      <td>0.0</td>\n",
       "      <td>0.0</td>\n",
       "      <td>0.0</td>\n",
       "      <td>0.0</td>\n",
       "      <td>0.0</td>\n",
       "    </tr>\n",
       "    <tr>\n",
       "      <th>Country_Belgium</th>\n",
       "      <td>0.0</td>\n",
       "      <td>0.0</td>\n",
       "      <td>0.0</td>\n",
       "      <td>0.0</td>\n",
       "      <td>0.0</td>\n",
       "      <td>0.0</td>\n",
       "      <td>0.0</td>\n",
       "      <td>0.0</td>\n",
       "      <td>0.0</td>\n",
       "      <td>0.0</td>\n",
       "      <td>...</td>\n",
       "      <td>0.0</td>\n",
       "      <td>0.0</td>\n",
       "      <td>0.0</td>\n",
       "      <td>0.0</td>\n",
       "      <td>0.0</td>\n",
       "      <td>0.0</td>\n",
       "      <td>0.0</td>\n",
       "      <td>0.0</td>\n",
       "      <td>0.0</td>\n",
       "      <td>0.0</td>\n",
       "    </tr>\n",
       "    <tr>\n",
       "      <th>Country_Bosnia and Herzegovina</th>\n",
       "      <td>0.0</td>\n",
       "      <td>0.0</td>\n",
       "      <td>0.0</td>\n",
       "      <td>0.0</td>\n",
       "      <td>0.0</td>\n",
       "      <td>0.0</td>\n",
       "      <td>0.0</td>\n",
       "      <td>0.0</td>\n",
       "      <td>0.0</td>\n",
       "      <td>0.0</td>\n",
       "      <td>...</td>\n",
       "      <td>0.0</td>\n",
       "      <td>0.0</td>\n",
       "      <td>0.0</td>\n",
       "      <td>0.0</td>\n",
       "      <td>0.0</td>\n",
       "      <td>0.0</td>\n",
       "      <td>0.0</td>\n",
       "      <td>0.0</td>\n",
       "      <td>0.0</td>\n",
       "      <td>0.0</td>\n",
       "    </tr>\n",
       "    <tr>\n",
       "      <th>Country_Brazil</th>\n",
       "      <td>0.0</td>\n",
       "      <td>0.0</td>\n",
       "      <td>0.0</td>\n",
       "      <td>0.0</td>\n",
       "      <td>0.0</td>\n",
       "      <td>0.0</td>\n",
       "      <td>0.0</td>\n",
       "      <td>0.0</td>\n",
       "      <td>0.0</td>\n",
       "      <td>0.0</td>\n",
       "      <td>...</td>\n",
       "      <td>0.0</td>\n",
       "      <td>0.0</td>\n",
       "      <td>0.0</td>\n",
       "      <td>0.0</td>\n",
       "      <td>0.0</td>\n",
       "      <td>0.0</td>\n",
       "      <td>0.0</td>\n",
       "      <td>0.0</td>\n",
       "      <td>0.0</td>\n",
       "      <td>0.0</td>\n",
       "    </tr>\n",
       "    <tr>\n",
       "      <th>Country_Bulgaria</th>\n",
       "      <td>0.0</td>\n",
       "      <td>0.0</td>\n",
       "      <td>0.0</td>\n",
       "      <td>0.0</td>\n",
       "      <td>0.0</td>\n",
       "      <td>0.0</td>\n",
       "      <td>0.0</td>\n",
       "      <td>0.0</td>\n",
       "      <td>0.0</td>\n",
       "      <td>0.0</td>\n",
       "      <td>...</td>\n",
       "      <td>0.0</td>\n",
       "      <td>0.0</td>\n",
       "      <td>0.0</td>\n",
       "      <td>0.0</td>\n",
       "      <td>0.0</td>\n",
       "      <td>0.0</td>\n",
       "      <td>0.0</td>\n",
       "      <td>0.0</td>\n",
       "      <td>0.0</td>\n",
       "      <td>0.0</td>\n",
       "    </tr>\n",
       "    <tr>\n",
       "      <th>Country_Canada</th>\n",
       "      <td>0.0</td>\n",
       "      <td>0.0</td>\n",
       "      <td>1.0</td>\n",
       "      <td>0.0</td>\n",
       "      <td>0.0</td>\n",
       "      <td>0.0</td>\n",
       "      <td>0.0</td>\n",
       "      <td>1.0</td>\n",
       "      <td>0.0</td>\n",
       "      <td>1.0</td>\n",
       "      <td>...</td>\n",
       "      <td>0.0</td>\n",
       "      <td>0.0</td>\n",
       "      <td>0.0</td>\n",
       "      <td>0.0</td>\n",
       "      <td>0.0</td>\n",
       "      <td>0.0</td>\n",
       "      <td>0.0</td>\n",
       "      <td>0.0</td>\n",
       "      <td>0.0</td>\n",
       "      <td>0.0</td>\n",
       "    </tr>\n",
       "    <tr>\n",
       "      <th>Country_China</th>\n",
       "      <td>0.0</td>\n",
       "      <td>0.0</td>\n",
       "      <td>0.0</td>\n",
       "      <td>0.0</td>\n",
       "      <td>0.0</td>\n",
       "      <td>0.0</td>\n",
       "      <td>0.0</td>\n",
       "      <td>0.0</td>\n",
       "      <td>0.0</td>\n",
       "      <td>0.0</td>\n",
       "      <td>...</td>\n",
       "      <td>0.0</td>\n",
       "      <td>0.0</td>\n",
       "      <td>0.0</td>\n",
       "      <td>0.0</td>\n",
       "      <td>0.0</td>\n",
       "      <td>0.0</td>\n",
       "      <td>0.0</td>\n",
       "      <td>0.0</td>\n",
       "      <td>0.0</td>\n",
       "      <td>0.0</td>\n",
       "    </tr>\n",
       "    <tr>\n",
       "      <th>Country_Colombia</th>\n",
       "      <td>0.0</td>\n",
       "      <td>0.0</td>\n",
       "      <td>0.0</td>\n",
       "      <td>0.0</td>\n",
       "      <td>0.0</td>\n",
       "      <td>0.0</td>\n",
       "      <td>0.0</td>\n",
       "      <td>0.0</td>\n",
       "      <td>0.0</td>\n",
       "      <td>0.0</td>\n",
       "      <td>...</td>\n",
       "      <td>0.0</td>\n",
       "      <td>0.0</td>\n",
       "      <td>0.0</td>\n",
       "      <td>0.0</td>\n",
       "      <td>0.0</td>\n",
       "      <td>0.0</td>\n",
       "      <td>0.0</td>\n",
       "      <td>0.0</td>\n",
       "      <td>0.0</td>\n",
       "      <td>0.0</td>\n",
       "    </tr>\n",
       "    <tr>\n",
       "      <th>Country_Costa Rica</th>\n",
       "      <td>0.0</td>\n",
       "      <td>0.0</td>\n",
       "      <td>0.0</td>\n",
       "      <td>0.0</td>\n",
       "      <td>0.0</td>\n",
       "      <td>0.0</td>\n",
       "      <td>0.0</td>\n",
       "      <td>0.0</td>\n",
       "      <td>0.0</td>\n",
       "      <td>0.0</td>\n",
       "      <td>...</td>\n",
       "      <td>0.0</td>\n",
       "      <td>0.0</td>\n",
       "      <td>0.0</td>\n",
       "      <td>0.0</td>\n",
       "      <td>0.0</td>\n",
       "      <td>0.0</td>\n",
       "      <td>0.0</td>\n",
       "      <td>0.0</td>\n",
       "      <td>0.0</td>\n",
       "      <td>0.0</td>\n",
       "    </tr>\n",
       "    <tr>\n",
       "      <th>Country_Croatia</th>\n",
       "      <td>0.0</td>\n",
       "      <td>0.0</td>\n",
       "      <td>0.0</td>\n",
       "      <td>0.0</td>\n",
       "      <td>0.0</td>\n",
       "      <td>0.0</td>\n",
       "      <td>0.0</td>\n",
       "      <td>0.0</td>\n",
       "      <td>0.0</td>\n",
       "      <td>0.0</td>\n",
       "      <td>...</td>\n",
       "      <td>0.0</td>\n",
       "      <td>0.0</td>\n",
       "      <td>0.0</td>\n",
       "      <td>0.0</td>\n",
       "      <td>0.0</td>\n",
       "      <td>0.0</td>\n",
       "      <td>0.0</td>\n",
       "      <td>0.0</td>\n",
       "      <td>0.0</td>\n",
       "      <td>0.0</td>\n",
       "    </tr>\n",
       "    <tr>\n",
       "      <th>Country_Czech Republic</th>\n",
       "      <td>0.0</td>\n",
       "      <td>0.0</td>\n",
       "      <td>0.0</td>\n",
       "      <td>0.0</td>\n",
       "      <td>0.0</td>\n",
       "      <td>0.0</td>\n",
       "      <td>0.0</td>\n",
       "      <td>0.0</td>\n",
       "      <td>0.0</td>\n",
       "      <td>0.0</td>\n",
       "      <td>...</td>\n",
       "      <td>0.0</td>\n",
       "      <td>0.0</td>\n",
       "      <td>0.0</td>\n",
       "      <td>0.0</td>\n",
       "      <td>0.0</td>\n",
       "      <td>0.0</td>\n",
       "      <td>0.0</td>\n",
       "      <td>0.0</td>\n",
       "      <td>0.0</td>\n",
       "      <td>0.0</td>\n",
       "    </tr>\n",
       "    <tr>\n",
       "      <th>Country_Denmark</th>\n",
       "      <td>0.0</td>\n",
       "      <td>0.0</td>\n",
       "      <td>0.0</td>\n",
       "      <td>0.0</td>\n",
       "      <td>0.0</td>\n",
       "      <td>0.0</td>\n",
       "      <td>0.0</td>\n",
       "      <td>0.0</td>\n",
       "      <td>0.0</td>\n",
       "      <td>0.0</td>\n",
       "      <td>...</td>\n",
       "      <td>0.0</td>\n",
       "      <td>0.0</td>\n",
       "      <td>0.0</td>\n",
       "      <td>0.0</td>\n",
       "      <td>0.0</td>\n",
       "      <td>0.0</td>\n",
       "      <td>0.0</td>\n",
       "      <td>0.0</td>\n",
       "      <td>0.0</td>\n",
       "      <td>0.0</td>\n",
       "    </tr>\n",
       "    <tr>\n",
       "      <th>Country_Finland</th>\n",
       "      <td>0.0</td>\n",
       "      <td>0.0</td>\n",
       "      <td>0.0</td>\n",
       "      <td>0.0</td>\n",
       "      <td>0.0</td>\n",
       "      <td>0.0</td>\n",
       "      <td>0.0</td>\n",
       "      <td>0.0</td>\n",
       "      <td>0.0</td>\n",
       "      <td>0.0</td>\n",
       "      <td>...</td>\n",
       "      <td>0.0</td>\n",
       "      <td>0.0</td>\n",
       "      <td>0.0</td>\n",
       "      <td>0.0</td>\n",
       "      <td>0.0</td>\n",
       "      <td>0.0</td>\n",
       "      <td>0.0</td>\n",
       "      <td>0.0</td>\n",
       "      <td>0.0</td>\n",
       "      <td>0.0</td>\n",
       "    </tr>\n",
       "    <tr>\n",
       "      <th>Country_France</th>\n",
       "      <td>0.0</td>\n",
       "      <td>0.0</td>\n",
       "      <td>0.0</td>\n",
       "      <td>0.0</td>\n",
       "      <td>0.0</td>\n",
       "      <td>0.0</td>\n",
       "      <td>0.0</td>\n",
       "      <td>0.0</td>\n",
       "      <td>0.0</td>\n",
       "      <td>0.0</td>\n",
       "      <td>...</td>\n",
       "      <td>0.0</td>\n",
       "      <td>0.0</td>\n",
       "      <td>0.0</td>\n",
       "      <td>0.0</td>\n",
       "      <td>0.0</td>\n",
       "      <td>0.0</td>\n",
       "      <td>0.0</td>\n",
       "      <td>0.0</td>\n",
       "      <td>0.0</td>\n",
       "      <td>0.0</td>\n",
       "    </tr>\n",
       "    <tr>\n",
       "      <th>Country_Georgia</th>\n",
       "      <td>0.0</td>\n",
       "      <td>0.0</td>\n",
       "      <td>0.0</td>\n",
       "      <td>0.0</td>\n",
       "      <td>0.0</td>\n",
       "      <td>0.0</td>\n",
       "      <td>0.0</td>\n",
       "      <td>0.0</td>\n",
       "      <td>0.0</td>\n",
       "      <td>0.0</td>\n",
       "      <td>...</td>\n",
       "      <td>0.0</td>\n",
       "      <td>0.0</td>\n",
       "      <td>0.0</td>\n",
       "      <td>0.0</td>\n",
       "      <td>0.0</td>\n",
       "      <td>0.0</td>\n",
       "      <td>0.0</td>\n",
       "      <td>0.0</td>\n",
       "      <td>0.0</td>\n",
       "      <td>0.0</td>\n",
       "    </tr>\n",
       "    <tr>\n",
       "      <th>Country_Germany</th>\n",
       "      <td>0.0</td>\n",
       "      <td>0.0</td>\n",
       "      <td>0.0</td>\n",
       "      <td>0.0</td>\n",
       "      <td>0.0</td>\n",
       "      <td>0.0</td>\n",
       "      <td>0.0</td>\n",
       "      <td>0.0</td>\n",
       "      <td>0.0</td>\n",
       "      <td>0.0</td>\n",
       "      <td>...</td>\n",
       "      <td>0.0</td>\n",
       "      <td>0.0</td>\n",
       "      <td>0.0</td>\n",
       "      <td>0.0</td>\n",
       "      <td>0.0</td>\n",
       "      <td>0.0</td>\n",
       "      <td>0.0</td>\n",
       "      <td>0.0</td>\n",
       "      <td>0.0</td>\n",
       "      <td>0.0</td>\n",
       "    </tr>\n",
       "    <tr>\n",
       "      <th>Country_Greece</th>\n",
       "      <td>0.0</td>\n",
       "      <td>0.0</td>\n",
       "      <td>0.0</td>\n",
       "      <td>0.0</td>\n",
       "      <td>0.0</td>\n",
       "      <td>0.0</td>\n",
       "      <td>0.0</td>\n",
       "      <td>0.0</td>\n",
       "      <td>0.0</td>\n",
       "      <td>0.0</td>\n",
       "      <td>...</td>\n",
       "      <td>0.0</td>\n",
       "      <td>0.0</td>\n",
       "      <td>0.0</td>\n",
       "      <td>0.0</td>\n",
       "      <td>0.0</td>\n",
       "      <td>0.0</td>\n",
       "      <td>0.0</td>\n",
       "      <td>0.0</td>\n",
       "      <td>0.0</td>\n",
       "      <td>0.0</td>\n",
       "    </tr>\n",
       "    <tr>\n",
       "      <th>Country_Hungary</th>\n",
       "      <td>0.0</td>\n",
       "      <td>0.0</td>\n",
       "      <td>0.0</td>\n",
       "      <td>0.0</td>\n",
       "      <td>0.0</td>\n",
       "      <td>0.0</td>\n",
       "      <td>0.0</td>\n",
       "      <td>0.0</td>\n",
       "      <td>0.0</td>\n",
       "      <td>0.0</td>\n",
       "      <td>...</td>\n",
       "      <td>0.0</td>\n",
       "      <td>0.0</td>\n",
       "      <td>0.0</td>\n",
       "      <td>0.0</td>\n",
       "      <td>0.0</td>\n",
       "      <td>0.0</td>\n",
       "      <td>0.0</td>\n",
       "      <td>0.0</td>\n",
       "      <td>0.0</td>\n",
       "      <td>0.0</td>\n",
       "    </tr>\n",
       "    <tr>\n",
       "      <th>Country_India</th>\n",
       "      <td>0.0</td>\n",
       "      <td>0.0</td>\n",
       "      <td>0.0</td>\n",
       "      <td>0.0</td>\n",
       "      <td>0.0</td>\n",
       "      <td>0.0</td>\n",
       "      <td>0.0</td>\n",
       "      <td>0.0</td>\n",
       "      <td>0.0</td>\n",
       "      <td>0.0</td>\n",
       "      <td>...</td>\n",
       "      <td>0.0</td>\n",
       "      <td>0.0</td>\n",
       "      <td>0.0</td>\n",
       "      <td>0.0</td>\n",
       "      <td>0.0</td>\n",
       "      <td>0.0</td>\n",
       "      <td>0.0</td>\n",
       "      <td>0.0</td>\n",
       "      <td>0.0</td>\n",
       "      <td>0.0</td>\n",
       "    </tr>\n",
       "    <tr>\n",
       "      <th>Country_Ireland</th>\n",
       "      <td>0.0</td>\n",
       "      <td>0.0</td>\n",
       "      <td>0.0</td>\n",
       "      <td>0.0</td>\n",
       "      <td>0.0</td>\n",
       "      <td>0.0</td>\n",
       "      <td>0.0</td>\n",
       "      <td>0.0</td>\n",
       "      <td>0.0</td>\n",
       "      <td>0.0</td>\n",
       "      <td>...</td>\n",
       "      <td>0.0</td>\n",
       "      <td>0.0</td>\n",
       "      <td>0.0</td>\n",
       "      <td>0.0</td>\n",
       "      <td>0.0</td>\n",
       "      <td>0.0</td>\n",
       "      <td>0.0</td>\n",
       "      <td>0.0</td>\n",
       "      <td>0.0</td>\n",
       "      <td>0.0</td>\n",
       "    </tr>\n",
       "    <tr>\n",
       "      <th>Country_Israel</th>\n",
       "      <td>0.0</td>\n",
       "      <td>0.0</td>\n",
       "      <td>0.0</td>\n",
       "      <td>0.0</td>\n",
       "      <td>0.0</td>\n",
       "      <td>0.0</td>\n",
       "      <td>0.0</td>\n",
       "      <td>0.0</td>\n",
       "      <td>0.0</td>\n",
       "      <td>0.0</td>\n",
       "      <td>...</td>\n",
       "      <td>0.0</td>\n",
       "      <td>0.0</td>\n",
       "      <td>0.0</td>\n",
       "      <td>0.0</td>\n",
       "      <td>0.0</td>\n",
       "      <td>0.0</td>\n",
       "      <td>0.0</td>\n",
       "      <td>0.0</td>\n",
       "      <td>0.0</td>\n",
       "      <td>0.0</td>\n",
       "    </tr>\n",
       "    <tr>\n",
       "      <th>Country_Italy</th>\n",
       "      <td>0.0</td>\n",
       "      <td>0.0</td>\n",
       "      <td>0.0</td>\n",
       "      <td>0.0</td>\n",
       "      <td>0.0</td>\n",
       "      <td>0.0</td>\n",
       "      <td>0.0</td>\n",
       "      <td>0.0</td>\n",
       "      <td>0.0</td>\n",
       "      <td>0.0</td>\n",
       "      <td>...</td>\n",
       "      <td>0.0</td>\n",
       "      <td>0.0</td>\n",
       "      <td>0.0</td>\n",
       "      <td>0.0</td>\n",
       "      <td>0.0</td>\n",
       "      <td>0.0</td>\n",
       "      <td>0.0</td>\n",
       "      <td>0.0</td>\n",
       "      <td>0.0</td>\n",
       "      <td>0.0</td>\n",
       "    </tr>\n",
       "    <tr>\n",
       "      <th>Country_Japan</th>\n",
       "      <td>0.0</td>\n",
       "      <td>0.0</td>\n",
       "      <td>0.0</td>\n",
       "      <td>0.0</td>\n",
       "      <td>0.0</td>\n",
       "      <td>0.0</td>\n",
       "      <td>0.0</td>\n",
       "      <td>0.0</td>\n",
       "      <td>0.0</td>\n",
       "      <td>0.0</td>\n",
       "      <td>...</td>\n",
       "      <td>0.0</td>\n",
       "      <td>0.0</td>\n",
       "      <td>0.0</td>\n",
       "      <td>0.0</td>\n",
       "      <td>0.0</td>\n",
       "      <td>0.0</td>\n",
       "      <td>0.0</td>\n",
       "      <td>0.0</td>\n",
       "      <td>0.0</td>\n",
       "      <td>0.0</td>\n",
       "    </tr>\n",
       "    <tr>\n",
       "      <th>Country_Latvia</th>\n",
       "      <td>0.0</td>\n",
       "      <td>0.0</td>\n",
       "      <td>0.0</td>\n",
       "      <td>0.0</td>\n",
       "      <td>0.0</td>\n",
       "      <td>0.0</td>\n",
       "      <td>0.0</td>\n",
       "      <td>0.0</td>\n",
       "      <td>0.0</td>\n",
       "      <td>0.0</td>\n",
       "      <td>...</td>\n",
       "      <td>0.0</td>\n",
       "      <td>0.0</td>\n",
       "      <td>0.0</td>\n",
       "      <td>0.0</td>\n",
       "      <td>0.0</td>\n",
       "      <td>0.0</td>\n",
       "      <td>0.0</td>\n",
       "      <td>0.0</td>\n",
       "      <td>0.0</td>\n",
       "      <td>0.0</td>\n",
       "    </tr>\n",
       "    <tr>\n",
       "      <th>Country_Mexico</th>\n",
       "      <td>0.0</td>\n",
       "      <td>0.0</td>\n",
       "      <td>0.0</td>\n",
       "      <td>0.0</td>\n",
       "      <td>0.0</td>\n",
       "      <td>0.0</td>\n",
       "      <td>0.0</td>\n",
       "      <td>0.0</td>\n",
       "      <td>0.0</td>\n",
       "      <td>0.0</td>\n",
       "      <td>...</td>\n",
       "      <td>0.0</td>\n",
       "      <td>0.0</td>\n",
       "      <td>0.0</td>\n",
       "      <td>0.0</td>\n",
       "      <td>0.0</td>\n",
       "      <td>0.0</td>\n",
       "      <td>0.0</td>\n",
       "      <td>0.0</td>\n",
       "      <td>0.0</td>\n",
       "      <td>0.0</td>\n",
       "    </tr>\n",
       "    <tr>\n",
       "      <th>Country_Moldova</th>\n",
       "      <td>0.0</td>\n",
       "      <td>0.0</td>\n",
       "      <td>0.0</td>\n",
       "      <td>0.0</td>\n",
       "      <td>0.0</td>\n",
       "      <td>0.0</td>\n",
       "      <td>0.0</td>\n",
       "      <td>0.0</td>\n",
       "      <td>0.0</td>\n",
       "      <td>0.0</td>\n",
       "      <td>...</td>\n",
       "      <td>0.0</td>\n",
       "      <td>0.0</td>\n",
       "      <td>0.0</td>\n",
       "      <td>0.0</td>\n",
       "      <td>0.0</td>\n",
       "      <td>0.0</td>\n",
       "      <td>0.0</td>\n",
       "      <td>0.0</td>\n",
       "      <td>0.0</td>\n",
       "      <td>0.0</td>\n",
       "    </tr>\n",
       "    <tr>\n",
       "      <th>Country_Netherlands</th>\n",
       "      <td>0.0</td>\n",
       "      <td>0.0</td>\n",
       "      <td>0.0</td>\n",
       "      <td>0.0</td>\n",
       "      <td>0.0</td>\n",
       "      <td>0.0</td>\n",
       "      <td>0.0</td>\n",
       "      <td>0.0</td>\n",
       "      <td>0.0</td>\n",
       "      <td>0.0</td>\n",
       "      <td>...</td>\n",
       "      <td>0.0</td>\n",
       "      <td>0.0</td>\n",
       "      <td>0.0</td>\n",
       "      <td>0.0</td>\n",
       "      <td>0.0</td>\n",
       "      <td>0.0</td>\n",
       "      <td>0.0</td>\n",
       "      <td>0.0</td>\n",
       "      <td>0.0</td>\n",
       "      <td>0.0</td>\n",
       "    </tr>\n",
       "    <tr>\n",
       "      <th>Country_New Zealand</th>\n",
       "      <td>0.0</td>\n",
       "      <td>0.0</td>\n",
       "      <td>0.0</td>\n",
       "      <td>0.0</td>\n",
       "      <td>0.0</td>\n",
       "      <td>0.0</td>\n",
       "      <td>0.0</td>\n",
       "      <td>0.0</td>\n",
       "      <td>0.0</td>\n",
       "      <td>0.0</td>\n",
       "      <td>...</td>\n",
       "      <td>0.0</td>\n",
       "      <td>0.0</td>\n",
       "      <td>0.0</td>\n",
       "      <td>0.0</td>\n",
       "      <td>0.0</td>\n",
       "      <td>0.0</td>\n",
       "      <td>0.0</td>\n",
       "      <td>0.0</td>\n",
       "      <td>0.0</td>\n",
       "      <td>0.0</td>\n",
       "    </tr>\n",
       "    <tr>\n",
       "      <th>Country_Nigeria</th>\n",
       "      <td>0.0</td>\n",
       "      <td>0.0</td>\n",
       "      <td>0.0</td>\n",
       "      <td>0.0</td>\n",
       "      <td>0.0</td>\n",
       "      <td>0.0</td>\n",
       "      <td>0.0</td>\n",
       "      <td>0.0</td>\n",
       "      <td>0.0</td>\n",
       "      <td>0.0</td>\n",
       "      <td>...</td>\n",
       "      <td>0.0</td>\n",
       "      <td>0.0</td>\n",
       "      <td>0.0</td>\n",
       "      <td>0.0</td>\n",
       "      <td>0.0</td>\n",
       "      <td>0.0</td>\n",
       "      <td>0.0</td>\n",
       "      <td>0.0</td>\n",
       "      <td>0.0</td>\n",
       "      <td>0.0</td>\n",
       "    </tr>\n",
       "    <tr>\n",
       "      <th>Country_Norway</th>\n",
       "      <td>0.0</td>\n",
       "      <td>0.0</td>\n",
       "      <td>0.0</td>\n",
       "      <td>0.0</td>\n",
       "      <td>0.0</td>\n",
       "      <td>0.0</td>\n",
       "      <td>0.0</td>\n",
       "      <td>0.0</td>\n",
       "      <td>0.0</td>\n",
       "      <td>0.0</td>\n",
       "      <td>...</td>\n",
       "      <td>0.0</td>\n",
       "      <td>0.0</td>\n",
       "      <td>0.0</td>\n",
       "      <td>0.0</td>\n",
       "      <td>0.0</td>\n",
       "      <td>0.0</td>\n",
       "      <td>0.0</td>\n",
       "      <td>0.0</td>\n",
       "      <td>0.0</td>\n",
       "      <td>0.0</td>\n",
       "    </tr>\n",
       "    <tr>\n",
       "      <th>Country_Philippines</th>\n",
       "      <td>0.0</td>\n",
       "      <td>0.0</td>\n",
       "      <td>0.0</td>\n",
       "      <td>0.0</td>\n",
       "      <td>0.0</td>\n",
       "      <td>0.0</td>\n",
       "      <td>0.0</td>\n",
       "      <td>0.0</td>\n",
       "      <td>0.0</td>\n",
       "      <td>0.0</td>\n",
       "      <td>...</td>\n",
       "      <td>0.0</td>\n",
       "      <td>0.0</td>\n",
       "      <td>0.0</td>\n",
       "      <td>0.0</td>\n",
       "      <td>0.0</td>\n",
       "      <td>0.0</td>\n",
       "      <td>0.0</td>\n",
       "      <td>0.0</td>\n",
       "      <td>0.0</td>\n",
       "      <td>0.0</td>\n",
       "    </tr>\n",
       "    <tr>\n",
       "      <th>Country_Poland</th>\n",
       "      <td>0.0</td>\n",
       "      <td>0.0</td>\n",
       "      <td>0.0</td>\n",
       "      <td>0.0</td>\n",
       "      <td>0.0</td>\n",
       "      <td>0.0</td>\n",
       "      <td>0.0</td>\n",
       "      <td>0.0</td>\n",
       "      <td>0.0</td>\n",
       "      <td>0.0</td>\n",
       "      <td>...</td>\n",
       "      <td>0.0</td>\n",
       "      <td>0.0</td>\n",
       "      <td>0.0</td>\n",
       "      <td>0.0</td>\n",
       "      <td>0.0</td>\n",
       "      <td>0.0</td>\n",
       "      <td>0.0</td>\n",
       "      <td>0.0</td>\n",
       "      <td>0.0</td>\n",
       "      <td>0.0</td>\n",
       "    </tr>\n",
       "    <tr>\n",
       "      <th>Country_Portugal</th>\n",
       "      <td>0.0</td>\n",
       "      <td>0.0</td>\n",
       "      <td>0.0</td>\n",
       "      <td>0.0</td>\n",
       "      <td>0.0</td>\n",
       "      <td>0.0</td>\n",
       "      <td>0.0</td>\n",
       "      <td>0.0</td>\n",
       "      <td>0.0</td>\n",
       "      <td>0.0</td>\n",
       "      <td>...</td>\n",
       "      <td>0.0</td>\n",
       "      <td>0.0</td>\n",
       "      <td>0.0</td>\n",
       "      <td>0.0</td>\n",
       "      <td>0.0</td>\n",
       "      <td>0.0</td>\n",
       "      <td>0.0</td>\n",
       "      <td>0.0</td>\n",
       "      <td>0.0</td>\n",
       "      <td>0.0</td>\n",
       "    </tr>\n",
       "    <tr>\n",
       "      <th>Country_Romania</th>\n",
       "      <td>0.0</td>\n",
       "      <td>0.0</td>\n",
       "      <td>0.0</td>\n",
       "      <td>0.0</td>\n",
       "      <td>0.0</td>\n",
       "      <td>0.0</td>\n",
       "      <td>0.0</td>\n",
       "      <td>0.0</td>\n",
       "      <td>0.0</td>\n",
       "      <td>0.0</td>\n",
       "      <td>...</td>\n",
       "      <td>0.0</td>\n",
       "      <td>0.0</td>\n",
       "      <td>0.0</td>\n",
       "      <td>0.0</td>\n",
       "      <td>0.0</td>\n",
       "      <td>0.0</td>\n",
       "      <td>0.0</td>\n",
       "      <td>0.0</td>\n",
       "      <td>0.0</td>\n",
       "      <td>0.0</td>\n",
       "    </tr>\n",
       "    <tr>\n",
       "      <th>Country_Russia</th>\n",
       "      <td>0.0</td>\n",
       "      <td>0.0</td>\n",
       "      <td>0.0</td>\n",
       "      <td>0.0</td>\n",
       "      <td>0.0</td>\n",
       "      <td>0.0</td>\n",
       "      <td>0.0</td>\n",
       "      <td>0.0</td>\n",
       "      <td>0.0</td>\n",
       "      <td>0.0</td>\n",
       "      <td>...</td>\n",
       "      <td>0.0</td>\n",
       "      <td>0.0</td>\n",
       "      <td>0.0</td>\n",
       "      <td>0.0</td>\n",
       "      <td>0.0</td>\n",
       "      <td>0.0</td>\n",
       "      <td>0.0</td>\n",
       "      <td>0.0</td>\n",
       "      <td>0.0</td>\n",
       "      <td>0.0</td>\n",
       "    </tr>\n",
       "    <tr>\n",
       "      <th>Country_Singapore</th>\n",
       "      <td>0.0</td>\n",
       "      <td>0.0</td>\n",
       "      <td>0.0</td>\n",
       "      <td>0.0</td>\n",
       "      <td>0.0</td>\n",
       "      <td>0.0</td>\n",
       "      <td>0.0</td>\n",
       "      <td>0.0</td>\n",
       "      <td>0.0</td>\n",
       "      <td>0.0</td>\n",
       "      <td>...</td>\n",
       "      <td>0.0</td>\n",
       "      <td>0.0</td>\n",
       "      <td>0.0</td>\n",
       "      <td>0.0</td>\n",
       "      <td>0.0</td>\n",
       "      <td>0.0</td>\n",
       "      <td>0.0</td>\n",
       "      <td>0.0</td>\n",
       "      <td>0.0</td>\n",
       "      <td>0.0</td>\n",
       "    </tr>\n",
       "    <tr>\n",
       "      <th>Country_Slovenia</th>\n",
       "      <td>0.0</td>\n",
       "      <td>0.0</td>\n",
       "      <td>0.0</td>\n",
       "      <td>0.0</td>\n",
       "      <td>0.0</td>\n",
       "      <td>0.0</td>\n",
       "      <td>0.0</td>\n",
       "      <td>0.0</td>\n",
       "      <td>0.0</td>\n",
       "      <td>0.0</td>\n",
       "      <td>...</td>\n",
       "      <td>0.0</td>\n",
       "      <td>0.0</td>\n",
       "      <td>0.0</td>\n",
       "      <td>0.0</td>\n",
       "      <td>0.0</td>\n",
       "      <td>0.0</td>\n",
       "      <td>0.0</td>\n",
       "      <td>0.0</td>\n",
       "      <td>0.0</td>\n",
       "      <td>0.0</td>\n",
       "    </tr>\n",
       "    <tr>\n",
       "      <th>Country_South Africa</th>\n",
       "      <td>0.0</td>\n",
       "      <td>0.0</td>\n",
       "      <td>0.0</td>\n",
       "      <td>0.0</td>\n",
       "      <td>0.0</td>\n",
       "      <td>0.0</td>\n",
       "      <td>0.0</td>\n",
       "      <td>0.0</td>\n",
       "      <td>0.0</td>\n",
       "      <td>0.0</td>\n",
       "      <td>...</td>\n",
       "      <td>0.0</td>\n",
       "      <td>0.0</td>\n",
       "      <td>1.0</td>\n",
       "      <td>0.0</td>\n",
       "      <td>0.0</td>\n",
       "      <td>0.0</td>\n",
       "      <td>0.0</td>\n",
       "      <td>0.0</td>\n",
       "      <td>0.0</td>\n",
       "      <td>0.0</td>\n",
       "    </tr>\n",
       "    <tr>\n",
       "      <th>Country_Spain</th>\n",
       "      <td>0.0</td>\n",
       "      <td>0.0</td>\n",
       "      <td>0.0</td>\n",
       "      <td>0.0</td>\n",
       "      <td>0.0</td>\n",
       "      <td>0.0</td>\n",
       "      <td>0.0</td>\n",
       "      <td>0.0</td>\n",
       "      <td>0.0</td>\n",
       "      <td>0.0</td>\n",
       "      <td>...</td>\n",
       "      <td>0.0</td>\n",
       "      <td>0.0</td>\n",
       "      <td>0.0</td>\n",
       "      <td>0.0</td>\n",
       "      <td>0.0</td>\n",
       "      <td>0.0</td>\n",
       "      <td>0.0</td>\n",
       "      <td>0.0</td>\n",
       "      <td>0.0</td>\n",
       "      <td>0.0</td>\n",
       "    </tr>\n",
       "    <tr>\n",
       "      <th>Country_Sweden</th>\n",
       "      <td>0.0</td>\n",
       "      <td>0.0</td>\n",
       "      <td>0.0</td>\n",
       "      <td>0.0</td>\n",
       "      <td>0.0</td>\n",
       "      <td>0.0</td>\n",
       "      <td>0.0</td>\n",
       "      <td>0.0</td>\n",
       "      <td>0.0</td>\n",
       "      <td>0.0</td>\n",
       "      <td>...</td>\n",
       "      <td>0.0</td>\n",
       "      <td>0.0</td>\n",
       "      <td>0.0</td>\n",
       "      <td>0.0</td>\n",
       "      <td>0.0</td>\n",
       "      <td>0.0</td>\n",
       "      <td>0.0</td>\n",
       "      <td>0.0</td>\n",
       "      <td>0.0</td>\n",
       "      <td>0.0</td>\n",
       "    </tr>\n",
       "    <tr>\n",
       "      <th>Country_Switzerland</th>\n",
       "      <td>0.0</td>\n",
       "      <td>0.0</td>\n",
       "      <td>0.0</td>\n",
       "      <td>0.0</td>\n",
       "      <td>0.0</td>\n",
       "      <td>0.0</td>\n",
       "      <td>0.0</td>\n",
       "      <td>0.0</td>\n",
       "      <td>0.0</td>\n",
       "      <td>0.0</td>\n",
       "      <td>...</td>\n",
       "      <td>0.0</td>\n",
       "      <td>0.0</td>\n",
       "      <td>0.0</td>\n",
       "      <td>0.0</td>\n",
       "      <td>0.0</td>\n",
       "      <td>0.0</td>\n",
       "      <td>0.0</td>\n",
       "      <td>0.0</td>\n",
       "      <td>0.0</td>\n",
       "      <td>0.0</td>\n",
       "    </tr>\n",
       "    <tr>\n",
       "      <th>Country_Thailand</th>\n",
       "      <td>0.0</td>\n",
       "      <td>0.0</td>\n",
       "      <td>0.0</td>\n",
       "      <td>0.0</td>\n",
       "      <td>0.0</td>\n",
       "      <td>0.0</td>\n",
       "      <td>0.0</td>\n",
       "      <td>0.0</td>\n",
       "      <td>0.0</td>\n",
       "      <td>0.0</td>\n",
       "      <td>...</td>\n",
       "      <td>0.0</td>\n",
       "      <td>0.0</td>\n",
       "      <td>0.0</td>\n",
       "      <td>0.0</td>\n",
       "      <td>0.0</td>\n",
       "      <td>0.0</td>\n",
       "      <td>0.0</td>\n",
       "      <td>0.0</td>\n",
       "      <td>0.0</td>\n",
       "      <td>0.0</td>\n",
       "    </tr>\n",
       "    <tr>\n",
       "      <th>Country_United Kingdom</th>\n",
       "      <td>0.0</td>\n",
       "      <td>0.0</td>\n",
       "      <td>0.0</td>\n",
       "      <td>1.0</td>\n",
       "      <td>0.0</td>\n",
       "      <td>0.0</td>\n",
       "      <td>0.0</td>\n",
       "      <td>0.0</td>\n",
       "      <td>0.0</td>\n",
       "      <td>0.0</td>\n",
       "      <td>...</td>\n",
       "      <td>0.0</td>\n",
       "      <td>0.0</td>\n",
       "      <td>0.0</td>\n",
       "      <td>0.0</td>\n",
       "      <td>0.0</td>\n",
       "      <td>1.0</td>\n",
       "      <td>0.0</td>\n",
       "      <td>0.0</td>\n",
       "      <td>0.0</td>\n",
       "      <td>0.0</td>\n",
       "    </tr>\n",
       "    <tr>\n",
       "      <th>Country_United States</th>\n",
       "      <td>1.0</td>\n",
       "      <td>1.0</td>\n",
       "      <td>0.0</td>\n",
       "      <td>0.0</td>\n",
       "      <td>1.0</td>\n",
       "      <td>1.0</td>\n",
       "      <td>1.0</td>\n",
       "      <td>0.0</td>\n",
       "      <td>1.0</td>\n",
       "      <td>0.0</td>\n",
       "      <td>...</td>\n",
       "      <td>1.0</td>\n",
       "      <td>1.0</td>\n",
       "      <td>0.0</td>\n",
       "      <td>1.0</td>\n",
       "      <td>1.0</td>\n",
       "      <td>0.0</td>\n",
       "      <td>1.0</td>\n",
       "      <td>1.0</td>\n",
       "      <td>1.0</td>\n",
       "      <td>1.0</td>\n",
       "    </tr>\n",
       "    <tr>\n",
       "      <th>Country_Uruguay</th>\n",
       "      <td>0.0</td>\n",
       "      <td>0.0</td>\n",
       "      <td>0.0</td>\n",
       "      <td>0.0</td>\n",
       "      <td>0.0</td>\n",
       "      <td>0.0</td>\n",
       "      <td>0.0</td>\n",
       "      <td>0.0</td>\n",
       "      <td>0.0</td>\n",
       "      <td>0.0</td>\n",
       "      <td>...</td>\n",
       "      <td>0.0</td>\n",
       "      <td>0.0</td>\n",
       "      <td>0.0</td>\n",
       "      <td>0.0</td>\n",
       "      <td>0.0</td>\n",
       "      <td>0.0</td>\n",
       "      <td>0.0</td>\n",
       "      <td>0.0</td>\n",
       "      <td>0.0</td>\n",
       "      <td>0.0</td>\n",
       "    </tr>\n",
       "    <tr>\n",
       "      <th>Country_Zimbabwe</th>\n",
       "      <td>0.0</td>\n",
       "      <td>0.0</td>\n",
       "      <td>0.0</td>\n",
       "      <td>0.0</td>\n",
       "      <td>0.0</td>\n",
       "      <td>0.0</td>\n",
       "      <td>0.0</td>\n",
       "      <td>0.0</td>\n",
       "      <td>0.0</td>\n",
       "      <td>0.0</td>\n",
       "      <td>...</td>\n",
       "      <td>0.0</td>\n",
       "      <td>0.0</td>\n",
       "      <td>0.0</td>\n",
       "      <td>0.0</td>\n",
       "      <td>0.0</td>\n",
       "      <td>0.0</td>\n",
       "      <td>0.0</td>\n",
       "      <td>0.0</td>\n",
       "      <td>0.0</td>\n",
       "      <td>0.0</td>\n",
       "    </tr>\n",
       "    <tr>\n",
       "      <th>state_AL</th>\n",
       "      <td>0.0</td>\n",
       "      <td>0.0</td>\n",
       "      <td>0.0</td>\n",
       "      <td>0.0</td>\n",
       "      <td>0.0</td>\n",
       "      <td>0.0</td>\n",
       "      <td>0.0</td>\n",
       "      <td>0.0</td>\n",
       "      <td>0.0</td>\n",
       "      <td>0.0</td>\n",
       "      <td>...</td>\n",
       "      <td>0.0</td>\n",
       "      <td>0.0</td>\n",
       "      <td>0.0</td>\n",
       "      <td>0.0</td>\n",
       "      <td>0.0</td>\n",
       "      <td>0.0</td>\n",
       "      <td>0.0</td>\n",
       "      <td>0.0</td>\n",
       "      <td>0.0</td>\n",
       "      <td>0.0</td>\n",
       "    </tr>\n",
       "    <tr>\n",
       "      <th>state_AZ</th>\n",
       "      <td>0.0</td>\n",
       "      <td>0.0</td>\n",
       "      <td>0.0</td>\n",
       "      <td>0.0</td>\n",
       "      <td>0.0</td>\n",
       "      <td>0.0</td>\n",
       "      <td>0.0</td>\n",
       "      <td>0.0</td>\n",
       "      <td>0.0</td>\n",
       "      <td>0.0</td>\n",
       "      <td>...</td>\n",
       "      <td>0.0</td>\n",
       "      <td>0.0</td>\n",
       "      <td>0.0</td>\n",
       "      <td>0.0</td>\n",
       "      <td>0.0</td>\n",
       "      <td>0.0</td>\n",
       "      <td>0.0</td>\n",
       "      <td>0.0</td>\n",
       "      <td>0.0</td>\n",
       "      <td>0.0</td>\n",
       "    </tr>\n",
       "    <tr>\n",
       "      <th>state_CA</th>\n",
       "      <td>0.0</td>\n",
       "      <td>0.0</td>\n",
       "      <td>0.0</td>\n",
       "      <td>0.0</td>\n",
       "      <td>0.0</td>\n",
       "      <td>0.0</td>\n",
       "      <td>0.0</td>\n",
       "      <td>0.0</td>\n",
       "      <td>0.0</td>\n",
       "      <td>0.0</td>\n",
       "      <td>...</td>\n",
       "      <td>1.0</td>\n",
       "      <td>1.0</td>\n",
       "      <td>0.0</td>\n",
       "      <td>0.0</td>\n",
       "      <td>0.0</td>\n",
       "      <td>0.0</td>\n",
       "      <td>0.0</td>\n",
       "      <td>1.0</td>\n",
       "      <td>0.0</td>\n",
       "      <td>0.0</td>\n",
       "    </tr>\n",
       "    <tr>\n",
       "      <th>state_CO</th>\n",
       "      <td>0.0</td>\n",
       "      <td>0.0</td>\n",
       "      <td>0.0</td>\n",
       "      <td>0.0</td>\n",
       "      <td>0.0</td>\n",
       "      <td>0.0</td>\n",
       "      <td>0.0</td>\n",
       "      <td>0.0</td>\n",
       "      <td>0.0</td>\n",
       "      <td>0.0</td>\n",
       "      <td>...</td>\n",
       "      <td>0.0</td>\n",
       "      <td>0.0</td>\n",
       "      <td>0.0</td>\n",
       "      <td>0.0</td>\n",
       "      <td>0.0</td>\n",
       "      <td>0.0</td>\n",
       "      <td>0.0</td>\n",
       "      <td>0.0</td>\n",
       "      <td>0.0</td>\n",
       "      <td>0.0</td>\n",
       "    </tr>\n",
       "    <tr>\n",
       "      <th>state_CT</th>\n",
       "      <td>0.0</td>\n",
       "      <td>0.0</td>\n",
       "      <td>0.0</td>\n",
       "      <td>0.0</td>\n",
       "      <td>0.0</td>\n",
       "      <td>0.0</td>\n",
       "      <td>0.0</td>\n",
       "      <td>0.0</td>\n",
       "      <td>0.0</td>\n",
       "      <td>0.0</td>\n",
       "      <td>...</td>\n",
       "      <td>0.0</td>\n",
       "      <td>0.0</td>\n",
       "      <td>0.0</td>\n",
       "      <td>0.0</td>\n",
       "      <td>0.0</td>\n",
       "      <td>0.0</td>\n",
       "      <td>0.0</td>\n",
       "      <td>0.0</td>\n",
       "      <td>0.0</td>\n",
       "      <td>0.0</td>\n",
       "    </tr>\n",
       "    <tr>\n",
       "      <th>state_DC</th>\n",
       "      <td>0.0</td>\n",
       "      <td>0.0</td>\n",
       "      <td>0.0</td>\n",
       "      <td>0.0</td>\n",
       "      <td>0.0</td>\n",
       "      <td>0.0</td>\n",
       "      <td>0.0</td>\n",
       "      <td>0.0</td>\n",
       "      <td>0.0</td>\n",
       "      <td>0.0</td>\n",
       "      <td>...</td>\n",
       "      <td>0.0</td>\n",
       "      <td>0.0</td>\n",
       "      <td>0.0</td>\n",
       "      <td>0.0</td>\n",
       "      <td>0.0</td>\n",
       "      <td>0.0</td>\n",
       "      <td>0.0</td>\n",
       "      <td>0.0</td>\n",
       "      <td>0.0</td>\n",
       "      <td>0.0</td>\n",
       "    </tr>\n",
       "    <tr>\n",
       "      <th>state_FL</th>\n",
       "      <td>0.0</td>\n",
       "      <td>0.0</td>\n",
       "      <td>0.0</td>\n",
       "      <td>0.0</td>\n",
       "      <td>0.0</td>\n",
       "      <td>0.0</td>\n",
       "      <td>0.0</td>\n",
       "      <td>0.0</td>\n",
       "      <td>0.0</td>\n",
       "      <td>0.0</td>\n",
       "      <td>...</td>\n",
       "      <td>0.0</td>\n",
       "      <td>0.0</td>\n",
       "      <td>0.0</td>\n",
       "      <td>0.0</td>\n",
       "      <td>0.0</td>\n",
       "      <td>0.0</td>\n",
       "      <td>0.0</td>\n",
       "      <td>0.0</td>\n",
       "      <td>0.0</td>\n",
       "      <td>0.0</td>\n",
       "    </tr>\n",
       "    <tr>\n",
       "      <th>state_GA</th>\n",
       "      <td>0.0</td>\n",
       "      <td>0.0</td>\n",
       "      <td>0.0</td>\n",
       "      <td>0.0</td>\n",
       "      <td>0.0</td>\n",
       "      <td>0.0</td>\n",
       "      <td>0.0</td>\n",
       "      <td>0.0</td>\n",
       "      <td>0.0</td>\n",
       "      <td>0.0</td>\n",
       "      <td>...</td>\n",
       "      <td>0.0</td>\n",
       "      <td>0.0</td>\n",
       "      <td>0.0</td>\n",
       "      <td>0.0</td>\n",
       "      <td>0.0</td>\n",
       "      <td>0.0</td>\n",
       "      <td>0.0</td>\n",
       "      <td>0.0</td>\n",
       "      <td>0.0</td>\n",
       "      <td>0.0</td>\n",
       "    </tr>\n",
       "    <tr>\n",
       "      <th>state_IA</th>\n",
       "      <td>0.0</td>\n",
       "      <td>0.0</td>\n",
       "      <td>0.0</td>\n",
       "      <td>0.0</td>\n",
       "      <td>0.0</td>\n",
       "      <td>0.0</td>\n",
       "      <td>0.0</td>\n",
       "      <td>0.0</td>\n",
       "      <td>0.0</td>\n",
       "      <td>0.0</td>\n",
       "      <td>...</td>\n",
       "      <td>0.0</td>\n",
       "      <td>0.0</td>\n",
       "      <td>0.0</td>\n",
       "      <td>0.0</td>\n",
       "      <td>0.0</td>\n",
       "      <td>0.0</td>\n",
       "      <td>0.0</td>\n",
       "      <td>0.0</td>\n",
       "      <td>0.0</td>\n",
       "      <td>0.0</td>\n",
       "    </tr>\n",
       "    <tr>\n",
       "      <th>state_ID</th>\n",
       "      <td>0.0</td>\n",
       "      <td>0.0</td>\n",
       "      <td>0.0</td>\n",
       "      <td>0.0</td>\n",
       "      <td>0.0</td>\n",
       "      <td>0.0</td>\n",
       "      <td>0.0</td>\n",
       "      <td>0.0</td>\n",
       "      <td>0.0</td>\n",
       "      <td>0.0</td>\n",
       "      <td>...</td>\n",
       "      <td>0.0</td>\n",
       "      <td>0.0</td>\n",
       "      <td>0.0</td>\n",
       "      <td>0.0</td>\n",
       "      <td>0.0</td>\n",
       "      <td>0.0</td>\n",
       "      <td>0.0</td>\n",
       "      <td>0.0</td>\n",
       "      <td>0.0</td>\n",
       "      <td>0.0</td>\n",
       "    </tr>\n",
       "    <tr>\n",
       "      <th>state_IL</th>\n",
       "      <td>1.0</td>\n",
       "      <td>0.0</td>\n",
       "      <td>0.0</td>\n",
       "      <td>0.0</td>\n",
       "      <td>0.0</td>\n",
       "      <td>0.0</td>\n",
       "      <td>0.0</td>\n",
       "      <td>0.0</td>\n",
       "      <td>1.0</td>\n",
       "      <td>0.0</td>\n",
       "      <td>...</td>\n",
       "      <td>0.0</td>\n",
       "      <td>0.0</td>\n",
       "      <td>0.0</td>\n",
       "      <td>0.0</td>\n",
       "      <td>0.0</td>\n",
       "      <td>0.0</td>\n",
       "      <td>1.0</td>\n",
       "      <td>0.0</td>\n",
       "      <td>0.0</td>\n",
       "      <td>1.0</td>\n",
       "    </tr>\n",
       "    <tr>\n",
       "      <th>state_IN</th>\n",
       "      <td>0.0</td>\n",
       "      <td>1.0</td>\n",
       "      <td>0.0</td>\n",
       "      <td>0.0</td>\n",
       "      <td>0.0</td>\n",
       "      <td>0.0</td>\n",
       "      <td>0.0</td>\n",
       "      <td>0.0</td>\n",
       "      <td>0.0</td>\n",
       "      <td>0.0</td>\n",
       "      <td>...</td>\n",
       "      <td>0.0</td>\n",
       "      <td>0.0</td>\n",
       "      <td>0.0</td>\n",
       "      <td>0.0</td>\n",
       "      <td>0.0</td>\n",
       "      <td>0.0</td>\n",
       "      <td>0.0</td>\n",
       "      <td>0.0</td>\n",
       "      <td>0.0</td>\n",
       "      <td>0.0</td>\n",
       "    </tr>\n",
       "    <tr>\n",
       "      <th>state_KS</th>\n",
       "      <td>0.0</td>\n",
       "      <td>0.0</td>\n",
       "      <td>0.0</td>\n",
       "      <td>0.0</td>\n",
       "      <td>0.0</td>\n",
       "      <td>0.0</td>\n",
       "      <td>0.0</td>\n",
       "      <td>0.0</td>\n",
       "      <td>0.0</td>\n",
       "      <td>0.0</td>\n",
       "      <td>...</td>\n",
       "      <td>0.0</td>\n",
       "      <td>0.0</td>\n",
       "      <td>0.0</td>\n",
       "      <td>0.0</td>\n",
       "      <td>0.0</td>\n",
       "      <td>0.0</td>\n",
       "      <td>0.0</td>\n",
       "      <td>0.0</td>\n",
       "      <td>0.0</td>\n",
       "      <td>0.0</td>\n",
       "    </tr>\n",
       "    <tr>\n",
       "      <th>state_KY</th>\n",
       "      <td>0.0</td>\n",
       "      <td>0.0</td>\n",
       "      <td>0.0</td>\n",
       "      <td>0.0</td>\n",
       "      <td>0.0</td>\n",
       "      <td>0.0</td>\n",
       "      <td>0.0</td>\n",
       "      <td>0.0</td>\n",
       "      <td>0.0</td>\n",
       "      <td>0.0</td>\n",
       "      <td>...</td>\n",
       "      <td>0.0</td>\n",
       "      <td>0.0</td>\n",
       "      <td>0.0</td>\n",
       "      <td>0.0</td>\n",
       "      <td>0.0</td>\n",
       "      <td>0.0</td>\n",
       "      <td>0.0</td>\n",
       "      <td>0.0</td>\n",
       "      <td>0.0</td>\n",
       "      <td>0.0</td>\n",
       "    </tr>\n",
       "    <tr>\n",
       "      <th>state_LA</th>\n",
       "      <td>0.0</td>\n",
       "      <td>0.0</td>\n",
       "      <td>0.0</td>\n",
       "      <td>0.0</td>\n",
       "      <td>0.0</td>\n",
       "      <td>0.0</td>\n",
       "      <td>0.0</td>\n",
       "      <td>0.0</td>\n",
       "      <td>0.0</td>\n",
       "      <td>0.0</td>\n",
       "      <td>...</td>\n",
       "      <td>0.0</td>\n",
       "      <td>0.0</td>\n",
       "      <td>0.0</td>\n",
       "      <td>0.0</td>\n",
       "      <td>0.0</td>\n",
       "      <td>0.0</td>\n",
       "      <td>0.0</td>\n",
       "      <td>0.0</td>\n",
       "      <td>0.0</td>\n",
       "      <td>0.0</td>\n",
       "    </tr>\n",
       "    <tr>\n",
       "      <th>state_MA</th>\n",
       "      <td>0.0</td>\n",
       "      <td>0.0</td>\n",
       "      <td>0.0</td>\n",
       "      <td>0.0</td>\n",
       "      <td>0.0</td>\n",
       "      <td>0.0</td>\n",
       "      <td>0.0</td>\n",
       "      <td>0.0</td>\n",
       "      <td>0.0</td>\n",
       "      <td>0.0</td>\n",
       "      <td>...</td>\n",
       "      <td>0.0</td>\n",
       "      <td>0.0</td>\n",
       "      <td>0.0</td>\n",
       "      <td>0.0</td>\n",
       "      <td>0.0</td>\n",
       "      <td>0.0</td>\n",
       "      <td>0.0</td>\n",
       "      <td>0.0</td>\n",
       "      <td>0.0</td>\n",
       "      <td>0.0</td>\n",
       "    </tr>\n",
       "    <tr>\n",
       "      <th>state_MD</th>\n",
       "      <td>0.0</td>\n",
       "      <td>0.0</td>\n",
       "      <td>0.0</td>\n",
       "      <td>0.0</td>\n",
       "      <td>0.0</td>\n",
       "      <td>0.0</td>\n",
       "      <td>0.0</td>\n",
       "      <td>0.0</td>\n",
       "      <td>0.0</td>\n",
       "      <td>0.0</td>\n",
       "      <td>...</td>\n",
       "      <td>0.0</td>\n",
       "      <td>0.0</td>\n",
       "      <td>0.0</td>\n",
       "      <td>0.0</td>\n",
       "      <td>0.0</td>\n",
       "      <td>0.0</td>\n",
       "      <td>0.0</td>\n",
       "      <td>0.0</td>\n",
       "      <td>0.0</td>\n",
       "      <td>0.0</td>\n",
       "    </tr>\n",
       "    <tr>\n",
       "      <th>state_ME</th>\n",
       "      <td>0.0</td>\n",
       "      <td>0.0</td>\n",
       "      <td>0.0</td>\n",
       "      <td>0.0</td>\n",
       "      <td>0.0</td>\n",
       "      <td>0.0</td>\n",
       "      <td>0.0</td>\n",
       "      <td>0.0</td>\n",
       "      <td>0.0</td>\n",
       "      <td>0.0</td>\n",
       "      <td>...</td>\n",
       "      <td>0.0</td>\n",
       "      <td>0.0</td>\n",
       "      <td>0.0</td>\n",
       "      <td>0.0</td>\n",
       "      <td>0.0</td>\n",
       "      <td>0.0</td>\n",
       "      <td>0.0</td>\n",
       "      <td>0.0</td>\n",
       "      <td>0.0</td>\n",
       "      <td>0.0</td>\n",
       "    </tr>\n",
       "    <tr>\n",
       "      <th>state_MI</th>\n",
       "      <td>0.0</td>\n",
       "      <td>0.0</td>\n",
       "      <td>0.0</td>\n",
       "      <td>0.0</td>\n",
       "      <td>0.0</td>\n",
       "      <td>0.0</td>\n",
       "      <td>1.0</td>\n",
       "      <td>0.0</td>\n",
       "      <td>0.0</td>\n",
       "      <td>0.0</td>\n",
       "      <td>...</td>\n",
       "      <td>0.0</td>\n",
       "      <td>0.0</td>\n",
       "      <td>0.0</td>\n",
       "      <td>0.0</td>\n",
       "      <td>0.0</td>\n",
       "      <td>0.0</td>\n",
       "      <td>0.0</td>\n",
       "      <td>0.0</td>\n",
       "      <td>0.0</td>\n",
       "      <td>0.0</td>\n",
       "    </tr>\n",
       "    <tr>\n",
       "      <th>state_MN</th>\n",
       "      <td>0.0</td>\n",
       "      <td>0.0</td>\n",
       "      <td>0.0</td>\n",
       "      <td>0.0</td>\n",
       "      <td>0.0</td>\n",
       "      <td>0.0</td>\n",
       "      <td>0.0</td>\n",
       "      <td>0.0</td>\n",
       "      <td>0.0</td>\n",
       "      <td>0.0</td>\n",
       "      <td>...</td>\n",
       "      <td>0.0</td>\n",
       "      <td>0.0</td>\n",
       "      <td>0.0</td>\n",
       "      <td>0.0</td>\n",
       "      <td>0.0</td>\n",
       "      <td>0.0</td>\n",
       "      <td>0.0</td>\n",
       "      <td>0.0</td>\n",
       "      <td>0.0</td>\n",
       "      <td>0.0</td>\n",
       "    </tr>\n",
       "    <tr>\n",
       "      <th>state_MO</th>\n",
       "      <td>0.0</td>\n",
       "      <td>0.0</td>\n",
       "      <td>0.0</td>\n",
       "      <td>0.0</td>\n",
       "      <td>0.0</td>\n",
       "      <td>0.0</td>\n",
       "      <td>0.0</td>\n",
       "      <td>0.0</td>\n",
       "      <td>0.0</td>\n",
       "      <td>0.0</td>\n",
       "      <td>...</td>\n",
       "      <td>0.0</td>\n",
       "      <td>0.0</td>\n",
       "      <td>0.0</td>\n",
       "      <td>0.0</td>\n",
       "      <td>0.0</td>\n",
       "      <td>0.0</td>\n",
       "      <td>0.0</td>\n",
       "      <td>0.0</td>\n",
       "      <td>0.0</td>\n",
       "      <td>0.0</td>\n",
       "    </tr>\n",
       "    <tr>\n",
       "      <th>state_MS</th>\n",
       "      <td>0.0</td>\n",
       "      <td>0.0</td>\n",
       "      <td>0.0</td>\n",
       "      <td>0.0</td>\n",
       "      <td>0.0</td>\n",
       "      <td>0.0</td>\n",
       "      <td>0.0</td>\n",
       "      <td>0.0</td>\n",
       "      <td>0.0</td>\n",
       "      <td>0.0</td>\n",
       "      <td>...</td>\n",
       "      <td>0.0</td>\n",
       "      <td>0.0</td>\n",
       "      <td>0.0</td>\n",
       "      <td>0.0</td>\n",
       "      <td>0.0</td>\n",
       "      <td>0.0</td>\n",
       "      <td>0.0</td>\n",
       "      <td>0.0</td>\n",
       "      <td>0.0</td>\n",
       "      <td>0.0</td>\n",
       "    </tr>\n",
       "    <tr>\n",
       "      <th>state_NC</th>\n",
       "      <td>0.0</td>\n",
       "      <td>0.0</td>\n",
       "      <td>0.0</td>\n",
       "      <td>0.0</td>\n",
       "      <td>0.0</td>\n",
       "      <td>0.0</td>\n",
       "      <td>0.0</td>\n",
       "      <td>0.0</td>\n",
       "      <td>0.0</td>\n",
       "      <td>0.0</td>\n",
       "      <td>...</td>\n",
       "      <td>0.0</td>\n",
       "      <td>0.0</td>\n",
       "      <td>0.0</td>\n",
       "      <td>1.0</td>\n",
       "      <td>0.0</td>\n",
       "      <td>0.0</td>\n",
       "      <td>0.0</td>\n",
       "      <td>0.0</td>\n",
       "      <td>1.0</td>\n",
       "      <td>0.0</td>\n",
       "    </tr>\n",
       "    <tr>\n",
       "      <th>state_NE</th>\n",
       "      <td>0.0</td>\n",
       "      <td>0.0</td>\n",
       "      <td>0.0</td>\n",
       "      <td>0.0</td>\n",
       "      <td>0.0</td>\n",
       "      <td>0.0</td>\n",
       "      <td>0.0</td>\n",
       "      <td>0.0</td>\n",
       "      <td>0.0</td>\n",
       "      <td>0.0</td>\n",
       "      <td>...</td>\n",
       "      <td>0.0</td>\n",
       "      <td>0.0</td>\n",
       "      <td>0.0</td>\n",
       "      <td>0.0</td>\n",
       "      <td>0.0</td>\n",
       "      <td>0.0</td>\n",
       "      <td>0.0</td>\n",
       "      <td>0.0</td>\n",
       "      <td>0.0</td>\n",
       "      <td>0.0</td>\n",
       "    </tr>\n",
       "    <tr>\n",
       "      <th>state_NH</th>\n",
       "      <td>0.0</td>\n",
       "      <td>0.0</td>\n",
       "      <td>0.0</td>\n",
       "      <td>0.0</td>\n",
       "      <td>0.0</td>\n",
       "      <td>0.0</td>\n",
       "      <td>0.0</td>\n",
       "      <td>0.0</td>\n",
       "      <td>0.0</td>\n",
       "      <td>0.0</td>\n",
       "      <td>...</td>\n",
       "      <td>0.0</td>\n",
       "      <td>0.0</td>\n",
       "      <td>0.0</td>\n",
       "      <td>0.0</td>\n",
       "      <td>0.0</td>\n",
       "      <td>0.0</td>\n",
       "      <td>0.0</td>\n",
       "      <td>0.0</td>\n",
       "      <td>0.0</td>\n",
       "      <td>0.0</td>\n",
       "    </tr>\n",
       "    <tr>\n",
       "      <th>state_NJ</th>\n",
       "      <td>0.0</td>\n",
       "      <td>0.0</td>\n",
       "      <td>0.0</td>\n",
       "      <td>0.0</td>\n",
       "      <td>0.0</td>\n",
       "      <td>0.0</td>\n",
       "      <td>0.0</td>\n",
       "      <td>0.0</td>\n",
       "      <td>0.0</td>\n",
       "      <td>0.0</td>\n",
       "      <td>...</td>\n",
       "      <td>0.0</td>\n",
       "      <td>0.0</td>\n",
       "      <td>0.0</td>\n",
       "      <td>0.0</td>\n",
       "      <td>0.0</td>\n",
       "      <td>0.0</td>\n",
       "      <td>0.0</td>\n",
       "      <td>0.0</td>\n",
       "      <td>0.0</td>\n",
       "      <td>0.0</td>\n",
       "    </tr>\n",
       "    <tr>\n",
       "      <th>state_NM</th>\n",
       "      <td>0.0</td>\n",
       "      <td>0.0</td>\n",
       "      <td>0.0</td>\n",
       "      <td>0.0</td>\n",
       "      <td>0.0</td>\n",
       "      <td>0.0</td>\n",
       "      <td>0.0</td>\n",
       "      <td>0.0</td>\n",
       "      <td>0.0</td>\n",
       "      <td>0.0</td>\n",
       "      <td>...</td>\n",
       "      <td>0.0</td>\n",
       "      <td>0.0</td>\n",
       "      <td>0.0</td>\n",
       "      <td>0.0</td>\n",
       "      <td>0.0</td>\n",
       "      <td>0.0</td>\n",
       "      <td>0.0</td>\n",
       "      <td>0.0</td>\n",
       "      <td>0.0</td>\n",
       "      <td>0.0</td>\n",
       "    </tr>\n",
       "    <tr>\n",
       "      <th>state_NV</th>\n",
       "      <td>0.0</td>\n",
       "      <td>0.0</td>\n",
       "      <td>0.0</td>\n",
       "      <td>0.0</td>\n",
       "      <td>0.0</td>\n",
       "      <td>0.0</td>\n",
       "      <td>0.0</td>\n",
       "      <td>0.0</td>\n",
       "      <td>0.0</td>\n",
       "      <td>0.0</td>\n",
       "      <td>...</td>\n",
       "      <td>0.0</td>\n",
       "      <td>0.0</td>\n",
       "      <td>0.0</td>\n",
       "      <td>0.0</td>\n",
       "      <td>0.0</td>\n",
       "      <td>0.0</td>\n",
       "      <td>0.0</td>\n",
       "      <td>0.0</td>\n",
       "      <td>0.0</td>\n",
       "      <td>0.0</td>\n",
       "    </tr>\n",
       "    <tr>\n",
       "      <th>state_NY</th>\n",
       "      <td>0.0</td>\n",
       "      <td>0.0</td>\n",
       "      <td>0.0</td>\n",
       "      <td>0.0</td>\n",
       "      <td>0.0</td>\n",
       "      <td>0.0</td>\n",
       "      <td>0.0</td>\n",
       "      <td>0.0</td>\n",
       "      <td>0.0</td>\n",
       "      <td>0.0</td>\n",
       "      <td>...</td>\n",
       "      <td>0.0</td>\n",
       "      <td>0.0</td>\n",
       "      <td>0.0</td>\n",
       "      <td>0.0</td>\n",
       "      <td>0.0</td>\n",
       "      <td>0.0</td>\n",
       "      <td>0.0</td>\n",
       "      <td>0.0</td>\n",
       "      <td>0.0</td>\n",
       "      <td>0.0</td>\n",
       "    </tr>\n",
       "    <tr>\n",
       "      <th>state_OH</th>\n",
       "      <td>0.0</td>\n",
       "      <td>0.0</td>\n",
       "      <td>0.0</td>\n",
       "      <td>0.0</td>\n",
       "      <td>0.0</td>\n",
       "      <td>0.0</td>\n",
       "      <td>0.0</td>\n",
       "      <td>0.0</td>\n",
       "      <td>0.0</td>\n",
       "      <td>0.0</td>\n",
       "      <td>...</td>\n",
       "      <td>0.0</td>\n",
       "      <td>0.0</td>\n",
       "      <td>0.0</td>\n",
       "      <td>0.0</td>\n",
       "      <td>0.0</td>\n",
       "      <td>0.0</td>\n",
       "      <td>0.0</td>\n",
       "      <td>0.0</td>\n",
       "      <td>0.0</td>\n",
       "      <td>0.0</td>\n",
       "    </tr>\n",
       "    <tr>\n",
       "      <th>state_OK</th>\n",
       "      <td>0.0</td>\n",
       "      <td>0.0</td>\n",
       "      <td>0.0</td>\n",
       "      <td>0.0</td>\n",
       "      <td>0.0</td>\n",
       "      <td>0.0</td>\n",
       "      <td>0.0</td>\n",
       "      <td>0.0</td>\n",
       "      <td>0.0</td>\n",
       "      <td>0.0</td>\n",
       "      <td>...</td>\n",
       "      <td>0.0</td>\n",
       "      <td>0.0</td>\n",
       "      <td>0.0</td>\n",
       "      <td>0.0</td>\n",
       "      <td>0.0</td>\n",
       "      <td>0.0</td>\n",
       "      <td>0.0</td>\n",
       "      <td>0.0</td>\n",
       "      <td>0.0</td>\n",
       "      <td>0.0</td>\n",
       "    </tr>\n",
       "    <tr>\n",
       "      <th>state_OR</th>\n",
       "      <td>0.0</td>\n",
       "      <td>0.0</td>\n",
       "      <td>0.0</td>\n",
       "      <td>0.0</td>\n",
       "      <td>0.0</td>\n",
       "      <td>0.0</td>\n",
       "      <td>0.0</td>\n",
       "      <td>0.0</td>\n",
       "      <td>0.0</td>\n",
       "      <td>0.0</td>\n",
       "      <td>...</td>\n",
       "      <td>0.0</td>\n",
       "      <td>0.0</td>\n",
       "      <td>0.0</td>\n",
       "      <td>0.0</td>\n",
       "      <td>0.0</td>\n",
       "      <td>0.0</td>\n",
       "      <td>0.0</td>\n",
       "      <td>0.0</td>\n",
       "      <td>0.0</td>\n",
       "      <td>0.0</td>\n",
       "    </tr>\n",
       "    <tr>\n",
       "      <th>state_PA</th>\n",
       "      <td>0.0</td>\n",
       "      <td>0.0</td>\n",
       "      <td>0.0</td>\n",
       "      <td>0.0</td>\n",
       "      <td>0.0</td>\n",
       "      <td>0.0</td>\n",
       "      <td>0.0</td>\n",
       "      <td>0.0</td>\n",
       "      <td>0.0</td>\n",
       "      <td>0.0</td>\n",
       "      <td>...</td>\n",
       "      <td>0.0</td>\n",
       "      <td>0.0</td>\n",
       "      <td>0.0</td>\n",
       "      <td>0.0</td>\n",
       "      <td>0.0</td>\n",
       "      <td>0.0</td>\n",
       "      <td>0.0</td>\n",
       "      <td>0.0</td>\n",
       "      <td>0.0</td>\n",
       "      <td>0.0</td>\n",
       "    </tr>\n",
       "    <tr>\n",
       "      <th>state_RI</th>\n",
       "      <td>0.0</td>\n",
       "      <td>0.0</td>\n",
       "      <td>0.0</td>\n",
       "      <td>0.0</td>\n",
       "      <td>0.0</td>\n",
       "      <td>0.0</td>\n",
       "      <td>0.0</td>\n",
       "      <td>0.0</td>\n",
       "      <td>0.0</td>\n",
       "      <td>0.0</td>\n",
       "      <td>...</td>\n",
       "      <td>0.0</td>\n",
       "      <td>0.0</td>\n",
       "      <td>0.0</td>\n",
       "      <td>0.0</td>\n",
       "      <td>0.0</td>\n",
       "      <td>0.0</td>\n",
       "      <td>0.0</td>\n",
       "      <td>0.0</td>\n",
       "      <td>0.0</td>\n",
       "      <td>0.0</td>\n",
       "    </tr>\n",
       "    <tr>\n",
       "      <th>state_SC</th>\n",
       "      <td>0.0</td>\n",
       "      <td>0.0</td>\n",
       "      <td>0.0</td>\n",
       "      <td>0.0</td>\n",
       "      <td>0.0</td>\n",
       "      <td>0.0</td>\n",
       "      <td>0.0</td>\n",
       "      <td>0.0</td>\n",
       "      <td>0.0</td>\n",
       "      <td>0.0</td>\n",
       "      <td>...</td>\n",
       "      <td>0.0</td>\n",
       "      <td>0.0</td>\n",
       "      <td>0.0</td>\n",
       "      <td>0.0</td>\n",
       "      <td>0.0</td>\n",
       "      <td>0.0</td>\n",
       "      <td>0.0</td>\n",
       "      <td>0.0</td>\n",
       "      <td>0.0</td>\n",
       "      <td>0.0</td>\n",
       "    </tr>\n",
       "    <tr>\n",
       "      <th>state_SD</th>\n",
       "      <td>0.0</td>\n",
       "      <td>0.0</td>\n",
       "      <td>0.0</td>\n",
       "      <td>0.0</td>\n",
       "      <td>0.0</td>\n",
       "      <td>0.0</td>\n",
       "      <td>0.0</td>\n",
       "      <td>0.0</td>\n",
       "      <td>0.0</td>\n",
       "      <td>0.0</td>\n",
       "      <td>...</td>\n",
       "      <td>0.0</td>\n",
       "      <td>0.0</td>\n",
       "      <td>0.0</td>\n",
       "      <td>0.0</td>\n",
       "      <td>0.0</td>\n",
       "      <td>0.0</td>\n",
       "      <td>0.0</td>\n",
       "      <td>0.0</td>\n",
       "      <td>0.0</td>\n",
       "      <td>0.0</td>\n",
       "    </tr>\n",
       "    <tr>\n",
       "      <th>state_TN</th>\n",
       "      <td>0.0</td>\n",
       "      <td>0.0</td>\n",
       "      <td>0.0</td>\n",
       "      <td>0.0</td>\n",
       "      <td>0.0</td>\n",
       "      <td>1.0</td>\n",
       "      <td>0.0</td>\n",
       "      <td>0.0</td>\n",
       "      <td>0.0</td>\n",
       "      <td>0.0</td>\n",
       "      <td>...</td>\n",
       "      <td>0.0</td>\n",
       "      <td>0.0</td>\n",
       "      <td>0.0</td>\n",
       "      <td>0.0</td>\n",
       "      <td>0.0</td>\n",
       "      <td>0.0</td>\n",
       "      <td>0.0</td>\n",
       "      <td>0.0</td>\n",
       "      <td>0.0</td>\n",
       "      <td>0.0</td>\n",
       "    </tr>\n",
       "    <tr>\n",
       "      <th>state_TX</th>\n",
       "      <td>0.0</td>\n",
       "      <td>0.0</td>\n",
       "      <td>0.0</td>\n",
       "      <td>0.0</td>\n",
       "      <td>1.0</td>\n",
       "      <td>0.0</td>\n",
       "      <td>0.0</td>\n",
       "      <td>0.0</td>\n",
       "      <td>0.0</td>\n",
       "      <td>0.0</td>\n",
       "      <td>...</td>\n",
       "      <td>0.0</td>\n",
       "      <td>0.0</td>\n",
       "      <td>0.0</td>\n",
       "      <td>0.0</td>\n",
       "      <td>0.0</td>\n",
       "      <td>0.0</td>\n",
       "      <td>0.0</td>\n",
       "      <td>0.0</td>\n",
       "      <td>0.0</td>\n",
       "      <td>0.0</td>\n",
       "    </tr>\n",
       "    <tr>\n",
       "      <th>state_UT</th>\n",
       "      <td>0.0</td>\n",
       "      <td>0.0</td>\n",
       "      <td>0.0</td>\n",
       "      <td>0.0</td>\n",
       "      <td>0.0</td>\n",
       "      <td>0.0</td>\n",
       "      <td>0.0</td>\n",
       "      <td>0.0</td>\n",
       "      <td>0.0</td>\n",
       "      <td>0.0</td>\n",
       "      <td>...</td>\n",
       "      <td>0.0</td>\n",
       "      <td>0.0</td>\n",
       "      <td>0.0</td>\n",
       "      <td>0.0</td>\n",
       "      <td>1.0</td>\n",
       "      <td>0.0</td>\n",
       "      <td>0.0</td>\n",
       "      <td>0.0</td>\n",
       "      <td>0.0</td>\n",
       "      <td>0.0</td>\n",
       "    </tr>\n",
       "    <tr>\n",
       "      <th>state_VA</th>\n",
       "      <td>0.0</td>\n",
       "      <td>0.0</td>\n",
       "      <td>0.0</td>\n",
       "      <td>0.0</td>\n",
       "      <td>0.0</td>\n",
       "      <td>0.0</td>\n",
       "      <td>0.0</td>\n",
       "      <td>0.0</td>\n",
       "      <td>0.0</td>\n",
       "      <td>0.0</td>\n",
       "      <td>...</td>\n",
       "      <td>0.0</td>\n",
       "      <td>0.0</td>\n",
       "      <td>0.0</td>\n",
       "      <td>0.0</td>\n",
       "      <td>0.0</td>\n",
       "      <td>0.0</td>\n",
       "      <td>0.0</td>\n",
       "      <td>0.0</td>\n",
       "      <td>0.0</td>\n",
       "      <td>0.0</td>\n",
       "    </tr>\n",
       "    <tr>\n",
       "      <th>state_VT</th>\n",
       "      <td>0.0</td>\n",
       "      <td>0.0</td>\n",
       "      <td>0.0</td>\n",
       "      <td>0.0</td>\n",
       "      <td>0.0</td>\n",
       "      <td>0.0</td>\n",
       "      <td>0.0</td>\n",
       "      <td>0.0</td>\n",
       "      <td>0.0</td>\n",
       "      <td>0.0</td>\n",
       "      <td>...</td>\n",
       "      <td>0.0</td>\n",
       "      <td>0.0</td>\n",
       "      <td>0.0</td>\n",
       "      <td>0.0</td>\n",
       "      <td>0.0</td>\n",
       "      <td>0.0</td>\n",
       "      <td>0.0</td>\n",
       "      <td>0.0</td>\n",
       "      <td>0.0</td>\n",
       "      <td>0.0</td>\n",
       "    </tr>\n",
       "    <tr>\n",
       "      <th>state_WA</th>\n",
       "      <td>0.0</td>\n",
       "      <td>0.0</td>\n",
       "      <td>0.0</td>\n",
       "      <td>0.0</td>\n",
       "      <td>0.0</td>\n",
       "      <td>0.0</td>\n",
       "      <td>0.0</td>\n",
       "      <td>0.0</td>\n",
       "      <td>0.0</td>\n",
       "      <td>0.0</td>\n",
       "      <td>...</td>\n",
       "      <td>0.0</td>\n",
       "      <td>0.0</td>\n",
       "      <td>0.0</td>\n",
       "      <td>0.0</td>\n",
       "      <td>0.0</td>\n",
       "      <td>0.0</td>\n",
       "      <td>0.0</td>\n",
       "      <td>0.0</td>\n",
       "      <td>0.0</td>\n",
       "      <td>0.0</td>\n",
       "    </tr>\n",
       "    <tr>\n",
       "      <th>state_WI</th>\n",
       "      <td>0.0</td>\n",
       "      <td>0.0</td>\n",
       "      <td>0.0</td>\n",
       "      <td>0.0</td>\n",
       "      <td>0.0</td>\n",
       "      <td>0.0</td>\n",
       "      <td>0.0</td>\n",
       "      <td>0.0</td>\n",
       "      <td>0.0</td>\n",
       "      <td>0.0</td>\n",
       "      <td>...</td>\n",
       "      <td>0.0</td>\n",
       "      <td>0.0</td>\n",
       "      <td>0.0</td>\n",
       "      <td>0.0</td>\n",
       "      <td>0.0</td>\n",
       "      <td>0.0</td>\n",
       "      <td>0.0</td>\n",
       "      <td>0.0</td>\n",
       "      <td>0.0</td>\n",
       "      <td>0.0</td>\n",
       "    </tr>\n",
       "    <tr>\n",
       "      <th>state_WV</th>\n",
       "      <td>0.0</td>\n",
       "      <td>0.0</td>\n",
       "      <td>0.0</td>\n",
       "      <td>0.0</td>\n",
       "      <td>0.0</td>\n",
       "      <td>0.0</td>\n",
       "      <td>0.0</td>\n",
       "      <td>0.0</td>\n",
       "      <td>0.0</td>\n",
       "      <td>0.0</td>\n",
       "      <td>...</td>\n",
       "      <td>0.0</td>\n",
       "      <td>0.0</td>\n",
       "      <td>0.0</td>\n",
       "      <td>0.0</td>\n",
       "      <td>0.0</td>\n",
       "      <td>0.0</td>\n",
       "      <td>0.0</td>\n",
       "      <td>0.0</td>\n",
       "      <td>0.0</td>\n",
       "      <td>0.0</td>\n",
       "    </tr>\n",
       "    <tr>\n",
       "      <th>state_WY</th>\n",
       "      <td>0.0</td>\n",
       "      <td>0.0</td>\n",
       "      <td>0.0</td>\n",
       "      <td>0.0</td>\n",
       "      <td>0.0</td>\n",
       "      <td>0.0</td>\n",
       "      <td>0.0</td>\n",
       "      <td>0.0</td>\n",
       "      <td>0.0</td>\n",
       "      <td>0.0</td>\n",
       "      <td>...</td>\n",
       "      <td>0.0</td>\n",
       "      <td>0.0</td>\n",
       "      <td>0.0</td>\n",
       "      <td>0.0</td>\n",
       "      <td>0.0</td>\n",
       "      <td>0.0</td>\n",
       "      <td>0.0</td>\n",
       "      <td>0.0</td>\n",
       "      <td>0.0</td>\n",
       "      <td>0.0</td>\n",
       "    </tr>\n",
       "    <tr>\n",
       "      <th>state_unknown</th>\n",
       "      <td>0.0</td>\n",
       "      <td>0.0</td>\n",
       "      <td>1.0</td>\n",
       "      <td>1.0</td>\n",
       "      <td>0.0</td>\n",
       "      <td>0.0</td>\n",
       "      <td>0.0</td>\n",
       "      <td>1.0</td>\n",
       "      <td>0.0</td>\n",
       "      <td>1.0</td>\n",
       "      <td>...</td>\n",
       "      <td>0.0</td>\n",
       "      <td>0.0</td>\n",
       "      <td>1.0</td>\n",
       "      <td>0.0</td>\n",
       "      <td>0.0</td>\n",
       "      <td>1.0</td>\n",
       "      <td>0.0</td>\n",
       "      <td>0.0</td>\n",
       "      <td>0.0</td>\n",
       "      <td>0.0</td>\n",
       "    </tr>\n",
       "    <tr>\n",
       "      <th>self_employed_No</th>\n",
       "      <td>0.0</td>\n",
       "      <td>0.0</td>\n",
       "      <td>0.0</td>\n",
       "      <td>0.0</td>\n",
       "      <td>0.0</td>\n",
       "      <td>0.0</td>\n",
       "      <td>0.0</td>\n",
       "      <td>0.0</td>\n",
       "      <td>0.0</td>\n",
       "      <td>0.0</td>\n",
       "      <td>...</td>\n",
       "      <td>1.0</td>\n",
       "      <td>0.0</td>\n",
       "      <td>1.0</td>\n",
       "      <td>1.0</td>\n",
       "      <td>1.0</td>\n",
       "      <td>1.0</td>\n",
       "      <td>1.0</td>\n",
       "      <td>1.0</td>\n",
       "      <td>1.0</td>\n",
       "      <td>1.0</td>\n",
       "    </tr>\n",
       "    <tr>\n",
       "      <th>self_employed_Yes</th>\n",
       "      <td>0.0</td>\n",
       "      <td>0.0</td>\n",
       "      <td>0.0</td>\n",
       "      <td>0.0</td>\n",
       "      <td>0.0</td>\n",
       "      <td>0.0</td>\n",
       "      <td>0.0</td>\n",
       "      <td>0.0</td>\n",
       "      <td>0.0</td>\n",
       "      <td>0.0</td>\n",
       "      <td>...</td>\n",
       "      <td>0.0</td>\n",
       "      <td>1.0</td>\n",
       "      <td>0.0</td>\n",
       "      <td>0.0</td>\n",
       "      <td>0.0</td>\n",
       "      <td>0.0</td>\n",
       "      <td>0.0</td>\n",
       "      <td>0.0</td>\n",
       "      <td>0.0</td>\n",
       "      <td>0.0</td>\n",
       "    </tr>\n",
       "    <tr>\n",
       "      <th>self_employed_unknown</th>\n",
       "      <td>1.0</td>\n",
       "      <td>1.0</td>\n",
       "      <td>1.0</td>\n",
       "      <td>1.0</td>\n",
       "      <td>1.0</td>\n",
       "      <td>1.0</td>\n",
       "      <td>1.0</td>\n",
       "      <td>1.0</td>\n",
       "      <td>1.0</td>\n",
       "      <td>1.0</td>\n",
       "      <td>...</td>\n",
       "      <td>0.0</td>\n",
       "      <td>0.0</td>\n",
       "      <td>0.0</td>\n",
       "      <td>0.0</td>\n",
       "      <td>0.0</td>\n",
       "      <td>0.0</td>\n",
       "      <td>0.0</td>\n",
       "      <td>0.0</td>\n",
       "      <td>0.0</td>\n",
       "      <td>0.0</td>\n",
       "    </tr>\n",
       "    <tr>\n",
       "      <th>family_history_No</th>\n",
       "      <td>1.0</td>\n",
       "      <td>1.0</td>\n",
       "      <td>1.0</td>\n",
       "      <td>0.0</td>\n",
       "      <td>1.0</td>\n",
       "      <td>0.0</td>\n",
       "      <td>0.0</td>\n",
       "      <td>1.0</td>\n",
       "      <td>0.0</td>\n",
       "      <td>1.0</td>\n",
       "      <td>...</td>\n",
       "      <td>0.0</td>\n",
       "      <td>0.0</td>\n",
       "      <td>0.0</td>\n",
       "      <td>0.0</td>\n",
       "      <td>0.0</td>\n",
       "      <td>1.0</td>\n",
       "      <td>0.0</td>\n",
       "      <td>0.0</td>\n",
       "      <td>1.0</td>\n",
       "      <td>0.0</td>\n",
       "    </tr>\n",
       "  </tbody>\n",
       "</table>\n",
       "<p>100 rows × 1257 columns</p>\n",
       "</div>"
      ],
      "text/plain": [
       "                                0     1     2     3     4     5     6     \\\n",
       "Gender_female                    1.0   0.0   0.0   0.0   0.0   0.0   1.0   \n",
       "Gender_male                      0.0   1.0   1.0   1.0   1.0   1.0   0.0   \n",
       "Gender_trans                     0.0   0.0   0.0   0.0   0.0   0.0   0.0   \n",
       "Country_Australia                0.0   0.0   0.0   0.0   0.0   0.0   0.0   \n",
       "Country_Austria                  0.0   0.0   0.0   0.0   0.0   0.0   0.0   \n",
       "Country_Belgium                  0.0   0.0   0.0   0.0   0.0   0.0   0.0   \n",
       "Country_Bosnia and Herzegovina   0.0   0.0   0.0   0.0   0.0   0.0   0.0   \n",
       "Country_Brazil                   0.0   0.0   0.0   0.0   0.0   0.0   0.0   \n",
       "Country_Bulgaria                 0.0   0.0   0.0   0.0   0.0   0.0   0.0   \n",
       "Country_Canada                   0.0   0.0   1.0   0.0   0.0   0.0   0.0   \n",
       "Country_China                    0.0   0.0   0.0   0.0   0.0   0.0   0.0   \n",
       "Country_Colombia                 0.0   0.0   0.0   0.0   0.0   0.0   0.0   \n",
       "Country_Costa Rica               0.0   0.0   0.0   0.0   0.0   0.0   0.0   \n",
       "Country_Croatia                  0.0   0.0   0.0   0.0   0.0   0.0   0.0   \n",
       "Country_Czech Republic           0.0   0.0   0.0   0.0   0.0   0.0   0.0   \n",
       "Country_Denmark                  0.0   0.0   0.0   0.0   0.0   0.0   0.0   \n",
       "Country_Finland                  0.0   0.0   0.0   0.0   0.0   0.0   0.0   \n",
       "Country_France                   0.0   0.0   0.0   0.0   0.0   0.0   0.0   \n",
       "Country_Georgia                  0.0   0.0   0.0   0.0   0.0   0.0   0.0   \n",
       "Country_Germany                  0.0   0.0   0.0   0.0   0.0   0.0   0.0   \n",
       "Country_Greece                   0.0   0.0   0.0   0.0   0.0   0.0   0.0   \n",
       "Country_Hungary                  0.0   0.0   0.0   0.0   0.0   0.0   0.0   \n",
       "Country_India                    0.0   0.0   0.0   0.0   0.0   0.0   0.0   \n",
       "Country_Ireland                  0.0   0.0   0.0   0.0   0.0   0.0   0.0   \n",
       "Country_Israel                   0.0   0.0   0.0   0.0   0.0   0.0   0.0   \n",
       "Country_Italy                    0.0   0.0   0.0   0.0   0.0   0.0   0.0   \n",
       "Country_Japan                    0.0   0.0   0.0   0.0   0.0   0.0   0.0   \n",
       "Country_Latvia                   0.0   0.0   0.0   0.0   0.0   0.0   0.0   \n",
       "Country_Mexico                   0.0   0.0   0.0   0.0   0.0   0.0   0.0   \n",
       "Country_Moldova                  0.0   0.0   0.0   0.0   0.0   0.0   0.0   \n",
       "Country_Netherlands              0.0   0.0   0.0   0.0   0.0   0.0   0.0   \n",
       "Country_New Zealand              0.0   0.0   0.0   0.0   0.0   0.0   0.0   \n",
       "Country_Nigeria                  0.0   0.0   0.0   0.0   0.0   0.0   0.0   \n",
       "Country_Norway                   0.0   0.0   0.0   0.0   0.0   0.0   0.0   \n",
       "Country_Philippines              0.0   0.0   0.0   0.0   0.0   0.0   0.0   \n",
       "Country_Poland                   0.0   0.0   0.0   0.0   0.0   0.0   0.0   \n",
       "Country_Portugal                 0.0   0.0   0.0   0.0   0.0   0.0   0.0   \n",
       "Country_Romania                  0.0   0.0   0.0   0.0   0.0   0.0   0.0   \n",
       "Country_Russia                   0.0   0.0   0.0   0.0   0.0   0.0   0.0   \n",
       "Country_Singapore                0.0   0.0   0.0   0.0   0.0   0.0   0.0   \n",
       "Country_Slovenia                 0.0   0.0   0.0   0.0   0.0   0.0   0.0   \n",
       "Country_South Africa             0.0   0.0   0.0   0.0   0.0   0.0   0.0   \n",
       "Country_Spain                    0.0   0.0   0.0   0.0   0.0   0.0   0.0   \n",
       "Country_Sweden                   0.0   0.0   0.0   0.0   0.0   0.0   0.0   \n",
       "Country_Switzerland              0.0   0.0   0.0   0.0   0.0   0.0   0.0   \n",
       "Country_Thailand                 0.0   0.0   0.0   0.0   0.0   0.0   0.0   \n",
       "Country_United Kingdom           0.0   0.0   0.0   1.0   0.0   0.0   0.0   \n",
       "Country_United States            1.0   1.0   0.0   0.0   1.0   1.0   1.0   \n",
       "Country_Uruguay                  0.0   0.0   0.0   0.0   0.0   0.0   0.0   \n",
       "Country_Zimbabwe                 0.0   0.0   0.0   0.0   0.0   0.0   0.0   \n",
       "state_AL                         0.0   0.0   0.0   0.0   0.0   0.0   0.0   \n",
       "state_AZ                         0.0   0.0   0.0   0.0   0.0   0.0   0.0   \n",
       "state_CA                         0.0   0.0   0.0   0.0   0.0   0.0   0.0   \n",
       "state_CO                         0.0   0.0   0.0   0.0   0.0   0.0   0.0   \n",
       "state_CT                         0.0   0.0   0.0   0.0   0.0   0.0   0.0   \n",
       "state_DC                         0.0   0.0   0.0   0.0   0.0   0.0   0.0   \n",
       "state_FL                         0.0   0.0   0.0   0.0   0.0   0.0   0.0   \n",
       "state_GA                         0.0   0.0   0.0   0.0   0.0   0.0   0.0   \n",
       "state_IA                         0.0   0.0   0.0   0.0   0.0   0.0   0.0   \n",
       "state_ID                         0.0   0.0   0.0   0.0   0.0   0.0   0.0   \n",
       "state_IL                         1.0   0.0   0.0   0.0   0.0   0.0   0.0   \n",
       "state_IN                         0.0   1.0   0.0   0.0   0.0   0.0   0.0   \n",
       "state_KS                         0.0   0.0   0.0   0.0   0.0   0.0   0.0   \n",
       "state_KY                         0.0   0.0   0.0   0.0   0.0   0.0   0.0   \n",
       "state_LA                         0.0   0.0   0.0   0.0   0.0   0.0   0.0   \n",
       "state_MA                         0.0   0.0   0.0   0.0   0.0   0.0   0.0   \n",
       "state_MD                         0.0   0.0   0.0   0.0   0.0   0.0   0.0   \n",
       "state_ME                         0.0   0.0   0.0   0.0   0.0   0.0   0.0   \n",
       "state_MI                         0.0   0.0   0.0   0.0   0.0   0.0   1.0   \n",
       "state_MN                         0.0   0.0   0.0   0.0   0.0   0.0   0.0   \n",
       "state_MO                         0.0   0.0   0.0   0.0   0.0   0.0   0.0   \n",
       "state_MS                         0.0   0.0   0.0   0.0   0.0   0.0   0.0   \n",
       "state_NC                         0.0   0.0   0.0   0.0   0.0   0.0   0.0   \n",
       "state_NE                         0.0   0.0   0.0   0.0   0.0   0.0   0.0   \n",
       "state_NH                         0.0   0.0   0.0   0.0   0.0   0.0   0.0   \n",
       "state_NJ                         0.0   0.0   0.0   0.0   0.0   0.0   0.0   \n",
       "state_NM                         0.0   0.0   0.0   0.0   0.0   0.0   0.0   \n",
       "state_NV                         0.0   0.0   0.0   0.0   0.0   0.0   0.0   \n",
       "state_NY                         0.0   0.0   0.0   0.0   0.0   0.0   0.0   \n",
       "state_OH                         0.0   0.0   0.0   0.0   0.0   0.0   0.0   \n",
       "state_OK                         0.0   0.0   0.0   0.0   0.0   0.0   0.0   \n",
       "state_OR                         0.0   0.0   0.0   0.0   0.0   0.0   0.0   \n",
       "state_PA                         0.0   0.0   0.0   0.0   0.0   0.0   0.0   \n",
       "state_RI                         0.0   0.0   0.0   0.0   0.0   0.0   0.0   \n",
       "state_SC                         0.0   0.0   0.0   0.0   0.0   0.0   0.0   \n",
       "state_SD                         0.0   0.0   0.0   0.0   0.0   0.0   0.0   \n",
       "state_TN                         0.0   0.0   0.0   0.0   0.0   1.0   0.0   \n",
       "state_TX                         0.0   0.0   0.0   0.0   1.0   0.0   0.0   \n",
       "state_UT                         0.0   0.0   0.0   0.0   0.0   0.0   0.0   \n",
       "state_VA                         0.0   0.0   0.0   0.0   0.0   0.0   0.0   \n",
       "state_VT                         0.0   0.0   0.0   0.0   0.0   0.0   0.0   \n",
       "state_WA                         0.0   0.0   0.0   0.0   0.0   0.0   0.0   \n",
       "state_WI                         0.0   0.0   0.0   0.0   0.0   0.0   0.0   \n",
       "state_WV                         0.0   0.0   0.0   0.0   0.0   0.0   0.0   \n",
       "state_WY                         0.0   0.0   0.0   0.0   0.0   0.0   0.0   \n",
       "state_unknown                    0.0   0.0   1.0   1.0   0.0   0.0   0.0   \n",
       "self_employed_No                 0.0   0.0   0.0   0.0   0.0   0.0   0.0   \n",
       "self_employed_Yes                0.0   0.0   0.0   0.0   0.0   0.0   0.0   \n",
       "self_employed_unknown            1.0   1.0   1.0   1.0   1.0   1.0   1.0   \n",
       "family_history_No                1.0   1.0   1.0   0.0   1.0   0.0   0.0   \n",
       "\n",
       "                                7     8     9     ...   1249  1250  1251  \\\n",
       "Gender_female                    0.0   1.0   0.0  ...    0.0   0.0   0.0   \n",
       "Gender_male                      1.0   0.0   1.0  ...    1.0   1.0   1.0   \n",
       "Gender_trans                     0.0   0.0   0.0  ...    0.0   0.0   0.0   \n",
       "Country_Australia                0.0   0.0   0.0  ...    0.0   0.0   0.0   \n",
       "Country_Austria                  0.0   0.0   0.0  ...    0.0   0.0   0.0   \n",
       "Country_Belgium                  0.0   0.0   0.0  ...    0.0   0.0   0.0   \n",
       "Country_Bosnia and Herzegovina   0.0   0.0   0.0  ...    0.0   0.0   0.0   \n",
       "Country_Brazil                   0.0   0.0   0.0  ...    0.0   0.0   0.0   \n",
       "Country_Bulgaria                 0.0   0.0   0.0  ...    0.0   0.0   0.0   \n",
       "Country_Canada                   1.0   0.0   1.0  ...    0.0   0.0   0.0   \n",
       "Country_China                    0.0   0.0   0.0  ...    0.0   0.0   0.0   \n",
       "Country_Colombia                 0.0   0.0   0.0  ...    0.0   0.0   0.0   \n",
       "Country_Costa Rica               0.0   0.0   0.0  ...    0.0   0.0   0.0   \n",
       "Country_Croatia                  0.0   0.0   0.0  ...    0.0   0.0   0.0   \n",
       "Country_Czech Republic           0.0   0.0   0.0  ...    0.0   0.0   0.0   \n",
       "Country_Denmark                  0.0   0.0   0.0  ...    0.0   0.0   0.0   \n",
       "Country_Finland                  0.0   0.0   0.0  ...    0.0   0.0   0.0   \n",
       "Country_France                   0.0   0.0   0.0  ...    0.0   0.0   0.0   \n",
       "Country_Georgia                  0.0   0.0   0.0  ...    0.0   0.0   0.0   \n",
       "Country_Germany                  0.0   0.0   0.0  ...    0.0   0.0   0.0   \n",
       "Country_Greece                   0.0   0.0   0.0  ...    0.0   0.0   0.0   \n",
       "Country_Hungary                  0.0   0.0   0.0  ...    0.0   0.0   0.0   \n",
       "Country_India                    0.0   0.0   0.0  ...    0.0   0.0   0.0   \n",
       "Country_Ireland                  0.0   0.0   0.0  ...    0.0   0.0   0.0   \n",
       "Country_Israel                   0.0   0.0   0.0  ...    0.0   0.0   0.0   \n",
       "Country_Italy                    0.0   0.0   0.0  ...    0.0   0.0   0.0   \n",
       "Country_Japan                    0.0   0.0   0.0  ...    0.0   0.0   0.0   \n",
       "Country_Latvia                   0.0   0.0   0.0  ...    0.0   0.0   0.0   \n",
       "Country_Mexico                   0.0   0.0   0.0  ...    0.0   0.0   0.0   \n",
       "Country_Moldova                  0.0   0.0   0.0  ...    0.0   0.0   0.0   \n",
       "Country_Netherlands              0.0   0.0   0.0  ...    0.0   0.0   0.0   \n",
       "Country_New Zealand              0.0   0.0   0.0  ...    0.0   0.0   0.0   \n",
       "Country_Nigeria                  0.0   0.0   0.0  ...    0.0   0.0   0.0   \n",
       "Country_Norway                   0.0   0.0   0.0  ...    0.0   0.0   0.0   \n",
       "Country_Philippines              0.0   0.0   0.0  ...    0.0   0.0   0.0   \n",
       "Country_Poland                   0.0   0.0   0.0  ...    0.0   0.0   0.0   \n",
       "Country_Portugal                 0.0   0.0   0.0  ...    0.0   0.0   0.0   \n",
       "Country_Romania                  0.0   0.0   0.0  ...    0.0   0.0   0.0   \n",
       "Country_Russia                   0.0   0.0   0.0  ...    0.0   0.0   0.0   \n",
       "Country_Singapore                0.0   0.0   0.0  ...    0.0   0.0   0.0   \n",
       "Country_Slovenia                 0.0   0.0   0.0  ...    0.0   0.0   0.0   \n",
       "Country_South Africa             0.0   0.0   0.0  ...    0.0   0.0   1.0   \n",
       "Country_Spain                    0.0   0.0   0.0  ...    0.0   0.0   0.0   \n",
       "Country_Sweden                   0.0   0.0   0.0  ...    0.0   0.0   0.0   \n",
       "Country_Switzerland              0.0   0.0   0.0  ...    0.0   0.0   0.0   \n",
       "Country_Thailand                 0.0   0.0   0.0  ...    0.0   0.0   0.0   \n",
       "Country_United Kingdom           0.0   0.0   0.0  ...    0.0   0.0   0.0   \n",
       "Country_United States            0.0   1.0   0.0  ...    1.0   1.0   0.0   \n",
       "Country_Uruguay                  0.0   0.0   0.0  ...    0.0   0.0   0.0   \n",
       "Country_Zimbabwe                 0.0   0.0   0.0  ...    0.0   0.0   0.0   \n",
       "state_AL                         0.0   0.0   0.0  ...    0.0   0.0   0.0   \n",
       "state_AZ                         0.0   0.0   0.0  ...    0.0   0.0   0.0   \n",
       "state_CA                         0.0   0.0   0.0  ...    1.0   1.0   0.0   \n",
       "state_CO                         0.0   0.0   0.0  ...    0.0   0.0   0.0   \n",
       "state_CT                         0.0   0.0   0.0  ...    0.0   0.0   0.0   \n",
       "state_DC                         0.0   0.0   0.0  ...    0.0   0.0   0.0   \n",
       "state_FL                         0.0   0.0   0.0  ...    0.0   0.0   0.0   \n",
       "state_GA                         0.0   0.0   0.0  ...    0.0   0.0   0.0   \n",
       "state_IA                         0.0   0.0   0.0  ...    0.0   0.0   0.0   \n",
       "state_ID                         0.0   0.0   0.0  ...    0.0   0.0   0.0   \n",
       "state_IL                         0.0   1.0   0.0  ...    0.0   0.0   0.0   \n",
       "state_IN                         0.0   0.0   0.0  ...    0.0   0.0   0.0   \n",
       "state_KS                         0.0   0.0   0.0  ...    0.0   0.0   0.0   \n",
       "state_KY                         0.0   0.0   0.0  ...    0.0   0.0   0.0   \n",
       "state_LA                         0.0   0.0   0.0  ...    0.0   0.0   0.0   \n",
       "state_MA                         0.0   0.0   0.0  ...    0.0   0.0   0.0   \n",
       "state_MD                         0.0   0.0   0.0  ...    0.0   0.0   0.0   \n",
       "state_ME                         0.0   0.0   0.0  ...    0.0   0.0   0.0   \n",
       "state_MI                         0.0   0.0   0.0  ...    0.0   0.0   0.0   \n",
       "state_MN                         0.0   0.0   0.0  ...    0.0   0.0   0.0   \n",
       "state_MO                         0.0   0.0   0.0  ...    0.0   0.0   0.0   \n",
       "state_MS                         0.0   0.0   0.0  ...    0.0   0.0   0.0   \n",
       "state_NC                         0.0   0.0   0.0  ...    0.0   0.0   0.0   \n",
       "state_NE                         0.0   0.0   0.0  ...    0.0   0.0   0.0   \n",
       "state_NH                         0.0   0.0   0.0  ...    0.0   0.0   0.0   \n",
       "state_NJ                         0.0   0.0   0.0  ...    0.0   0.0   0.0   \n",
       "state_NM                         0.0   0.0   0.0  ...    0.0   0.0   0.0   \n",
       "state_NV                         0.0   0.0   0.0  ...    0.0   0.0   0.0   \n",
       "state_NY                         0.0   0.0   0.0  ...    0.0   0.0   0.0   \n",
       "state_OH                         0.0   0.0   0.0  ...    0.0   0.0   0.0   \n",
       "state_OK                         0.0   0.0   0.0  ...    0.0   0.0   0.0   \n",
       "state_OR                         0.0   0.0   0.0  ...    0.0   0.0   0.0   \n",
       "state_PA                         0.0   0.0   0.0  ...    0.0   0.0   0.0   \n",
       "state_RI                         0.0   0.0   0.0  ...    0.0   0.0   0.0   \n",
       "state_SC                         0.0   0.0   0.0  ...    0.0   0.0   0.0   \n",
       "state_SD                         0.0   0.0   0.0  ...    0.0   0.0   0.0   \n",
       "state_TN                         0.0   0.0   0.0  ...    0.0   0.0   0.0   \n",
       "state_TX                         0.0   0.0   0.0  ...    0.0   0.0   0.0   \n",
       "state_UT                         0.0   0.0   0.0  ...    0.0   0.0   0.0   \n",
       "state_VA                         0.0   0.0   0.0  ...    0.0   0.0   0.0   \n",
       "state_VT                         0.0   0.0   0.0  ...    0.0   0.0   0.0   \n",
       "state_WA                         0.0   0.0   0.0  ...    0.0   0.0   0.0   \n",
       "state_WI                         0.0   0.0   0.0  ...    0.0   0.0   0.0   \n",
       "state_WV                         0.0   0.0   0.0  ...    0.0   0.0   0.0   \n",
       "state_WY                         0.0   0.0   0.0  ...    0.0   0.0   0.0   \n",
       "state_unknown                    1.0   0.0   1.0  ...    0.0   0.0   1.0   \n",
       "self_employed_No                 0.0   0.0   0.0  ...    1.0   0.0   1.0   \n",
       "self_employed_Yes                0.0   0.0   0.0  ...    0.0   1.0   0.0   \n",
       "self_employed_unknown            1.0   1.0   1.0  ...    0.0   0.0   0.0   \n",
       "family_history_No                1.0   0.0   1.0  ...    0.0   0.0   0.0   \n",
       "\n",
       "                                1252  1253  1254  1255  1256  1257  1258  \n",
       "Gender_female                    0.0   0.0   0.0   0.0   0.0   1.0   0.0  \n",
       "Gender_male                      1.0   1.0   1.0   1.0   1.0   0.0   1.0  \n",
       "Gender_trans                     0.0   0.0   0.0   0.0   0.0   0.0   0.0  \n",
       "Country_Australia                0.0   0.0   0.0   0.0   0.0   0.0   0.0  \n",
       "Country_Austria                  0.0   0.0   0.0   0.0   0.0   0.0   0.0  \n",
       "Country_Belgium                  0.0   0.0   0.0   0.0   0.0   0.0   0.0  \n",
       "Country_Bosnia and Herzegovina   0.0   0.0   0.0   0.0   0.0   0.0   0.0  \n",
       "Country_Brazil                   0.0   0.0   0.0   0.0   0.0   0.0   0.0  \n",
       "Country_Bulgaria                 0.0   0.0   0.0   0.0   0.0   0.0   0.0  \n",
       "Country_Canada                   0.0   0.0   0.0   0.0   0.0   0.0   0.0  \n",
       "Country_China                    0.0   0.0   0.0   0.0   0.0   0.0   0.0  \n",
       "Country_Colombia                 0.0   0.0   0.0   0.0   0.0   0.0   0.0  \n",
       "Country_Costa Rica               0.0   0.0   0.0   0.0   0.0   0.0   0.0  \n",
       "Country_Croatia                  0.0   0.0   0.0   0.0   0.0   0.0   0.0  \n",
       "Country_Czech Republic           0.0   0.0   0.0   0.0   0.0   0.0   0.0  \n",
       "Country_Denmark                  0.0   0.0   0.0   0.0   0.0   0.0   0.0  \n",
       "Country_Finland                  0.0   0.0   0.0   0.0   0.0   0.0   0.0  \n",
       "Country_France                   0.0   0.0   0.0   0.0   0.0   0.0   0.0  \n",
       "Country_Georgia                  0.0   0.0   0.0   0.0   0.0   0.0   0.0  \n",
       "Country_Germany                  0.0   0.0   0.0   0.0   0.0   0.0   0.0  \n",
       "Country_Greece                   0.0   0.0   0.0   0.0   0.0   0.0   0.0  \n",
       "Country_Hungary                  0.0   0.0   0.0   0.0   0.0   0.0   0.0  \n",
       "Country_India                    0.0   0.0   0.0   0.0   0.0   0.0   0.0  \n",
       "Country_Ireland                  0.0   0.0   0.0   0.0   0.0   0.0   0.0  \n",
       "Country_Israel                   0.0   0.0   0.0   0.0   0.0   0.0   0.0  \n",
       "Country_Italy                    0.0   0.0   0.0   0.0   0.0   0.0   0.0  \n",
       "Country_Japan                    0.0   0.0   0.0   0.0   0.0   0.0   0.0  \n",
       "Country_Latvia                   0.0   0.0   0.0   0.0   0.0   0.0   0.0  \n",
       "Country_Mexico                   0.0   0.0   0.0   0.0   0.0   0.0   0.0  \n",
       "Country_Moldova                  0.0   0.0   0.0   0.0   0.0   0.0   0.0  \n",
       "Country_Netherlands              0.0   0.0   0.0   0.0   0.0   0.0   0.0  \n",
       "Country_New Zealand              0.0   0.0   0.0   0.0   0.0   0.0   0.0  \n",
       "Country_Nigeria                  0.0   0.0   0.0   0.0   0.0   0.0   0.0  \n",
       "Country_Norway                   0.0   0.0   0.0   0.0   0.0   0.0   0.0  \n",
       "Country_Philippines              0.0   0.0   0.0   0.0   0.0   0.0   0.0  \n",
       "Country_Poland                   0.0   0.0   0.0   0.0   0.0   0.0   0.0  \n",
       "Country_Portugal                 0.0   0.0   0.0   0.0   0.0   0.0   0.0  \n",
       "Country_Romania                  0.0   0.0   0.0   0.0   0.0   0.0   0.0  \n",
       "Country_Russia                   0.0   0.0   0.0   0.0   0.0   0.0   0.0  \n",
       "Country_Singapore                0.0   0.0   0.0   0.0   0.0   0.0   0.0  \n",
       "Country_Slovenia                 0.0   0.0   0.0   0.0   0.0   0.0   0.0  \n",
       "Country_South Africa             0.0   0.0   0.0   0.0   0.0   0.0   0.0  \n",
       "Country_Spain                    0.0   0.0   0.0   0.0   0.0   0.0   0.0  \n",
       "Country_Sweden                   0.0   0.0   0.0   0.0   0.0   0.0   0.0  \n",
       "Country_Switzerland              0.0   0.0   0.0   0.0   0.0   0.0   0.0  \n",
       "Country_Thailand                 0.0   0.0   0.0   0.0   0.0   0.0   0.0  \n",
       "Country_United Kingdom           0.0   0.0   1.0   0.0   0.0   0.0   0.0  \n",
       "Country_United States            1.0   1.0   0.0   1.0   1.0   1.0   1.0  \n",
       "Country_Uruguay                  0.0   0.0   0.0   0.0   0.0   0.0   0.0  \n",
       "Country_Zimbabwe                 0.0   0.0   0.0   0.0   0.0   0.0   0.0  \n",
       "state_AL                         0.0   0.0   0.0   0.0   0.0   0.0   0.0  \n",
       "state_AZ                         0.0   0.0   0.0   0.0   0.0   0.0   0.0  \n",
       "state_CA                         0.0   0.0   0.0   0.0   1.0   0.0   0.0  \n",
       "state_CO                         0.0   0.0   0.0   0.0   0.0   0.0   0.0  \n",
       "state_CT                         0.0   0.0   0.0   0.0   0.0   0.0   0.0  \n",
       "state_DC                         0.0   0.0   0.0   0.0   0.0   0.0   0.0  \n",
       "state_FL                         0.0   0.0   0.0   0.0   0.0   0.0   0.0  \n",
       "state_GA                         0.0   0.0   0.0   0.0   0.0   0.0   0.0  \n",
       "state_IA                         0.0   0.0   0.0   0.0   0.0   0.0   0.0  \n",
       "state_ID                         0.0   0.0   0.0   0.0   0.0   0.0   0.0  \n",
       "state_IL                         0.0   0.0   0.0   1.0   0.0   0.0   1.0  \n",
       "state_IN                         0.0   0.0   0.0   0.0   0.0   0.0   0.0  \n",
       "state_KS                         0.0   0.0   0.0   0.0   0.0   0.0   0.0  \n",
       "state_KY                         0.0   0.0   0.0   0.0   0.0   0.0   0.0  \n",
       "state_LA                         0.0   0.0   0.0   0.0   0.0   0.0   0.0  \n",
       "state_MA                         0.0   0.0   0.0   0.0   0.0   0.0   0.0  \n",
       "state_MD                         0.0   0.0   0.0   0.0   0.0   0.0   0.0  \n",
       "state_ME                         0.0   0.0   0.0   0.0   0.0   0.0   0.0  \n",
       "state_MI                         0.0   0.0   0.0   0.0   0.0   0.0   0.0  \n",
       "state_MN                         0.0   0.0   0.0   0.0   0.0   0.0   0.0  \n",
       "state_MO                         0.0   0.0   0.0   0.0   0.0   0.0   0.0  \n",
       "state_MS                         0.0   0.0   0.0   0.0   0.0   0.0   0.0  \n",
       "state_NC                         1.0   0.0   0.0   0.0   0.0   1.0   0.0  \n",
       "state_NE                         0.0   0.0   0.0   0.0   0.0   0.0   0.0  \n",
       "state_NH                         0.0   0.0   0.0   0.0   0.0   0.0   0.0  \n",
       "state_NJ                         0.0   0.0   0.0   0.0   0.0   0.0   0.0  \n",
       "state_NM                         0.0   0.0   0.0   0.0   0.0   0.0   0.0  \n",
       "state_NV                         0.0   0.0   0.0   0.0   0.0   0.0   0.0  \n",
       "state_NY                         0.0   0.0   0.0   0.0   0.0   0.0   0.0  \n",
       "state_OH                         0.0   0.0   0.0   0.0   0.0   0.0   0.0  \n",
       "state_OK                         0.0   0.0   0.0   0.0   0.0   0.0   0.0  \n",
       "state_OR                         0.0   0.0   0.0   0.0   0.0   0.0   0.0  \n",
       "state_PA                         0.0   0.0   0.0   0.0   0.0   0.0   0.0  \n",
       "state_RI                         0.0   0.0   0.0   0.0   0.0   0.0   0.0  \n",
       "state_SC                         0.0   0.0   0.0   0.0   0.0   0.0   0.0  \n",
       "state_SD                         0.0   0.0   0.0   0.0   0.0   0.0   0.0  \n",
       "state_TN                         0.0   0.0   0.0   0.0   0.0   0.0   0.0  \n",
       "state_TX                         0.0   0.0   0.0   0.0   0.0   0.0   0.0  \n",
       "state_UT                         0.0   1.0   0.0   0.0   0.0   0.0   0.0  \n",
       "state_VA                         0.0   0.0   0.0   0.0   0.0   0.0   0.0  \n",
       "state_VT                         0.0   0.0   0.0   0.0   0.0   0.0   0.0  \n",
       "state_WA                         0.0   0.0   0.0   0.0   0.0   0.0   0.0  \n",
       "state_WI                         0.0   0.0   0.0   0.0   0.0   0.0   0.0  \n",
       "state_WV                         0.0   0.0   0.0   0.0   0.0   0.0   0.0  \n",
       "state_WY                         0.0   0.0   0.0   0.0   0.0   0.0   0.0  \n",
       "state_unknown                    0.0   0.0   1.0   0.0   0.0   0.0   0.0  \n",
       "self_employed_No                 1.0   1.0   1.0   1.0   1.0   1.0   1.0  \n",
       "self_employed_Yes                0.0   0.0   0.0   0.0   0.0   0.0   0.0  \n",
       "self_employed_unknown            0.0   0.0   0.0   0.0   0.0   0.0   0.0  \n",
       "family_history_No                0.0   0.0   1.0   0.0   0.0   1.0   0.0  \n",
       "\n",
       "[100 rows x 1257 columns]"
      ]
     },
     "execution_count": 71,
     "metadata": {},
     "output_type": "execute_result"
    }
   ],
   "source": [
    "X_ohe.T.head(100)"
   ]
  },
  {
   "cell_type": "markdown",
   "metadata": {},
   "source": [
    "## 2.1 Logistic Regression\n",
    "### 2.1.1 K-fold Cross Validation using the inverse of regularisation parameter (C) under Logistic Regression Classifier"
   ]
  },
  {
   "cell_type": "code",
   "execution_count": 72,
   "metadata": {
    "collapsed": true
   },
   "outputs": [],
   "source": [
    "C = [10000,100, 1, 0.01,0.0001] \n",
    "cv_score = []\n",
    "for c in C:\n",
    "    lr = linear_model.LogisticRegression(C=c)\n",
    "    scores = cross_val_score(lr,X_ohe,y,cv = 5,scoring='accuracy')\n",
    "    cv_score.append(scores.mean())"
   ]
  },
  {
   "cell_type": "code",
   "execution_count": 73,
   "metadata": {
    "collapsed": false
   },
   "outputs": [
    {
     "data": {
      "image/png": "[encoded data removed]",
      "text/plain": [
       "<matplotlib.figure.Figure at 0x1187e1d50>"
      ]
     },
     "metadata": {},
     "output_type": "display_data"
    }
   ],
   "source": [
    "plt.plot(C,cv_score) \n",
    "plt.ylabel('mean ROC-AUC')\n",
    "plt.xlabel('Inverse Regularisation Parameter')\n",
    "plt.show()"
   ]
  },
  {
   "cell_type": "code",
   "execution_count": 74,
   "metadata": {
    "collapsed": false
   },
   "outputs": [
    {
     "name": "stdout",
     "output_type": "stream",
     "text": [
      "The maximum mean ROC-AUC score of 0.828954025169 occurs for the model with inverse parameter: 1\n"
     ]
    }
   ],
   "source": [
    "print 'The maximum mean ROC-AUC score of', max(cv_score), 'occurs for the model with inverse parameter:', C[np.argmax(cv_score)]"
   ]
  },
  {
   "cell_type": "code",
   "execution_count": 75,
   "metadata": {
    "collapsed": true
   },
   "outputs": [],
   "source": [
    "Result.append(('OHE: LR with full data, roc_auc',max(cv_score)))"
   ]
  },
  {
   "cell_type": "markdown",
   "metadata": {},
   "source": [
    "#### ROC Curve for the model with highest mean ROC_AUC"
   ]
  },
  {
   "cell_type": "code",
   "execution_count": 76,
   "metadata": {
    "collapsed": true
   },
   "outputs": [],
   "source": [
    "lr = linear_model.LogisticRegression(C=C[np.argmax(cv_score)])\n",
    "SEED = 32\n",
    "X_train, X_test, y_train, y_test = train_test_split(X, y, test_size=0.2, random_state=SEED)\n",
    "\n",
    "lr.fit(X_train,y_train)\n",
    "probs = lr.predict_proba(X_test)[:,1] # get the probabilities of positive outcome\n",
    "\n",
    "false_positive_rate, true_positive_rate, thresholds = roc_curve(y_test, probs)\n",
    "roc_auc = auc(false_positive_rate, true_positive_rate)"
   ]
  },
  {
   "cell_type": "code",
   "execution_count": 77,
   "metadata": {
    "collapsed": false
   },
   "outputs": [
    {
     "data": {
      "image/png": "[encoded data removed]",
      "text/plain": [
       "<matplotlib.figure.Figure at 0x11b9fb810>"
      ]
     },
     "metadata": {},
     "output_type": "display_data"
    }
   ],
   "source": [
    "plt.plot(false_positive_rate, true_positive_rate, 'b',label='AUC = %0.2f'% roc_auc)\n",
    "plt.title('ROC Curve for the LR model with C=1')\n",
    "plt.legend(loc =4)\n",
    "plt.show()"
   ]
  },
  {
   "cell_type": "markdown",
   "metadata": {},
   "source": [
    "### 2.1.2 Principal Component Analysis before training Logistic Regression classifier (Pre-Processing)"
   ]
  },
  {
   "cell_type": "code",
   "execution_count": 78,
   "metadata": {
    "collapsed": false
   },
   "outputs": [],
   "source": [
    "pca = PCA(n_components=50)\n",
    "SEED = 420\n",
    "# Split into training and test set \n",
    "X_train, X_test, y_train, y_test = train_test_split(X_ohe, y, test_size=0.2, random_state=SEED)\n",
    "# Pick the top 50 components of PCA\n",
    "XPCA_train = pca.fit_transform(X_train)\n",
    "# Transform test set accordingly\n",
    "XPCA_test = pca.transform(X_test)"
   ]
  },
  {
   "cell_type": "code",
   "execution_count": 79,
   "metadata": {
    "collapsed": true
   },
   "outputs": [],
   "source": [
    "C = [10000,100, 1, 0.01,0.0001]\n",
    "in_score = []\n",
    "out_score = []\n",
    "for c in C:\n",
    "    lr = linear_model.LogisticRegression(C=c)\n",
    "    lr.fit(XPCA_train,y_train)\n",
    "    in_score.append(lr.score(XPCA_train,y_train))\n",
    "    out_score.append(lr.score(XPCA_test,y_test))"
   ]
  },
  {
   "cell_type": "code",
   "execution_count": 80,
   "metadata": {
    "collapsed": false
   },
   "outputs": [
    {
     "data": {
      "image/png": "[encoded data removed]",
      "text/plain": [
       "<matplotlib.figure.Figure at 0x11b9fbad0>"
      ]
     },
     "metadata": {},
     "output_type": "display_data"
    }
   ],
   "source": [
    "plt.plot(C,in_score, label='in_sample')  \n",
    "plt.plot(C,out_score, label='out_sample')\n",
    "plt.ylabel('Accuracy')\n",
    "plt.xlabel('Inverse of Regularisation')\n",
    "plt.legend(loc = 4)\n",
    "plt.show()"
   ]
  },
  {
   "cell_type": "code",
   "execution_count": 81,
   "metadata": {
    "collapsed": false
   },
   "outputs": [
    {
     "name": "stdout",
     "output_type": "stream",
     "text": [
      "Highest out-sample accuracy 0.825396825397 occurs for the model with C = 1\n"
     ]
    }
   ],
   "source": [
    "print 'Highest out-sample accuracy', max(out_score), 'occurs for the model with C =', C[np.argmax(out_score)]"
   ]
  },
  {
   "cell_type": "markdown",
   "metadata": {},
   "source": [
    "#### ROC Curve for the model with highest 'accuracy'"
   ]
  },
  {
   "cell_type": "code",
   "execution_count": 82,
   "metadata": {
    "collapsed": true
   },
   "outputs": [],
   "source": [
    "lr = linear_model.LogisticRegression(C=C[np.argmax(out_score)])\n",
    "\n",
    "lr.fit(XPCA_train,y_train)\n",
    "probs = lr.predict_proba(XPCA_test)[:,1] # get the probabilities of positive outcom\n",
    "\n",
    "false_positive_rate, true_positive_rate, thresholds = roc_curve(y_test, probs)\n",
    "roc_auc = auc(false_positive_rate, true_positive_rate)\n",
    "Result.append(('OHE: LR after pre-processing(pca), roc_auc',roc_auc))"
   ]
  },
  {
   "cell_type": "code",
   "execution_count": 83,
   "metadata": {
    "collapsed": false
   },
   "outputs": [
    {
     "data": {
      "image/png": "[encoded data removed]",
      "text/plain": [
       "<matplotlib.figure.Figure at 0x1205369d0>"
      ]
     },
     "metadata": {},
     "output_type": "display_data"
    }
   ],
   "source": [
    "plt.plot(false_positive_rate, true_positive_rate, 'b',label='AUC = %0.2f'% roc_auc)\n",
    "plt.title('ROC Curve for the LR model after PCA with C = %d' %C[np.argmax(out_score)])\n",
    "plt.legend(loc =4)\n",
    "plt.show()"
   ]
  },
  {
   "cell_type": "markdown",
   "metadata": {},
   "source": [
    "### 2.1.3 Feature Selection Using Recursive Feature Extraction (post-processing)"
   ]
  },
  {
   "cell_type": "code",
   "execution_count": 84,
   "metadata": {
    "collapsed": true
   },
   "outputs": [],
   "source": [
    "SEED = 420\n",
    "X_train, X_test, y_train, y_test = train_test_split(X_ohe, y, test_size=0.2, random_state=SEED)\n",
    "\n",
    "# Use the model parameter with the highest roc-auc score (2.1.1) to train a model\n",
    "lrf = linear_model.LogisticRegression(C=C[np.argmax(cv_score)]) \n",
    "# Recursively select the top 90 features\n",
    "selector = RFE(lrf, 50, step=5) \n",
    "selector = selector.fit(X_train, y_train) "
   ]
  },
  {
   "cell_type": "code",
   "execution_count": 85,
   "metadata": {
    "collapsed": false
   },
   "outputs": [],
   "source": [
    "# Collect the top 50 features together\n",
    "mask = selector.support_\n",
    "top_features = X_ohe.columns[mask]\n",
    "X_ohe_top = X_ohe[top_features]"
   ]
  },
  {
   "cell_type": "code",
   "execution_count": 86,
   "metadata": {
    "collapsed": true
   },
   "outputs": [],
   "source": [
    "# Train Logistic Regression clf and cross validate on the top features X_top\n",
    "C = [10000,100, 1, 0.01,0.0001] \n",
    "cv_score = [] \n",
    "for c in C:\n",
    "    lr = linear_model.LogisticRegression(C=c)\n",
    "    scores = cross_val_score(lr,X_ohe_top,y,cv = 5,scoring='roc_auc')\n",
    "    cv_score.append(scores.mean()) "
   ]
  },
  {
   "cell_type": "code",
   "execution_count": 87,
   "metadata": {
    "collapsed": false
   },
   "outputs": [
    {
     "data": {
      "image/png": "[encoded data removed]",
      "text/plain": [
       "<matplotlib.figure.Figure at 0x120536d90>"
      ]
     },
     "metadata": {},
     "output_type": "display_data"
    }
   ],
   "source": [
    "plt.plot(C,cv_score)\n",
    "plt.ylabel('mean ROC-AUC')\n",
    "plt.xlabel('Inverse Regularisation Parameter')\n",
    "plt.show()"
   ]
  },
  {
   "cell_type": "code",
   "execution_count": 88,
   "metadata": {
    "collapsed": false
   },
   "outputs": [
    {
     "name": "stdout",
     "output_type": "stream",
     "text": [
      "Highest mean roc_auc of 0.902341732283 occurs for C =  1\n"
     ]
    }
   ],
   "source": [
    "print 'Highest mean roc_auc of', max(cv_score), 'occurs for C = ', C[np.argmax(cv_score)]"
   ]
  },
  {
   "cell_type": "code",
   "execution_count": 89,
   "metadata": {
    "collapsed": true
   },
   "outputs": [],
   "source": [
    "Result.append(('OHE: LR after post-processing(RFE), roc_auc',max(cv_score)))"
   ]
  },
  {
   "cell_type": "markdown",
   "metadata": {},
   "source": [
    "#### ROC Curve for the model with highest mean ROC_AUC"
   ]
  },
  {
   "cell_type": "code",
   "execution_count": 90,
   "metadata": {
    "collapsed": false
   },
   "outputs": [
    {
     "data": {
      "text/plain": [
       "LogisticRegression(C=1, class_weight=None, dual=False, fit_intercept=True,\n",
       "          intercept_scaling=1, max_iter=100, multi_class='ovr', n_jobs=1,\n",
       "          penalty='l2', random_state=None, solver='liblinear', tol=0.0001,\n",
       "          verbose=0, warm_start=False)"
      ]
     },
     "execution_count": 90,
     "metadata": {},
     "output_type": "execute_result"
    }
   ],
   "source": [
    "# Run Logistic regression on the top 50 features\n",
    "lr_top = linear_model.LogisticRegression(C=C[np.argmax(cv_score)])\n",
    "SEED = 42\n",
    "X_ohe_top_train, X_ohe_top_test, y_train, y_test = train_test_split(X_ohe_top, y, test_size=0.2, random_state=SEED)\n",
    "lr_top.fit(X_ohe_top_train,y_train)"
   ]
  },
  {
   "cell_type": "code",
   "execution_count": 91,
   "metadata": {
    "collapsed": true
   },
   "outputs": [],
   "source": [
    "probs = lr_top.predict_proba(X_ohe_top_test)[:,1] # get the probabilities of positive outcome\n",
    "false_positive_rate, true_positive_rate, thresholds = roc_curve(y_test, probs)\n",
    "roc_auc = auc(false_positive_rate, true_positive_rate)"
   ]
  },
  {
   "cell_type": "code",
   "execution_count": 92,
   "metadata": {
    "collapsed": false
   },
   "outputs": [
    {
     "data": {
      "image/png": "[encoded data removed]",
      "text/plain": [
       "<matplotlib.figure.Figure at 0x121300f90>"
      ]
     },
     "metadata": {},
     "output_type": "display_data"
    }
   ],
   "source": [
    "plt.plot(false_positive_rate, true_positive_rate, 'b',label='AUC = %0.2f'% roc_auc)\n",
    "plt.title('ROC Curve for the LR model after Feature Extraction with C = %d' %C[np.argmax(cv_score)])\n",
    "plt.legend(loc = 4)\n",
    "plt.show()"
   ]
  },
  {
   "cell_type": "markdown",
   "metadata": {},
   "source": [
    "## 2.2 Random Forest\n",
    "### 2.2.1 K-fold cross validation against number of estimators using Random Forest classifier"
   ]
  },
  {
   "cell_type": "code",
   "execution_count": 93,
   "metadata": {
    "collapsed": true
   },
   "outputs": [],
   "source": [
    "ks = [10,20,50,100,1000]\n",
    "cv_score = []\n",
    "for k in ks:\n",
    "    RF = RandomForestClassifier(n_estimators=k, oob_score=False, random_state=42)\n",
    "    scores = cross_val_score(RF,X_ohe,y,cv = 5,scoring='roc_auc')\n",
    "    cv_score.append(scores.mean())"
   ]
  },
  {
   "cell_type": "code",
   "execution_count": 94,
   "metadata": {
    "collapsed": false
   },
   "outputs": [
    {
     "data": {
      "image/png": "[encoded data removed]",
      "text/plain": [
       "<matplotlib.figure.Figure at 0x118723610>"
      ]
     },
     "metadata": {},
     "output_type": "display_data"
    }
   ],
   "source": [
    "plt.plot(ks,cv_score)\n",
    "plt.title('ROC_AUC Vs no_of_estimators')\n",
    "plt.ylabel('mean ROC_AUC')\n",
    "plt.xlabel('n_estimators')\n",
    "plt.show()"
   ]
  },
  {
   "cell_type": "code",
   "execution_count": 95,
   "metadata": {
    "collapsed": false
   },
   "outputs": [
    {
     "name": "stdout",
     "output_type": "stream",
     "text": [
      "The highest mean roc_auc score of 0.8921497587 occurs for n_estimators = 1000\n"
     ]
    }
   ],
   "source": [
    "print 'The highest mean roc_auc score of', max(cv_score), 'occurs for n_estimators =', ks[np.argmax(cv_score)]"
   ]
  },
  {
   "cell_type": "code",
   "execution_count": 96,
   "metadata": {
    "collapsed": true
   },
   "outputs": [],
   "source": [
    "Result.append(('OHE: RF with full data, roc_auc',max(cv_score)))"
   ]
  },
  {
   "cell_type": "markdown",
   "metadata": {},
   "source": [
    "#### ROC Curve for the model with highest mean ROC_AUC"
   ]
  },
  {
   "cell_type": "code",
   "execution_count": 97,
   "metadata": {
    "collapsed": true
   },
   "outputs": [],
   "source": [
    "RF = RandomForestClassifier(n_estimators= ks[np.argmax(cv_score)],oob_score=False, random_state=42)\n",
    "SEED = 32\n",
    "X_train, X_test, y_train, y_test = train_test_split(X_ohe, y, test_size=0.2, random_state=SEED)\n",
    "\n",
    "res = RF.fit(X_train,y_train)\n",
    "probs = res.predict_proba(X_test)[:,1] # get the probabilities of positive outcome\n",
    "\n",
    "false_positive_rate, true_positive_rate, thresholds = roc_curve(y_test, probs)\n",
    "roc_auc = auc(false_positive_rate, true_positive_rate)"
   ]
  },
  {
   "cell_type": "code",
   "execution_count": 98,
   "metadata": {
    "collapsed": false
   },
   "outputs": [
    {
     "data": {
      "image/png": "[encoded data removed]",
      "text/plain": [
       "<matplotlib.figure.Figure at 0x11bb4c150>"
      ]
     },
     "metadata": {},
     "output_type": "display_data"
    }
   ],
   "source": [
    "plt.plot(false_positive_rate, true_positive_rate, 'b',label='AUC = %0.2f'% roc_auc)\n",
    "plt.title('ROC Curve for the RF model n_estimators = %d' %ks[np.argmax(cv_score)])\n",
    "plt.legend(loc = 4)\n",
    "plt.show()"
   ]
  },
  {
   "cell_type": "markdown",
   "metadata": {},
   "source": [
    "### 2.2.2 Random Forest classifier after PCA analysis (pre-processing)"
   ]
  },
  {
   "cell_type": "code",
   "execution_count": 99,
   "metadata": {
    "collapsed": false
   },
   "outputs": [
    {
     "name": "stdout",
     "output_type": "stream",
     "text": [
      "running model k = 10 20 50 100 1000\n"
     ]
    }
   ],
   "source": [
    "#Train RF clf on reduced data by PCA analysis (1.1.2)\n",
    "ks = [10,20,50,100,1000]\n",
    "in_score = []\n",
    "out_score = []\n",
    "print 'running model k =',\n",
    "for k in ks:\n",
    "    print k,\n",
    "    clf = RandomForestClassifier(n_estimators=k, oob_score=False, random_state=42)\n",
    "    res = clf.fit(XPCA_train, y_train)\n",
    "    in_score.append(res.score(XPCA_train, y_train)) \n",
    "    out_score.append(res.score(XPCA_test, y_test))"
   ]
  },
  {
   "cell_type": "code",
   "execution_count": 100,
   "metadata": {
    "collapsed": false
   },
   "outputs": [
    {
     "data": {
      "image/png": "[encoded data removed]",
      "text/plain": [
       "<matplotlib.figure.Figure at 0x115839e50>"
      ]
     },
     "metadata": {},
     "output_type": "display_data"
    }
   ],
   "source": [
    "plt.plot(ks,in_score, label='in_sample')\n",
    "plt.plot(ks,out_score, label='out_sample')\n",
    "plt.ylabel('Accuracy')\n",
    "plt.xlabel('no_estimators')\n",
    "plt.legend(loc = 4)\n",
    "plt.show()"
   ]
  },
  {
   "cell_type": "code",
   "execution_count": 101,
   "metadata": {
    "collapsed": false
   },
   "outputs": [
    {
     "name": "stdout",
     "output_type": "stream",
     "text": [
      "Highest accuracy score of 0.507936507937 occurs for n_estimators = 10\n"
     ]
    }
   ],
   "source": [
    "print 'Highest accuracy score of', max(out_score), 'occurs for n_estimators =', ks[np.argmax(out_score)]"
   ]
  },
  {
   "cell_type": "markdown",
   "metadata": {},
   "source": [
    "#### ROC Curve for the model with highest 'accuracy'"
   ]
  },
  {
   "cell_type": "code",
   "execution_count": 102,
   "metadata": {
    "collapsed": true
   },
   "outputs": [],
   "source": [
    "clf = RandomForestClassifier(n_estimators= ks[np.argmax(out_score)], oob_score=False, random_state=42)\n",
    "res = clf.fit(XPCA_train, y_train)\n",
    "probs = res.predict_proba(XPCA_test)[:,1] # get the probabilities of positive outcom\n",
    "false_positive_rate, true_positive_rate, thresholds = roc_curve(y_test, probs)\n",
    "roc_auc = auc(false_positive_rate, true_positive_rate)\n",
    "Result.append(('OHE, RF with pre-processing(pca), roc_auc',roc_auc))"
   ]
  },
  {
   "cell_type": "code",
   "execution_count": 103,
   "metadata": {
    "collapsed": false
   },
   "outputs": [
    {
     "data": {
      "image/png": "[encoded data removed]",
      "text/plain": [
       "<matplotlib.figure.Figure at 0x11824b490>"
      ]
     },
     "metadata": {},
     "output_type": "display_data"
    }
   ],
   "source": [
    "plt.plot(false_positive_rate, true_positive_rate, 'b',label='AUC = %0.2f'% roc_auc)\n",
    "plt.title('ROC Curve for the RF model after PCA with n_estimators = %d' %ks[np.argmax(out_score)])\n",
    "plt.legend(loc =4)\n",
    "plt.show()"
   ]
  },
  {
   "cell_type": "markdown",
   "metadata": {},
   "source": [
    "### 2.2.3 Feature Selection Using Feature importance in RF (Post-Processing)"
   ]
  },
  {
   "cell_type": "code",
   "execution_count": 104,
   "metadata": {
    "collapsed": true
   },
   "outputs": [],
   "source": [
    "#Use the model with the highest mean ROC_AUC (2.2.1) to identify the most important features\n",
    "RF = RandomForestClassifier(n_estimators=ks[np.argmax(cv_score)], oob_score=False, random_state=42)\n",
    "RF = RF.fit(X_train, y_train)"
   ]
  },
  {
   "cell_type": "code",
   "execution_count": 105,
   "metadata": {
    "collapsed": false
   },
   "outputs": [],
   "source": [
    "#Collect the top 50 features\n",
    "X_top = X_ohe.ix[:,RF.feature_importances_.argsort()[::-1][:50]]"
   ]
  },
  {
   "cell_type": "markdown",
   "metadata": {},
   "source": [
    "### Bar plot of the relative predictive power of features"
   ]
  },
  {
   "cell_type": "code",
   "execution_count": 106,
   "metadata": {
    "collapsed": false
   },
   "outputs": [
    {
     "data": {
      "image/png": "[encoded data removed]",
      "text/plain": [
       "<matplotlib.figure.Figure at 0x1184b1150>"
      ]
     },
     "metadata": {},
     "output_type": "display_data"
    }
   ],
   "source": [
    "imp = sorted(RF.feature_importances_)\n",
    "imp = imp[:50][::-1]\n",
    "fig, ax = plt.subplots(figsize=(10,12))\n",
    "sns.barplot(y=X_top.columns, x= imp,ax = ax)\n",
    "plt.show()"
   ]
  },
  {
   "cell_type": "code",
   "execution_count": null,
   "metadata": {
    "collapsed": true
   },
   "outputs": [],
   "source": []
  },
  {
   "cell_type": "code",
   "execution_count": 107,
   "metadata": {
    "collapsed": false
   },
   "outputs": [
    {
     "name": "stdout",
     "output_type": "stream",
     "text": [
      "running model k= 10 20 50 100 1000\n"
     ]
    }
   ],
   "source": [
    "#Run cross-validation on this reduced data set\n",
    "ks = [10,20,50,100,1000]\n",
    "cv_score = []\n",
    "print 'running model k=',\n",
    "for k in ks:\n",
    "    print k,\n",
    "    RF = RandomForestClassifier(n_estimators=k, oob_score=False, random_state=42)\n",
    "    scores = cross_val_score(RF,X_top,y,cv = 5,scoring='roc_auc')\n",
    "    cv_score.append(scores.mean())"
   ]
  },
  {
   "cell_type": "code",
   "execution_count": 108,
   "metadata": {
    "collapsed": false
   },
   "outputs": [
    {
     "data": {
      "image/png": "[encoded data removed]",
      "text/plain": [
       "<matplotlib.figure.Figure at 0x121327650>"
      ]
     },
     "metadata": {},
     "output_type": "display_data"
    }
   ],
   "source": [
    "plt.plot(ks,cv_score)\n",
    "plt.xlabel('n_estimators')\n",
    "plt.ylabel('mean ROC-AUC')\n",
    "plt.show()"
   ]
  },
  {
   "cell_type": "code",
   "execution_count": 109,
   "metadata": {
    "collapsed": false
   },
   "outputs": [
    {
     "name": "stdout",
     "output_type": "stream",
     "text": [
      "Highest mean roc_auc score of 0.894033426467 occurs for n_estimators = 1000\n"
     ]
    }
   ],
   "source": [
    "print 'Highest mean roc_auc score of', max(cv_score), 'occurs for n_estimators =', ks[np.argmax(cv_score)]"
   ]
  },
  {
   "cell_type": "code",
   "execution_count": 110,
   "metadata": {
    "collapsed": true
   },
   "outputs": [],
   "source": [
    "Result.append(('OHE: RF with post-processing, roc_auc',max(cv_score)))"
   ]
  },
  {
   "cell_type": "markdown",
   "metadata": {},
   "source": [
    "#### ROC Curve for the model with highest mean ROC_AUC\n"
   ]
  },
  {
   "cell_type": "code",
   "execution_count": 111,
   "metadata": {
    "collapsed": true
   },
   "outputs": [],
   "source": [
    "RF = RandomForestClassifier(n_estimators= ks[np.argmax(cv_score)],oob_score=False, random_state=42)\n",
    "SEED = 32\n",
    "X_top_train, X_top_test, y_train, y_test = train_test_split(X_top, y, test_size=0.2, random_state=SEED)\n",
    "\n",
    "res = RF.fit(X_top_train,y_train)\n",
    "probs = res.predict_proba(X_top_test)[:,1] # get the probabilities of positive outcome\n",
    "\n",
    "false_positive_rate, true_positive_rate, thresholds = roc_curve(y_test, probs)\n",
    "roc_auc = auc(false_positive_rate, true_positive_rate)"
   ]
  },
  {
   "cell_type": "code",
   "execution_count": 112,
   "metadata": {
    "collapsed": false
   },
   "outputs": [
    {
     "data": {
      "image/png": "[encoded data removed]",
      "text/plain": [
       "<matplotlib.figure.Figure at 0x1181e8890>"
      ]
     },
     "metadata": {},
     "output_type": "display_data"
    }
   ],
   "source": [
    "plt.plot(false_positive_rate, true_positive_rate, 'b',label='AUC = %0.2f'% roc_auc)\n",
    "plt.title('ROC Curve for the RF model after feature selection with n_estimators = %d' %ks[np.argmax(out_score)])\n",
    "plt.legend(loc = 4)\n",
    "plt.show()"
   ]
  },
  {
   "cell_type": "markdown",
   "metadata": {},
   "source": [
    "# Geographical Variation of Mental Health (ratio of people who sought treatment)"
   ]
  },
  {
   "cell_type": "code",
   "execution_count": 113,
   "metadata": {
    "collapsed": true
   },
   "outputs": [],
   "source": [
    "countries = data['Country'].unique()"
   ]
  },
  {
   "cell_type": "code",
   "execution_count": 114,
   "metadata": {
    "collapsed": false
   },
   "outputs": [
    {
     "data": {
      "text/plain": [
       "array(['United States', 'Canada', 'United Kingdom', 'Bulgaria', 'France',\n",
       "       'Portugal', 'Netherlands', 'Switzerland', 'Poland', 'Australia',\n",
       "       'Germany', 'Russia', 'Mexico', 'Brazil', 'Slovenia', 'Costa Rica',\n",
       "       'Austria', 'Ireland', 'India', 'South Africa', 'Italy', 'Sweden',\n",
       "       'Colombia', 'Latvia', 'Romania', 'Belgium', 'New Zealand',\n",
       "       'Zimbabwe', 'Spain', 'Finland', 'Uruguay', 'Israel',\n",
       "       'Bosnia and Herzegovina', 'Hungary', 'Singapore', 'Japan',\n",
       "       'Nigeria', 'Croatia', 'Norway', 'Thailand', 'Denmark', 'Greece',\n",
       "       'Moldova', 'Georgia', 'China', 'Czech Republic', 'Philippines'], dtype=object)"
      ]
     },
     "execution_count": 114,
     "metadata": {},
     "output_type": "execute_result"
    }
   ],
   "source": [
    "countries"
   ]
  },
  {
   "cell_type": "code",
   "execution_count": 115,
   "metadata": {
    "collapsed": false
   },
   "outputs": [],
   "source": [
    "percentage = []\n",
    "for co in countries:\n",
    "    mask = data.Country == co\n",
    "    percentage.append(y[mask].mean())"
   ]
  },
  {
   "cell_type": "code",
   "execution_count": 116,
   "metadata": {
    "collapsed": false
   },
   "outputs": [
    {
     "data": {
      "image/png": "[encoded data removed]",
      "text/plain": [
       "<matplotlib.figure.Figure at 0x11583be10>"
      ]
     },
     "metadata": {},
     "output_type": "display_data"
    }
   ],
   "source": [
    "fig, ax = plt.subplots(figsize=(10,14))\n",
    "sns.barplot(x=percentage, y= countries,ax = ax)\n",
    "plt.show()"
   ]
  },
  {
   "cell_type": "code",
   "execution_count": null,
   "metadata": {
    "collapsed": true
   },
   "outputs": [],
   "source": []
  },
  {
   "cell_type": "markdown",
   "metadata": {},
   "source": [
    "# Summary and Conclusion"
   ]
  },
  {
   "cell_type": "markdown",
   "metadata": {},
   "source": [
    "### The results of the models tested, in decending order of 'accuracy'"
   ]
  },
  {
   "cell_type": "code",
   "execution_count": 117,
   "metadata": {
    "collapsed": true
   },
   "outputs": [],
   "source": [
    "Result.sort(key=lambda tup: tup[1])\n",
    "Result = Result[::-1]"
   ]
  },
  {
   "cell_type": "code",
   "execution_count": 118,
   "metadata": {
    "collapsed": false
   },
   "outputs": [
    {
     "name": "stdout",
     "output_type": "stream",
     "text": [
      "OHE: LR after pre-processing(pca), roc_auc 0.902803149606\n",
      "OHE: LR after post-processing(RFE), roc_auc 0.902341732283\n",
      "OHE: RF with post-processing, roc_auc 0.894033426467\n",
      "OHE: RF with full data, roc_auc 0.8921497587\n",
      "LE: RF full data, roc_auc 0.885464465329\n",
      "LE: RF after post-processing, roc_auc 0.885061010922\n",
      "OHE: LR with full data, roc_auc 0.828954025169\n",
      "LE: LR model after post-processing(feature extraction), roc_auc 0.76707482855\n",
      "LE: LR with full data (roc_auc) 0.708821855435\n",
      "LE: LR model with preprocessing, roc_auc 0.630677165354\n",
      "OHE, RF with pre-processing(pca), roc_auc 0.543560606061\n",
      "LE: RF after pre-processing (pca), roc_auc 0.50716540404\n"
     ]
    }
   ],
   "source": [
    "for model, res in Result:\n",
    "    print model, res"
   ]
  },
  {
   "cell_type": "markdown",
   "metadata": {},
   "source": [
    "The investigation was conducted on two different data-schemes to encode catergorical data. They are\n",
    "    1. Label Encoding: In this data scheme, the catergorical variables are transformed into numerical values. The advantage of this model is that it does not expand the dimensionality of the feature space, however, it creates a spurious ordinality among the categories which might mislead some classifiers\n",
    "    \n",
    "    2. One Hot Encoding: Encode categorical data by means of creating dummy variables for each category,i.e, 1 if it is present and 0 otherwise. This scheme does not introduce spurious ordinality among catergories, however, depending on the number of categories present, this scheme can increase the dimensionality of feature space. \n",
    "    \n",
    "For each of these data schemes, both Logistic Regression and Random Forest Classifiers were used. Each classifier was further subdivided by training them on 1) the entire data scheme 2) Reduced data-set after PCA (pre-processing) 3) Reduced data-set after selecting the most important featurs (post-processing).\n",
    "\n",
    "One-Hot-Encoding(OHE) with pca reduction using Logistic Regression achieves the highest roc_auc score. This may be explained: as OHE increases the dimensionality of feature space reducing the dimensions improves the accuracy (reduce overfitting). In general the data-scheme OHE performs better than LE, this is due to the fact that LE introduces spurious ordinality in data. PCA reduction on LE data scheme gives poor results since the already small dimensionality of the data (24) is further reduced to 10 by PCA thus reducing the explanatory power. It is to be noted that RF performs poorly after pre-processing (PCA) in both OHE and LE."
   ]
  },
  {
   "cell_type": "code",
   "execution_count": null,
   "metadata": {
    "collapsed": true
   },
   "outputs": [],
   "source": []
  }
 ],
 "metadata": {
  "anaconda-cloud": {},
  "kernelspec": {
   "display_name": "Python [conda root]",
   "language": "python",
   "name": "conda-root-py"
  },
  "language_info": {
   "codemirror_mode": {
    "name": "ipython",
    "version": 2
   },
   "file_extension": ".py",
   "mimetype": "text/x-python",
   "name": "python",
   "nbconvert_exporter": "python",
   "pygments_lexer": "ipython2",
   "version": "2.7.12"
  }
 },
 "nbformat": 4,
 "nbformat_minor": 1
}
